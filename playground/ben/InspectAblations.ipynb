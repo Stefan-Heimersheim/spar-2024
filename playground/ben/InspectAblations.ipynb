{
 "cells": [
  {
   "cell_type": "code",
   "execution_count": 1,
   "metadata": {},
   "outputs": [],
   "source": [
    "import torch as t\n",
    "import torch\n",
    "import numpy as np"
   ]
  },
  {
   "cell_type": "code",
   "execution_count": 7,
   "metadata": {},
   "outputs": [
    {
     "name": "stdout",
     "output_type": "stream",
     "text": [
      "{'variances': tensor([4.1817e-15, 6.6295e-15, 1.0407e-15,  ..., 0.0000e+00, 1.0407e-15,\n",
      "        0.0000e+00], device='cuda:0'), 'std_devs': tensor([6.4666e-08, 8.1422e-08, 3.2261e-08,  ..., 0.0000e+00, 3.2261e-08,\n",
      "        0.0000e+00], device='cuda:0'), 'masked_variances': tensor([1.9879e-08, 4.6915e-09,        nan,  ...,        nan,        nan,\n",
      "               nan], device='cuda:0'), 'masked_stdevs': tensor([6.4666e-08, 8.1422e-08, 3.2261e-08,  ..., 0.0000e+00, 3.2261e-08,\n",
      "        0.0000e+00], device='cuda:0'), 'masked_mse': tensor([1.7129e-11, 1.0184e-11, 1.2790e-11,  ...,        nan, 1.2790e-11,\n",
      "               nan], device='cuda:0'), 'mse': tensor([4.1818e-15, 6.6304e-15, 1.0408e-15,  ..., 0.0000e+00, 1.0408e-15,\n",
      "        0.0000e+00], device='cuda:0')}\n"
     ]
    }
   ],
   "source": [
    "# masked_mse = t.load()\n",
    "filename = \"artefacts/ablations/layer_0__feat_10715__num_batches_3.pth\"\n",
    "data = t.load(filename)\n",
    "print(data)"
   ]
  },
  {
   "cell_type": "code",
   "execution_count": 6,
   "metadata": {},
   "outputs": [
    {
     "data": {
      "text/plain": [
       "tensor(658.7570, device='cuda:0')"
      ]
     },
     "execution_count": 6,
     "metadata": {},
     "output_type": "execute_result"
    }
   ],
   "source": [
    "max(data['masked_mse'])"
   ]
  },
  {
   "cell_type": "code",
   "execution_count": 11,
   "metadata": {},
   "outputs": [],
   "source": [
    "with open(\"artefacts/similarity_measures/pearson_correlation/res_jb_sae_feature_correlation_pearson_6_7_1M_0.1.npz\", 'rb') as data:\n",
    "    corr_6_7 = np.load(data)['arr_0']"
   ]
  },
  {
   "cell_type": "code",
   "execution_count": 20,
   "metadata": {},
   "outputs": [
    {
     "data": {
      "text/plain": [
       "0.000502381059858534"
      ]
     },
     "execution_count": 20,
     "metadata": {},
     "output_type": "execute_result"
    }
   ],
   "source": [
    "np.count_nonzero(corr_6_7) / corr_6_7.size"
   ]
  },
  {
   "cell_type": "code",
   "execution_count": null,
   "metadata": {},
   "outputs": [],
   "source": []
  }
 ],
 "metadata": {
  "kernelspec": {
   "display_name": "spar",
   "language": "python",
   "name": "python3"
  },
  "language_info": {
   "codemirror_mode": {
    "name": "ipython",
    "version": 3
   },
   "file_extension": ".py",
   "mimetype": "text/x-python",
   "name": "python",
   "nbconvert_exporter": "python",
   "pygments_lexer": "ipython3",
   "version": "3.11.9"
  }
 },
 "nbformat": 4,
 "nbformat_minor": 2
}
