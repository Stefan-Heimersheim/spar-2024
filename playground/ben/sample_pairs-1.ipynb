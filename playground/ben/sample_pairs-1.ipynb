{
 "cells": [
  {
   "cell_type": "code",
   "execution_count": null,
   "metadata": {},
   "outputs": [
    {
     "ename": "NameError",
     "evalue": "name 'np' is not defined",
     "output_type": "error",
     "traceback": [
      "\u001b[0;31m---------------------------------------------------------------------------\u001b[0m",
      "\u001b[0;31mNameError\u001b[0m                                 Traceback (most recent call last)",
      "Cell \u001b[0;32mIn[1], line 2\u001b[0m\n\u001b[1;32m      1\u001b[0m filename \u001b[39m=\u001b[39m \u001b[39m\"\u001b[39m\u001b[39martefacts/similarity_measures/pearson_correlation/res_jb_sae_feature_similarity_pearson_correlation_1M_0.0_0.1.npz\u001b[39m\u001b[39m\"\u001b[39m\n\u001b[0;32m----> 2\u001b[0m \u001b[39mwith\u001b[39;00m \u001b[39mopen\u001b[39m(filename, \u001b[39m'\u001b[39m\u001b[39mrb\u001b[39m\u001b[39m'\u001b[39m) \u001b[39mas\u001b[39;00m data:interaction_scores \u001b[39m=\u001b[39m np\u001b[39m.\u001b[39mload(data)[\u001b[39m'\u001b[39m\u001b[39marr_0\u001b[39m\u001b[39m'\u001b[39m]\n",
      "\u001b[0;31mNameError\u001b[0m: name 'np' is not defined"
     ]
    }
   ],
   "source": [
    "filename = \"artefacts/similarity_measures/pearson_correlation/res_jb_sae_feature_similarity_pearson_correlation_1M_0.0_0.1.npz\"\n",
    "with open(filename, 'rb') as data:interaction_scores = np.load(data)['arr_0']"
   ]
  },
  {
   "cell_type": "code",
   "execution_count": null,
   "id": "d4606ab0-ea30-4ec8-b824-909281cc1578",
   "metadata": {},
   "outputs": [],
   "source": [
    "# %% tb\n",
    "\n",
    "import argparse\n",
    "import numpy as np\n",
    "from src.enums import Measure\n",
    "\n",
    "\n",
    "from dataclasses import dataclass\n",
    "\n",
    "@dataclass\n",
    "class Args:\n",
    "    measure: Measure = Measure.pearson\n",
    "    truncate: bool = True\n",
    "    save: bool = False"
   ]
  },
  {
   "cell_type": "code",
   "execution_count": null,
   "id": "02286701-a160-46d6-a614-3532d3949498",
   "metadata": {},
   "outputs": [
    {
     "name": "stdout",
     "output_type": "stream",
     "text": [
      "Reading full interaction scores\n",
      "Sorting each layer\n"
     ]
    }
   ],
   "source": [
    "# %%\n",
    "\n",
    "# if __name__ == \"__main__\":\n",
    "#     parser = argparse.ArgumentParser()\n",
    "#     parser.add_argument('--measure', type=Measure, help='interaction measure whose values will indicate the', default=Measure.pearson)\n",
    "#     parser.add_argument('--truncate', type=bool, help='truncates the number of feature pairs that are sampled, used only for testing bc its fast', default=False)\n",
    "#     parser.add_argument('--save', type=bool, help='whether to save results or not', default=False)\n",
    "#     args = parser.parse_args()\n",
    "\n",
    "\n",
    "args = Args() \n",
    "print(\"Reading full interaction scores\")\n",
    "if args.measure == Measure.pearson:\n",
    "    filename = \"artefacts/similarity_measures/pearson_correlation/res_jb_sae_feature_similarity_pearson_correlation_1M_0.0_0.1.npz\"\n",
    "    with open(filename, 'rb') as data:\n",
    "        interaction_scores = np.load(data)['arr_0']\n",
    "elif args.measure == Measure.jaccard:\n",
    "    filename = \"artefacts/jaccard/jaccard_2024-07-02-a.npz\"\n",
    "    with open(filename, 'rb') as data:\n",
    "        interaction_scores = np.load(data)['arr_0']\n",
    "else:\n",
    "    raise NotImplementedError(f\"Haven't gotten around to {args.measure} yet\")\n",
    "num_layers, d_sae, _ = interaction_scores.shape\n",
    "\n",
    "flattened_per_layer_scores = interaction_scores.reshape(num_layers, d_sae**2)\n",
    "if args.truncate:\n",
    "    flattened_per_layer_scores = flattened_per_layer_scores[:,:10000000]\n",
    "\n",
    "# key line, very slow\n",
    "print(\"Sorting each layer\")\n",
    "sorted_by_score_per_layer_pair_idxes = np.argsort(flattened_per_layer_scores, axis=1)\n",
    "\n",
    "layer_indices = np.arange(num_layers)[:, np.newaxis]\n",
    "\n",
    "num_pairs_to_sample = 1000\n",
    "_, curr_num_pairs_per_layer =  sorted_by_score_per_layer_pair_idxes.shape\n",
    "lower_bound_idx = int(curr_num_pairs_per_layer * 0.2)\n",
    "step_size = (curr_num_pairs_per_layer - lower_bound_idx) // num_pairs_to_sample\n",
    "\n",
    "# getting evenly spaced samples, as per https://docs.google.com/document/d/1nTVtRB9qgXsNb0NtERamyvi8a9J8MH1Q2RH17PR3iDo/edit#bookmark=id.nd6kw9yrxctg\n",
    "\n",
    "output_filename = f\"artefacts/sampled_interaction_measures/{args.measure.value}/count_{num_pairs_to_sample}\" \n",
    "\n",
    "if args.save:\n",
    "    print(f\"Saving sampled pairs per layer\")\n",
    "    np.save(\n",
    "        output_filename,\n",
    "        sorted_by_score_per_layer_pair_idxes[:, lower_bound_idx::step_size]\n",
    "    )"
   ]
  },
  {
   "cell_type": "code",
   "execution_count": null,
   "metadata": {},
   "outputs": [
    {
     "data": {
      "text/plain": [
       "'artefacts/sampled_interaction_measures/pearson_correlation/count_1000'"
      ]
     },
     "execution_count": 4,
     "metadata": {},
     "output_type": "execute_result"
    }
   ],
   "source": [
    "output_filename"
   ]
  },
  {
   "cell_type": "code",
   "execution_count": null,
   "id": "22457877-a959-4726-b762-582ee4c149b3",
   "metadata": {},
   "outputs": [],
   "source": [
    "# %% tb\n",
    "\n",
    "import argparse\n",
    "import numpy as np\n",
    "from math import prod\n",
    "from src.enums import Measure\n",
    "\n",
    "\n",
    "from dataclasses import dataclass\n",
    "\n",
    "@dataclass\n",
    "class Args:\n",
    "    measure: Measure = Measure.pearson\n",
    "    truncate: bool = True\n",
    "    save: bool = False"
   ]
  },
  {
   "cell_type": "code",
   "execution_count": null,
   "id": "593570f5-1211-4848-9752-0b09605859f7",
   "metadata": {},
   "outputs": [
    {
     "ename": "NameError",
     "evalue": "name 'sorted_desc_by_score_per_layer_pair_idxes' is not defined",
     "output_type": "error",
     "traceback": [
      "\u001b[0;31m---------------------------------------------------------------------------\u001b[0m",
      "\u001b[0;31mNameError\u001b[0m                                 Traceback (most recent call last)",
      "File \u001b[1;32m/Users/benlerner/work/spar-2024/playground/ben/sample_pairs.py:5\u001b[0m\n\u001b[1;32m      2\u001b[0m layer_indices \u001b[39m=\u001b[39m np\u001b[39m.\u001b[39marange(num_layers)[:, np\u001b[39m.\u001b[39mnewaxis]\n\u001b[1;32m      4\u001b[0m num_pairs_to_sample \u001b[39m=\u001b[39m \u001b[39m1000\u001b[39m\n\u001b[0;32m----> 5\u001b[0m _, curr_num_pairs_per_layer \u001b[39m=\u001b[39m  sorted_desc_by_score_per_layer_pair_idxes\u001b[39m.\u001b[39mshape\n\u001b[1;32m      6\u001b[0m \u001b[39m# get the nonzero percent on avg across all layers\u001b[39;00m\n\u001b[1;32m      7\u001b[0m nonzero_percent \u001b[39m=\u001b[39m np\u001b[39m.\u001b[39mcount_nonzero(flattened_per_layer_scores) \u001b[39m/\u001b[39m prod(flattened_per_layer_scores\u001b[39m.\u001b[39mshape)\n",
      "\u001b[0;31mNameError\u001b[0m: name 'sorted_desc_by_score_per_layer_pair_idxes' is not defined"
     ]
    }
   ],
   "source": [
    "# %%\n",
    "\n",
    "layer_indices = np.arange(num_layers)[:, np.newaxis]\n",
    "\n",
    "num_pairs_to_sample = 1000\n",
    "_, curr_num_pairs_per_layer =  sorted_desc_by_score_per_layer_pair_idxes.shape\n",
    "# get the nonzero percent on avg across all layers\n",
    "nonzero_percent = np.count_nonzero(flattened_per_layer_scores) / prod(flattened_per_layer_scores.shape)\n",
    "\n",
    "# try to only sample from the nonzero entries by having the same lower bound idx across all layers\n",
    "# since they're sorted in descending order by score, this'll be the right bound\n",
    "last_non_zero_idx = int(nonzero_percent * curr_num_pairs_per_layer)\n",
    "assert last_non_zero_idx <= 1, \"Not enough nonzero scores. Loosen the truncation\"\n",
    "step_size = (curr_num_pairs_per_layer - last_non_zero_idx) // num_pairs_to_sample"
   ]
  },
  {
   "cell_type": "code",
   "execution_count": null,
   "id": "275512d9-dab5-43f1-b355-2b6c6db52493",
   "metadata": {},
   "outputs": [
    {
     "ename": "NameError",
     "evalue": "name 'sorted_desc_by_score_per_layer_pair_idxes' is not defined",
     "output_type": "error",
     "traceback": [
      "\u001b[0;31m---------------------------------------------------------------------------\u001b[0m",
      "\u001b[0;31mNameError\u001b[0m                                 Traceback (most recent call last)",
      "File \u001b[1;32m/Users/benlerner/work/spar-2024/playground/ben/sample_pairs.py:5\u001b[0m\n\u001b[1;32m      2\u001b[0m layer_indices \u001b[39m=\u001b[39m np\u001b[39m.\u001b[39marange(num_layers)[:, np\u001b[39m.\u001b[39mnewaxis]\n\u001b[1;32m      4\u001b[0m num_pairs_to_sample \u001b[39m=\u001b[39m \u001b[39m1000\u001b[39m\n\u001b[0;32m----> 5\u001b[0m _, curr_num_pairs_per_layer \u001b[39m=\u001b[39m  sorted_desc_by_score_per_layer_pair_idxes\u001b[39m.\u001b[39mshape\n\u001b[1;32m      6\u001b[0m \u001b[39m# get the nonzero percent on avg across all layers\u001b[39;00m\n\u001b[1;32m      7\u001b[0m nonzero_percent \u001b[39m=\u001b[39m np\u001b[39m.\u001b[39mcount_nonzero(flattened_per_layer_scores) \u001b[39m/\u001b[39m prod(flattened_per_layer_scores\u001b[39m.\u001b[39mshape)\n",
      "\u001b[0;31mNameError\u001b[0m: name 'sorted_desc_by_score_per_layer_pair_idxes' is not defined"
     ]
    }
   ],
   "source": [
    "# %%\n",
    "\n",
    "layer_indices = np.arange(num_layers)[:, np.newaxis]\n",
    "\n",
    "num_pairs_to_sample = 1000\n",
    "_, curr_num_pairs_per_layer =  sorted_desc_by_score_per_layer_pair_idxes.shape\n",
    "# get the nonzero percent on avg across all layers\n",
    "nonzero_percent = np.count_nonzero(flattened_per_layer_scores) / prod(flattened_per_layer_scores.shape)\n",
    "\n",
    "# try to only sample from the nonzero entries by having the same lower bound idx across all layers\n",
    "# since they're sorted in descending order by score, this'll be the right bound\n",
    "last_non_zero_idx = int(nonzero_percent * curr_num_pairs_per_layer)\n",
    "assert last_non_zero_idx <= 1, \"Not enough nonzero scores. Loosen the truncation\"\n",
    "step_size = (curr_num_pairs_per_layer - last_non_zero_idx) // num_pairs_to_sample"
   ]
  },
  {
   "cell_type": "code",
   "execution_count": null,
   "id": "40fd720b-579c-4a13-becb-d5ae004b2e21",
   "metadata": {},
   "outputs": [
    {
     "name": "stdout",
     "output_type": "stream",
     "text": [
      "Reading full interaction scores\n",
      "Sorting each layer\n"
     ]
    }
   ],
   "source": [
    "# %%\n",
    "\n",
    "# if __name__ == \"__main__\":\n",
    "#     parser = argparse.ArgumentParser()\n",
    "#     parser.add_argument('--measure', type=Measure, help='interaction measure whose values will indicate the', default=Measure.pearson)\n",
    "#     parser.add_argument('--truncate', type=bool, help='truncates the number of feature pairs that are sampled, used only for testing bc its fast', default=False)\n",
    "#     parser.add_argument('--save', type=bool, help='whether to save results or not', default=False)\n",
    "#     args = parser.parse_args()\n",
    "\n",
    "\n",
    "args = Args()\n",
    "print(\"Reading full interaction scores\")\n",
    "if args.measure == Measure.pearson:\n",
    "    filename = \"artefacts/similarity_measures/pearson_correlation/res_jb_sae_feature_similarity_pearson_correlation_1M_0.0_0.1.npz\"\n",
    "    with open(filename, 'rb') as data:\n",
    "        interaction_scores = np.load(data)['arr_0']\n",
    "elif args.measure == Measure.jaccard:\n",
    "    filename = \"artefacts/jaccard/jaccard_2024-07-02-a.npz\"\n",
    "    with open(filename, 'rb') as data:\n",
    "        interaction_scores = np.load(data)['arr_0']\n",
    "else:\n",
    "    raise NotImplementedError(f\"Haven't gotten around to {args.measure} yet\")\n",
    "num_layers, d_sae, _ = interaction_scores.shape\n",
    "\n",
    "flattened_per_layer_scores = interaction_scores.reshape(num_layers, d_sae**2)\n",
    "if args.truncate:\n",
    "    flattened_per_layer_scores = flattened_per_layer_scores[:,:10000000]\n",
    "\n",
    "# key line, very slow\n",
    "print(\"Sorting each layer\")\n",
    "# the indexes of the layer pairs, per layer, sorted by the score of each pair, descending\n",
    "sorted_desc_by_score_per_layer_pair_idxes = np.argsort(flattened_per_layer_scores, axis=1)[::-1]"
   ]
  },
  {
   "cell_type": "code",
   "execution_count": null,
   "id": "92d5c39d-56c1-4119-ba2a-f820a949d00b",
   "metadata": {},
   "outputs": [
    {
     "ename": "AssertionError",
     "evalue": "Not enough nonzero scores. Loosen the truncation",
     "output_type": "error",
     "traceback": [
      "\u001b[0;31m---------------------------------------------------------------------------\u001b[0m",
      "\u001b[0;31mAssertionError\u001b[0m                            Traceback (most recent call last)",
      "File \u001b[1;32m/Users/benlerner/work/spar-2024/playground/ben/sample_pairs.py:12\u001b[0m\n\u001b[1;32m      9\u001b[0m \u001b[39m# try to only sample from the nonzero entries by having the same lower bound idx across all layers\u001b[39;00m\n\u001b[1;32m     10\u001b[0m \u001b[39m# since they're sorted in descending order by score, this'll be the right bound\u001b[39;00m\n\u001b[1;32m     11\u001b[0m last_non_zero_idx \u001b[39m=\u001b[39m \u001b[39mint\u001b[39m(nonzero_percent \u001b[39m*\u001b[39m curr_num_pairs_per_layer)\n\u001b[0;32m---> 12\u001b[0m \u001b[39massert\u001b[39;00m last_non_zero_idx \u001b[39m<\u001b[39m\u001b[39m=\u001b[39m \u001b[39m1\u001b[39m, \u001b[39m\"\u001b[39m\u001b[39mNot enough nonzero scores. Loosen the truncation\u001b[39m\u001b[39m\"\u001b[39m\n\u001b[1;32m     13\u001b[0m step_size \u001b[39m=\u001b[39m (curr_num_pairs_per_layer \u001b[39m-\u001b[39m last_non_zero_idx) \u001b[39m/\u001b[39m\u001b[39m/\u001b[39m num_pairs_to_sample\n",
      "\u001b[0;31mAssertionError\u001b[0m: Not enough nonzero scores. Loosen the truncation"
     ]
    }
   ],
   "source": [
    "# %%\n",
    "\n",
    "layer_indices = np.arange(num_layers)[:, np.newaxis]\n",
    "\n",
    "num_pairs_to_sample = 1000\n",
    "_, curr_num_pairs_per_layer =  sorted_desc_by_score_per_layer_pair_idxes.shape\n",
    "# get the nonzero percent on avg across all layers\n",
    "nonzero_percent = np.count_nonzero(flattened_per_layer_scores) / prod(flattened_per_layer_scores.shape)\n",
    "\n",
    "# try to only sample from the nonzero entries by having the same lower bound idx across all layers\n",
    "# since they're sorted in descending order by score, this'll be the right bound\n",
    "last_non_zero_idx = int(nonzero_percent * curr_num_pairs_per_layer)\n",
    "assert last_non_zero_idx <= 1, \"Not enough nonzero scores. Loosen the truncation\"\n",
    "step_size = (curr_num_pairs_per_layer - last_non_zero_idx) // num_pairs_to_sample"
   ]
  },
  {
   "cell_type": "code",
   "execution_count": null,
   "metadata": {},
   "outputs": [
    {
     "data": {
      "text/plain": [
       "0.000435"
      ]
     },
     "execution_count": 10,
     "metadata": {},
     "output_type": "execute_result"
    }
   ],
   "source": [
    "nonzero_percent"
   ]
  },
  {
   "cell_type": "code",
   "execution_count": null,
   "metadata": {},
   "outputs": [
    {
     "data": {
      "text/plain": [
       "10000000"
      ]
     },
     "execution_count": 11,
     "metadata": {},
     "output_type": "execute_result"
    }
   ],
   "source": [
    "curr_num_pairs_per_layer"
   ]
  },
  {
   "cell_type": "code",
   "execution_count": null,
   "metadata": {},
   "outputs": [
    {
     "data": {
      "text/plain": [
       "4350"
      ]
     },
     "execution_count": 12,
     "metadata": {},
     "output_type": "execute_result"
    }
   ],
   "source": [
    "last_non_zero_idx"
   ]
  },
  {
   "cell_type": "code",
   "execution_count": null,
   "metadata": {},
   "outputs": [
    {
     "data": {
      "text/plain": [
       "4350"
      ]
     },
     "execution_count": 13,
     "metadata": {},
     "output_type": "execute_result"
    }
   ],
   "source": [
    "int(nonzero_percent * curr_num_pairs_per_layer)"
   ]
  },
  {
   "cell_type": "code",
   "execution_count": null,
   "id": "1c64c221-0340-46ac-bf80-9b4ea7af5278",
   "metadata": {},
   "outputs": [],
   "source": [
    "# %%\n",
    "\n",
    "layer_indices = np.arange(num_layers)[:, np.newaxis]\n",
    "\n",
    "num_pairs_to_sample = 1000\n",
    "_, curr_num_pairs_per_layer =  sorted_desc_by_score_per_layer_pair_idxes.shape\n",
    "# get the nonzero percent on avg across all layers\n",
    "nonzero_percent = np.count_nonzero(flattened_per_layer_scores) / prod(flattened_per_layer_scores.shape)\n",
    "\n",
    "# try to only sample from the nonzero entries by having the same lower bound idx across all layers\n",
    "# since they're sorted in descending order by score, this'll be the right bound\n",
    "last_non_zero_idx = int(nonzero_percent * curr_num_pairs_per_layer)\n",
    "assert last_non_zero_idx >= 1, \"Not enough nonzero scores. Loosen the truncation\"\n",
    "step_size = (curr_num_pairs_per_layer - last_non_zero_idx) // num_pairs_to_sample"
   ]
  },
  {
   "cell_type": "code",
   "execution_count": null,
   "metadata": {},
   "outputs": [
    {
     "data": {
      "text/plain": [
       "9995"
      ]
     },
     "execution_count": 15,
     "metadata": {},
     "output_type": "execute_result"
    }
   ],
   "source": [
    "step_size"
   ]
  },
  {
   "cell_type": "code",
   "execution_count": null,
   "id": "77ae8750-44c6-4f7d-91ae-d387092ee1c5",
   "metadata": {},
   "outputs": [],
   "source": [
    "# %%\n",
    "\n",
    "layer_indices = np.arange(num_layers)[:, np.newaxis]\n",
    "\n",
    "num_pairs_to_sample = 1000\n",
    "_, curr_num_pairs_per_layer =  sorted_desc_by_score_per_layer_pair_idxes.shape\n",
    "# get the nonzero percent on avg across all layers\n",
    "nonzero_percent = np.count_nonzero(flattened_per_layer_scores) / prod(flattened_per_layer_scores.shape)\n",
    "\n",
    "# try to only sample from the nonzero entries by having the same lower bound idx across all layers\n",
    "# since they're sorted in descending order by score, this'll be the right bound\n",
    "last_non_zero_idx = int(nonzero_percent * curr_num_pairs_per_layer)\n",
    "assert last_non_zero_idx >= 1, \"Not enough nonzero scores. Loosen the truncation\"\n",
    "step_size = (curr_num_pairs_per_layer - last_non_zero_idx) // num_pairs_to_sample\n",
    "\n",
    "evenly_spaced_by_score_idxes = sorted_desc_by_score_per_layer_pair_idxes[:, :last_non_zero_idx:step_size]"
   ]
  },
  {
   "cell_type": "code",
   "execution_count": null,
   "metadata": {},
   "outputs": [
    {
     "data": {
      "text/plain": [
       "array([[0],\n",
       "       [0],\n",
       "       [0],\n",
       "       [0],\n",
       "       [0],\n",
       "       [0],\n",
       "       [0],\n",
       "       [0],\n",
       "       [0],\n",
       "       [0],\n",
       "       [0]])"
      ]
     },
     "execution_count": 17,
     "metadata": {},
     "output_type": "execute_result"
    }
   ],
   "source": [
    "evenly_spaced_by_score_idxes"
   ]
  },
  {
   "cell_type": "code",
   "execution_count": null,
   "id": "1d50004e-8283-4e74-a1bf-8a731f4e3c24",
   "metadata": {},
   "outputs": [],
   "source": [
    "# %%\n",
    "\n",
    "layer_indices = np.arange(num_layers)[:, np.newaxis]\n",
    "\n",
    "num_pairs_to_sample = 1000\n",
    "_, curr_num_pairs_per_layer =  sorted_desc_by_score_per_layer_pair_idxes.shape\n",
    "# get the nonzero percent on avg across all layers\n",
    "nonzero_percent = np.count_nonzero(flattened_per_layer_scores) / prod(flattened_per_layer_scores.shape)\n",
    "\n",
    "# try to only sample from the nonzero entries by having the same lower bound idx across all layers\n",
    "# since they're sorted in descending order by score, this'll be the right bound\n",
    "last_non_zero_idx = int(nonzero_percent * curr_num_pairs_per_layer)\n",
    "assert last_non_zero_idx >= 1, \"Not enough nonzero scores. Loosen the truncation\"\n",
    "step_size = last_non_zero_idx // num_pairs_to_sample\n",
    "\n",
    "evenly_spaced_by_score_idxes = sorted_desc_by_score_per_layer_pair_idxes[:, :last_non_zero_idx:step_size]"
   ]
  },
  {
   "cell_type": "code",
   "execution_count": null,
   "metadata": {},
   "outputs": [
    {
     "data": {
      "text/plain": [
       "array([[      0, 6665732, 6665736, ..., 6667593, 6667615, 6667487],\n",
       "       [      0, 6665664, 6665668, ..., 6667524, 6667546, 6667418],\n",
       "       [      0, 6665677, 6665681, ..., 6667537, 6667559, 6667431],\n",
       "       ...,\n",
       "       [      0, 6666116, 6666120, ..., 6667974, 6667979, 6667868],\n",
       "       [      0, 6666241, 6666245, ..., 6668099, 6668104, 6667993],\n",
       "       [      0, 6666280, 6666284, ..., 6668138, 6668143, 6668032]])"
      ]
     },
     "execution_count": 19,
     "metadata": {},
     "output_type": "execute_result"
    }
   ],
   "source": [
    "evenly_spaced_by_score_idxes"
   ]
  },
  {
   "cell_type": "code",
   "execution_count": null,
   "metadata": {},
   "outputs": [
    {
     "data": {
      "text/plain": [
       "(11, 1088)"
      ]
     },
     "execution_count": 20,
     "metadata": {},
     "output_type": "execute_result"
    }
   ],
   "source": [
    "evenly_spaced_by_score_idxes.shape"
   ]
  },
  {
   "cell_type": "code",
   "execution_count": null,
   "metadata": {},
   "outputs": [
    {
     "data": {
      "text/plain": [
       "array([      0, 6665732, 6665736, ..., 6667593, 6667615, 6667487])"
      ]
     },
     "execution_count": 21,
     "metadata": {},
     "output_type": "execute_result"
    }
   ],
   "source": [
    "evenly_spaced_by_score_idxes[0]"
   ]
  },
  {
   "cell_type": "code",
   "execution_count": null,
   "metadata": {},
   "outputs": [
    {
     "ename": "AttributeError",
     "evalue": "'numpy.ndarray' object has no attribute 'unravel_index'",
     "output_type": "error",
     "traceback": [
      "\u001b[0;31m---------------------------------------------------------------------------\u001b[0m",
      "\u001b[0;31mAttributeError\u001b[0m                            Traceback (most recent call last)",
      "Cell \u001b[0;32mIn[22], line 1\u001b[0m\n\u001b[0;32m----> 1\u001b[0m evenly_spaced_by_score_idxes[\u001b[39m0\u001b[39;49m]\u001b[39m.\u001b[39;49munravel_index()\n",
      "\u001b[0;31mAttributeError\u001b[0m: 'numpy.ndarray' object has no attribute 'unravel_index'"
     ]
    }
   ],
   "source": [
    "evenly_spaced_by_score_idxes[0].unravel_index()"
   ]
  },
  {
   "cell_type": "code",
   "execution_count": null,
   "metadata": {},
   "outputs": [
    {
     "data": {
      "text/plain": [
       "(array([  0, 271, 271, ..., 271, 271, 271]),\n",
       " array([   0, 5636, 5640, ..., 7497, 7519, 7391]))"
      ]
     },
     "execution_count": 23,
     "metadata": {},
     "output_type": "execute_result"
    }
   ],
   "source": [
    "np.unravel_index(evenly_spaced_by_score_idxes[0], (d_sae, d_sae))"
   ]
  },
  {
   "cell_type": "code",
   "execution_count": null,
   "metadata": {},
   "outputs": [
    {
     "data": {
      "text/plain": [
       "0.0"
      ]
     },
     "execution_count": 24,
     "metadata": {},
     "output_type": "execute_result"
    }
   ],
   "source": [
    "interaction_scores[0, 271, 5636]"
   ]
  },
  {
   "cell_type": "code",
   "execution_count": null,
   "metadata": {},
   "outputs": [
    {
     "data": {
      "text/plain": [
       "array([[      0, 6665729, 6665730, ..., 8123505, 5908041, 3487047],\n",
       "       [      0, 6665661, 6665662, ..., 4556750, 1652166, 8329835],\n",
       "       [      0, 6665674, 6665675, ..., 2372202, 6360067, 5929546],\n",
       "       ...,\n",
       "       [      0, 6666113, 6666114, ...,  377879, 5856433, 6616806],\n",
       "       [      0, 6666238, 6666239, ..., 1908935, 3002631, 2165419],\n",
       "       [      0, 6666277, 6666278, ..., 6504290, 8625835,  428763]])"
      ]
     },
     "execution_count": 25,
     "metadata": {},
     "output_type": "execute_result"
    }
   ],
   "source": [
    "sorted_desc_by_score_per_layer_pair_idxes"
   ]
  },
  {
   "cell_type": "code",
   "execution_count": null,
   "metadata": {},
   "outputs": [
    {
     "data": {
      "text/plain": [
       "array([[0., 0., 0., ..., 0., 0., 0.],\n",
       "       [0., 0., 0., ..., 0., 0., 0.],\n",
       "       [0., 0., 0., ..., 0., 0., 0.],\n",
       "       ...,\n",
       "       [0., 0., 0., ..., 0., 0., 0.],\n",
       "       [0., 0., 0., ..., 0., 0., 0.],\n",
       "       [0., 0., 0., ..., 0., 0., 0.]], dtype=float32)"
      ]
     },
     "execution_count": 26,
     "metadata": {},
     "output_type": "execute_result"
    }
   ],
   "source": [
    "flattened_per_layer_scores"
   ]
  },
  {
   "cell_type": "code",
   "execution_count": null,
   "metadata": {},
   "outputs": [
    {
     "data": {
      "text/plain": [
       "47850"
      ]
     },
     "execution_count": 27,
     "metadata": {},
     "output_type": "execute_result"
    }
   ],
   "source": [
    "np.count_nonzero(flattened_per_layer_scores)"
   ]
  },
  {
   "cell_type": "code",
   "execution_count": null,
   "metadata": {},
   "outputs": [
    {
     "data": {
      "text/plain": [
       "(11, 10000000)"
      ]
     },
     "execution_count": 28,
     "metadata": {},
     "output_type": "execute_result"
    }
   ],
   "source": [
    "flattened_per_layer_scores.shape"
   ]
  },
  {
   "cell_type": "code",
   "execution_count": null,
   "metadata": {},
   "outputs": [],
   "source": [
    "dim1 = evenly_spaced_by_score_idxes[0] // d_sae"
   ]
  },
  {
   "cell_type": "code",
   "execution_count": null,
   "metadata": {},
   "outputs": [],
   "source": [
    "dim1 = evenly_spaced_by_score_idxes[0] % d_sae"
   ]
  },
  {
   "cell_type": "code",
   "execution_count": null,
   "metadata": {},
   "outputs": [],
   "source": [
    "dim1 = evenly_spaced_by_score_idxes[0] // d_sae"
   ]
  },
  {
   "cell_type": "code",
   "execution_count": null,
   "metadata": {},
   "outputs": [],
   "source": [
    "dim2 = evenly_spaced_by_score_idxes[0] % d_sae"
   ]
  },
  {
   "cell_type": "code",
   "execution_count": null,
   "metadata": {},
   "outputs": [
    {
     "data": {
      "text/plain": [
       "array([  0, 271, 271, ..., 271, 271, 271])"
      ]
     },
     "execution_count": 33,
     "metadata": {},
     "output_type": "execute_result"
    }
   ],
   "source": [
    "dim1"
   ]
  },
  {
   "cell_type": "code",
   "execution_count": null,
   "metadata": {},
   "outputs": [
    {
     "data": {
      "text/plain": [
       "array([   0, 5636, 5640, ..., 7497, 7519, 7391])"
      ]
     },
     "execution_count": 34,
     "metadata": {},
     "output_type": "execute_result"
    }
   ],
   "source": [
    "dim2"
   ]
  },
  {
   "cell_type": "code",
   "execution_count": null,
   "metadata": {},
   "outputs": [
    {
     "data": {
      "text/plain": [
       "(array([  0, 271]), array([   1, 1087]))"
      ]
     },
     "execution_count": 35,
     "metadata": {},
     "output_type": "execute_result"
    }
   ],
   "source": [
    "np.unique(dim1, return_counts=True)"
   ]
  },
  {
   "cell_type": "code",
   "execution_count": null,
   "metadata": {},
   "outputs": [],
   "source": [
    "dim1 = evenly_spaced_by_score_idxes[0] // d_sae"
   ]
  },
  {
   "cell_type": "code",
   "execution_count": null,
   "metadata": {},
   "outputs": [
    {
     "data": {
      "text/plain": [
       "(array([  0, 271]), array([   1, 1087]))"
      ]
     },
     "execution_count": 37,
     "metadata": {},
     "output_type": "execute_result"
    }
   ],
   "source": [
    "np.unique(dim1, return_counts=True)"
   ]
  },
  {
   "cell_type": "code",
   "execution_count": null,
   "metadata": {},
   "outputs": [
    {
     "data": {
      "text/plain": [
       "array([[   0,  271,  271, ...,  271,  271,  271],\n",
       "       [   0, 5636, 5640, ..., 7497, 7519, 7391]])"
      ]
     },
     "execution_count": 38,
     "metadata": {},
     "output_type": "execute_result"
    }
   ],
   "source": [
    "np.vstack([dim1, dim2])"
   ]
  },
  {
   "cell_type": "code",
   "execution_count": null,
   "metadata": {},
   "outputs": [
    {
     "ename": "IndexError",
     "evalue": "too many indices for array: array is 2-dimensional, but 3 were indexed",
     "output_type": "error",
     "traceback": [
      "\u001b[0;31m---------------------------------------------------------------------------\u001b[0m",
      "\u001b[0;31mIndexError\u001b[0m                                Traceback (most recent call last)",
      "Cell \u001b[0;32mIn[39], line 1\u001b[0m\n\u001b[0;32m----> 1\u001b[0m flattened_per_layer_scores[\u001b[39m0\u001b[39;49m, \u001b[39m271\u001b[39;49m, \u001b[39m5636\u001b[39;49m]\n",
      "\u001b[0;31mIndexError\u001b[0m: too many indices for array: array is 2-dimensional, but 3 were indexed"
     ]
    }
   ],
   "source": [
    "flattened_per_layer_scores[0, 271, 5636]"
   ]
  },
  {
   "cell_type": "code",
   "execution_count": null,
   "metadata": {},
   "outputs": [
    {
     "data": {
      "text/plain": [
       "0.0"
      ]
     },
     "execution_count": 40,
     "metadata": {},
     "output_type": "execute_result"
    }
   ],
   "source": [
    "interaction_scores[0, 271, 5636]"
   ]
  },
  {
   "cell_type": "code",
   "execution_count": null,
   "id": "98194c91-24e8-40bf-9e7a-91b0e976477c",
   "metadata": {},
   "outputs": [
    {
     "name": "stdout",
     "output_type": "stream",
     "text": [
      "Reading full interaction scores\n"
     ]
    }
   ],
   "source": [
    "# %%\n",
    "\n",
    "# if __name__ == \"__main__\":\n",
    "#     parser = argparse.ArgumentParser()\n",
    "#     parser.add_argument('--measure', type=Measure, help='interaction measure whose values will indicate the', default=Measure.pearson)\n",
    "#     parser.add_argument('--truncate', type=bool, help='truncates the number of feature pairs that are sampled, used only for testing bc its fast', default=False)\n",
    "#     parser.add_argument('--save', type=bool, help='whether to save results or not', default=False)\n",
    "#     args = parser.parse_args()\n",
    "\n",
    "\n",
    "args = Args()\n",
    "print(\"Reading full interaction scores\")\n",
    "if args.measure == Measure.pearson:\n",
    "    filename = \"artefacts/similarity_measures/pearson_correlation/res_jb_sae_feature_similarity_pearson_correlation_1M_0.0_0.1.npz\"\n",
    "    with open(filename, 'rb') as data:\n",
    "        interaction_scores = np.load(data)['arr_0']\n",
    "elif args.measure == Measure.jaccard:\n",
    "    filename = \"artefacts/jaccard/jaccard_2024-07-02-a.npz\"\n",
    "    with open(filename, 'rb') as data:\n",
    "        interaction_scores = np.load(data)['arr_0']\n",
    "else:\n",
    "    raise NotImplementedError(f\"Haven't gotten around to {args.measure} yet\")\n",
    "num_layers, d_sae, _ = interaction_scores.shape"
   ]
  },
  {
   "cell_type": "code",
   "execution_count": null,
   "metadata": {},
   "outputs": [
    {
     "data": {
      "text/plain": [
       "array([[0., 0., 0., ..., 0., 0., 0.],\n",
       "       [0., 0., 0., ..., 0., 0., 0.],\n",
       "       [0., 0., 0., ..., 0., 0., 0.],\n",
       "       ...,\n",
       "       [0., 0., 0., ..., 0., 0., 0.],\n",
       "       [0., 0., 0., ..., 0., 0., 0.],\n",
       "       [0., 0., 0., ..., 0., 0., 0.]], dtype=float32)"
      ]
     },
     "execution_count": 42,
     "metadata": {},
     "output_type": "execute_result"
    }
   ],
   "source": [
    "interaction_scores.reshape(num_layers, d_sae**2)"
   ]
  },
  {
   "cell_type": "code",
   "execution_count": null,
   "metadata": {},
   "outputs": [
    {
     "data": {
      "text/plain": [
       "array([[0., 0., 0., ..., 0., 0., 0.],\n",
       "       [0., 0., 0., ..., 0., 0., 0.],\n",
       "       [0., 0., 0., ..., 0., 0., 0.],\n",
       "       ...,\n",
       "       [0., 0., 0., ..., 0., 0., 0.],\n",
       "       [0., 0., 0., ..., 0., 0., 0.],\n",
       "       [0., 0., 0., ..., 0., 0., 0.]], dtype=float32)"
      ]
     },
     "execution_count": 43,
     "metadata": {},
     "output_type": "execute_result"
    }
   ],
   "source": [
    "interaction_scores.reshape(num_layers, d_sae**2)"
   ]
  },
  {
   "cell_type": "code",
   "execution_count": null,
   "metadata": {},
   "outputs": [
    {
     "data": {
      "text/plain": [
       "10000000"
      ]
     },
     "execution_count": 44,
     "metadata": {},
     "output_type": "execute_result"
    }
   ],
   "source": [
    "10000000"
   ]
  },
  {
   "cell_type": "code",
   "execution_count": null,
   "metadata": {},
   "outputs": [
    {
     "data": {
      "text/plain": [
       "24576"
      ]
     },
     "execution_count": 45,
     "metadata": {},
     "output_type": "execute_result"
    }
   ],
   "source": [
    "interaction_scores.shape[1]"
   ]
  },
  {
   "cell_type": "code",
   "execution_count": null,
   "metadata": {},
   "outputs": [
    {
     "data": {
      "text/plain": [
       "603979776"
      ]
     },
     "execution_count": 46,
     "metadata": {},
     "output_type": "execute_result"
    }
   ],
   "source": [
    "d_sae**2"
   ]
  },
  {
   "cell_type": "code",
   "execution_count": null,
   "metadata": {},
   "outputs": [
    {
     "data": {
      "text/plain": [
       "10000000"
      ]
     },
     "execution_count": 47,
     "metadata": {},
     "output_type": "execute_result"
    }
   ],
   "source": [
    "10000000"
   ]
  },
  {
   "cell_type": "code",
   "execution_count": null,
   "metadata": {},
   "outputs": [],
   "source": [
    "flattened_per_layer_scores = interaction_scores.reshape(num_layers, d_sae**2)"
   ]
  },
  {
   "cell_type": "code",
   "execution_count": null,
   "metadata": {},
   "outputs": [
    {
     "data": {
      "text/plain": [
       "(603979776,)"
      ]
     },
     "execution_count": 49,
     "metadata": {},
     "output_type": "execute_result"
    }
   ],
   "source": [
    "flattened_per_layer_scores[0].shape"
   ]
  },
  {
   "cell_type": "code",
   "execution_count": null,
   "metadata": {},
   "outputs": [
    {
     "data": {
      "text/plain": [
       "array([337327719, 337315087, 337315280, ..., 467889802, 356989137,\n",
       "       356978314])"
      ]
     },
     "execution_count": 50,
     "metadata": {},
     "output_type": "execute_result"
    }
   ],
   "source": [
    "np.argsort(flattened_per_layer_scores[0])"
   ]
  },
  {
   "cell_type": "code",
   "execution_count": null,
   "id": "95eb43a7-6027-4236-aa91-3dea0a9b7850",
   "metadata": {},
   "outputs": [
    {
     "ename": "KeyboardInterrupt",
     "evalue": "",
     "output_type": "error",
     "traceback": [
      "\u001b[0;31m---------------------------------------------------------------------------\u001b[0m",
      "\u001b[0;31mKeyboardInterrupt\u001b[0m                         Traceback (most recent call last)",
      "File \u001b[1;32m/Users/benlerner/work/spar-2024/playground/ben/sample_pairs.py:11\u001b[0m\n\u001b[1;32m      1\u001b[0m \u001b[39mbreakpoint\u001b[39m()\n\u001b[1;32m      2\u001b[0m \u001b[39m# %%\u001b[39;00m\n\u001b[1;32m      3\u001b[0m \u001b[39m# if __name__ == \"__main__\":\u001b[39;00m\n\u001b[1;32m      4\u001b[0m \u001b[39m#     parser = argparse.ArgumentParser()\u001b[39;00m\n\u001b[0;32m   (...)\u001b[0m\n\u001b[1;32m      7\u001b[0m \u001b[39m#     parser.add_argument('--save', type=bool, help='whether to save results or not', default=False)\u001b[39;00m\n\u001b[1;32m      8\u001b[0m \u001b[39m#     args = parser.parse_args()\u001b[39;00m\n\u001b[0;32m---> 11\u001b[0m args \u001b[39m=\u001b[39m Args()\n\u001b[1;32m     12\u001b[0m \u001b[39mprint\u001b[39m(\u001b[39m\"\u001b[39m\u001b[39mReading full interaction scores\u001b[39m\u001b[39m\"\u001b[39m)\n\u001b[1;32m     13\u001b[0m \u001b[39mif\u001b[39;00m args\u001b[39m.\u001b[39mmeasure \u001b[39m==\u001b[39m Measure\u001b[39m.\u001b[39mpearson:\n",
      "File \u001b[0;32m~/work/spar-2024/.venv/lib/python3.12/site-packages/debugpy/_vendored/pydevd/_pydevd_bundle/pydevd_frame.py:1197\u001b[0m, in \u001b[0;36mPyDBFrame.trace_dispatch\u001b[0;34m(self, frame, event, arg)\u001b[0m\n\u001b[1;32m   1195\u001b[0m \u001b[39mif\u001b[39;00m is_line:\n\u001b[1;32m   1196\u001b[0m     \u001b[39mself\u001b[39m\u001b[39m.\u001b[39mset_suspend(thread, step_cmd, original_step_cmd\u001b[39m=\u001b[39minfo\u001b[39m.\u001b[39mpydev_original_step_cmd)\n\u001b[0;32m-> 1197\u001b[0m     \u001b[39mself\u001b[39;49m\u001b[39m.\u001b[39;49mdo_wait_suspend(thread, frame, event, arg)\n\u001b[1;32m   1198\u001b[0m \u001b[39melif\u001b[39;00m is_return:  \u001b[39m# return event\u001b[39;00m\n\u001b[1;32m   1199\u001b[0m     back \u001b[39m=\u001b[39m frame\u001b[39m.\u001b[39mf_back\n",
      "File \u001b[0;32m~/work/spar-2024/.venv/lib/python3.12/site-packages/debugpy/_vendored/pydevd/_pydevd_bundle/pydevd_frame.py:165\u001b[0m, in \u001b[0;36mPyDBFrame.do_wait_suspend\u001b[0;34m(self, *args, **kwargs)\u001b[0m\n\u001b[1;32m    164\u001b[0m \u001b[39mdef\u001b[39;00m \u001b[39mdo_wait_suspend\u001b[39m(\u001b[39mself\u001b[39m, \u001b[39m*\u001b[39margs, \u001b[39m*\u001b[39m\u001b[39m*\u001b[39mkwargs):\n\u001b[0;32m--> 165\u001b[0m     \u001b[39mself\u001b[39;49m\u001b[39m.\u001b[39;49m_args[\u001b[39m0\u001b[39;49m]\u001b[39m.\u001b[39;49mdo_wait_suspend(\u001b[39m*\u001b[39;49margs, \u001b[39m*\u001b[39;49m\u001b[39m*\u001b[39;49mkwargs)\n",
      "File \u001b[0;32m~/work/spar-2024/.venv/lib/python3.12/site-packages/debugpy/_vendored/pydevd/pydevd.py:2070\u001b[0m, in \u001b[0;36mPyDB.do_wait_suspend\u001b[0;34m(self, thread, frame, event, arg, exception_type)\u001b[0m\n\u001b[1;32m   2067\u001b[0m             from_this_thread\u001b[39m.\u001b[39mappend(frame_custom_thread_id)\n\u001b[1;32m   2069\u001b[0m     \u001b[39mwith\u001b[39;00m \u001b[39mself\u001b[39m\u001b[39m.\u001b[39m_threads_suspended_single_notification\u001b[39m.\u001b[39mnotify_thread_suspended(thread_id, thread, stop_reason):\n\u001b[0;32m-> 2070\u001b[0m         keep_suspended \u001b[39m=\u001b[39m \u001b[39mself\u001b[39;49m\u001b[39m.\u001b[39;49m_do_wait_suspend(thread, frame, event, arg, suspend_type, from_this_thread, frames_tracker)\n\u001b[1;32m   2072\u001b[0m frames_list \u001b[39m=\u001b[39m \u001b[39mNone\u001b[39;00m\n\u001b[1;32m   2074\u001b[0m \u001b[39mif\u001b[39;00m keep_suspended:\n\u001b[1;32m   2075\u001b[0m     \u001b[39m# This means that we should pause again after a set next statement.\u001b[39;00m\n",
      "File \u001b[0;32m~/work/spar-2024/.venv/lib/python3.12/site-packages/debugpy/_vendored/pydevd/pydevd.py:2106\u001b[0m, in \u001b[0;36mPyDB._do_wait_suspend\u001b[0;34m(self, thread, frame, event, arg, suspend_type, from_this_thread, frames_tracker)\u001b[0m\n\u001b[1;32m   2103\u001b[0m         \u001b[39mself\u001b[39m\u001b[39m.\u001b[39m_call_input_hook()\n\u001b[1;32m   2105\u001b[0m     \u001b[39mself\u001b[39m\u001b[39m.\u001b[39mprocess_internal_commands()\n\u001b[0;32m-> 2106\u001b[0m     time\u001b[39m.\u001b[39;49msleep(\u001b[39m0.01\u001b[39;49m)\n\u001b[1;32m   2108\u001b[0m \u001b[39mself\u001b[39m\u001b[39m.\u001b[39mcancel_async_evaluation(get_current_thread_id(thread), \u001b[39mstr\u001b[39m(\u001b[39mid\u001b[39m(frame)))\n\u001b[1;32m   2110\u001b[0m \u001b[39m# process any stepping instructions\u001b[39;00m\n",
      "\u001b[0;31mKeyboardInterrupt\u001b[0m: "
     ]
    }
   ],
   "source": [
    "# %%\n",
    "\n",
    "# if __name__ == \"__main__\":\n",
    "#     parser = argparse.ArgumentParser()\n",
    "#     parser.add_argument('--measure', type=Measure, help='interaction measure whose values will indicate the', default=Measure.pearson)\n",
    "#     parser.add_argument('--truncate', type=bool, help='truncates the number of feature pairs that are sampled, used only for testing bc its fast', default=False)\n",
    "#     parser.add_argument('--save', type=bool, help='whether to save results or not', default=False)\n",
    "#     args = parser.parse_args()\n",
    "\n",
    "\n",
    "args = Args()\n",
    "print(\"Reading full interaction scores\")\n",
    "if args.measure == Measure.pearson:\n",
    "    filename = \"artefacts/similarity_measures/pearson_correlation/res_jb_sae_feature_similarity_pearson_correlation_1M_0.0_0.1.npz\"\n",
    "    with open(filename, 'rb') as data:\n",
    "        interaction_scores = np.load(data)['arr_0']\n",
    "elif args.measure == Measure.jaccard:\n",
    "    filename = \"artefacts/jaccard/jaccard_2024-07-02-a.npz\"\n",
    "    with open(filename, 'rb') as data:\n",
    "        interaction_scores = np.load(data)['arr_0']\n",
    "else:\n",
    "    raise NotImplementedError(f\"Haven't gotten around to {args.measure} yet\")\n",
    "num_layers, d_sae, _ = interaction_scores.shape"
   ]
  },
  {
   "cell_type": "code",
   "execution_count": null,
   "id": "21663e18-6965-4e03-86c8-3dac5649588f",
   "metadata": {},
   "outputs": [],
   "source": [
    "# %% tb\n",
    "\n",
    "import argparse\n",
    "import numpy as np\n",
    "from math import prod\n",
    "from src.enums import Measure\n",
    "from joblib import Parallel, delayed\n",
    "\n",
    "\n",
    "from dataclasses import dataclass\n",
    "\n",
    "@dataclass\n",
    "class Args:\n",
    "    measure: Measure = Measure.pearson\n",
    "    truncate: bool = True\n",
    "    save: bool = False"
   ]
  },
  {
   "cell_type": "code",
   "execution_count": null,
   "metadata": {},
   "outputs": [
    {
     "name": "stderr",
     "output_type": "stream",
     "text": [
      "0.02s - Debugger warning: It seems that frozen modules are being used, which may\n",
      "0.00s - make the debugger miss breakpoints. Please pass -Xfrozen_modules=off\n",
      "0.00s - to python to disable frozen modules.\n",
      "0.00s - Note: Debugging will proceed. Set PYDEVD_DISABLE_FILE_VALIDATION=1 to disable this validation.\n",
      "0.00s - Debugger warning: It seems that frozen modules are being used, which may\n",
      "0.00s - make the debugger miss breakpoints. Please pass -Xfrozen_modules=off\n",
      "0.00s - to python to disable frozen modules.\n",
      "0.00s - Note: Debugging will proceed. Set PYDEVD_DISABLE_FILE_VALIDATION=1 to disable this validation.\n",
      "0.00s - Debugger warning: It seems that frozen modules are being used, which may\n",
      "0.00s - make the debugger miss breakpoints. Please pass -Xfrozen_modules=off\n",
      "0.00s - to python to disable frozen modules.\n",
      "0.00s - Note: Debugging will proceed. Set PYDEVD_DISABLE_FILE_VALIDATION=1 to disable this validation.\n",
      "0.00s - Debugger warning: It seems that frozen modules are being used, which may\n",
      "0.00s - make the debugger miss breakpoints. Please pass -Xfrozen_modules=off\n",
      "0.00s - to python to disable frozen modules.\n",
      "0.00s - Note: Debugging will proceed. Set PYDEVD_DISABLE_FILE_VALIDATION=1 to disable this validation.\n",
      "0.00s - Debugger warning: It seems that frozen modules are being used, which may\n",
      "0.00s - make the debugger miss breakpoints. Please pass -Xfrozen_modules=off\n",
      "0.00s - to python to disable frozen modules.\n",
      "0.00s - Note: Debugging will proceed. Set PYDEVD_DISABLE_FILE_VALIDATION=1 to disable this validation.\n",
      "0.00s - Debugger warning: It seems that frozen modules are being used, which may\n",
      "0.00s - make the debugger miss breakpoints. Please pass -Xfrozen_modules=off\n",
      "0.00s - to python to disable frozen modules.\n",
      "0.00s - Note: Debugging will proceed. Set PYDEVD_DISABLE_FILE_VALIDATION=1 to disable this validation.\n",
      "0.00s - Debugger warning: It seems that frozen modules are being used, which may\n",
      "0.00s - make the debugger miss breakpoints. Please pass -Xfrozen_modules=off\n",
      "0.00s - to python to disable frozen modules.\n",
      "0.00s - Note: Debugging will proceed. Set PYDEVD_DISABLE_FILE_VALIDATION=1 to disable this validation.\n",
      "0.00s - Debugger warning: It seems that frozen modules are being used, which may\n",
      "0.00s - make the debugger miss breakpoints. Please pass -Xfrozen_modules=off\n",
      "0.00s - to python to disable frozen modules.\n",
      "0.00s - Note: Debugging will proceed. Set PYDEVD_DISABLE_FILE_VALIDATION=1 to disable this validation.\n",
      "0.00s - Debugger warning: It seems that frozen modules are being used, which may\n",
      "0.00s - make the debugger miss breakpoints. Please pass -Xfrozen_modules=off\n",
      "0.00s - to python to disable frozen modules.\n",
      "0.00s - Note: Debugging will proceed. Set PYDEVD_DISABLE_FILE_VALIDATION=1 to disable this validation.\n",
      "0.00s - Debugger warning: It seems that frozen modules are being used, which may\n",
      "0.00s - make the debugger miss breakpoints. Please pass -Xfrozen_modules=off\n",
      "0.00s - to python to disable frozen modules.\n",
      "0.00s - Note: Debugging will proceed. Set PYDEVD_DISABLE_FILE_VALIDATION=1 to disable this validation.\n"
     ]
    },
    {
     "ename": "KeyboardInterrupt",
     "evalue": "",
     "output_type": "error",
     "traceback": [
      "\u001b[0;31m---------------------------------------------------------------------------\u001b[0m",
      "\u001b[0;31mKeyboardInterrupt\u001b[0m                         Traceback (most recent call last)",
      "Cell \u001b[0;32mIn[53], line 1\u001b[0m\n\u001b[0;32m----> 1\u001b[0m sorted_desc_by_score_per_layer_pair_idxes \u001b[39m=\u001b[39m np\u001b[39m.\u001b[39marray(Parallel(n_jobs\u001b[39m=\u001b[39;49m\u001b[39m-\u001b[39;49m\u001b[39m1\u001b[39;49m)(delayed(np\u001b[39m.\u001b[39;49margsort)(row) \u001b[39mfor\u001b[39;49;00m row \u001b[39min\u001b[39;49;00m  interaction_scores\u001b[39m.\u001b[39;49mreshape(num_layers, d_sae\u001b[39m*\u001b[39;49m\u001b[39m*\u001b[39;49m\u001b[39m2\u001b[39;49m)))\n",
      "File \u001b[0;32m~/work/spar-2024/.venv/lib/python3.12/site-packages/joblib/parallel.py:2007\u001b[0m, in \u001b[0;36mParallel.__call__\u001b[0;34m(self, iterable)\u001b[0m\n\u001b[1;32m   2001\u001b[0m \u001b[39m# The first item from the output is blank, but it makes the interpreter\u001b[39;00m\n\u001b[1;32m   2002\u001b[0m \u001b[39m# progress until it enters the Try/Except block of the generator and\u001b[39;00m\n\u001b[1;32m   2003\u001b[0m \u001b[39m# reaches the first `yield` statement. This starts the asynchronous\u001b[39;00m\n\u001b[1;32m   2004\u001b[0m \u001b[39m# dispatch of the tasks to the workers.\u001b[39;00m\n\u001b[1;32m   2005\u001b[0m \u001b[39mnext\u001b[39m(output)\n\u001b[0;32m-> 2007\u001b[0m \u001b[39mreturn\u001b[39;00m output \u001b[39mif\u001b[39;00m \u001b[39mself\u001b[39m\u001b[39m.\u001b[39mreturn_generator \u001b[39melse\u001b[39;00m \u001b[39mlist\u001b[39;49m(output)\n",
      "File \u001b[0;32m~/work/spar-2024/.venv/lib/python3.12/site-packages/joblib/parallel.py:1650\u001b[0m, in \u001b[0;36mParallel._get_outputs\u001b[0;34m(self, iterator, pre_dispatch)\u001b[0m\n\u001b[1;32m   1647\u001b[0m     \u001b[39myield\u001b[39;00m\n\u001b[1;32m   1649\u001b[0m     \u001b[39mwith\u001b[39;00m \u001b[39mself\u001b[39m\u001b[39m.\u001b[39m_backend\u001b[39m.\u001b[39mretrieval_context():\n\u001b[0;32m-> 1650\u001b[0m         \u001b[39myield from\u001b[39;00m \u001b[39mself\u001b[39m\u001b[39m.\u001b[39m_retrieve()\n\u001b[1;32m   1652\u001b[0m \u001b[39mexcept\u001b[39;00m \u001b[39mGeneratorExit\u001b[39;00m:\n\u001b[1;32m   1653\u001b[0m     \u001b[39m# The generator has been garbage collected before being fully\u001b[39;00m\n\u001b[1;32m   1654\u001b[0m     \u001b[39m# consumed. This aborts the remaining tasks if possible and warn\u001b[39;00m\n\u001b[1;32m   1655\u001b[0m     \u001b[39m# the user if necessary.\u001b[39;00m\n\u001b[1;32m   1656\u001b[0m     \u001b[39mself\u001b[39m\u001b[39m.\u001b[39m_exception \u001b[39m=\u001b[39m \u001b[39mTrue\u001b[39;00m\n",
      "File \u001b[0;32m~/work/spar-2024/.venv/lib/python3.12/site-packages/joblib/parallel.py:1762\u001b[0m, in \u001b[0;36mParallel._retrieve\u001b[0;34m(self)\u001b[0m\n\u001b[1;32m   1757\u001b[0m \u001b[39m# If the next job is not ready for retrieval yet, we just wait for\u001b[39;00m\n\u001b[1;32m   1758\u001b[0m \u001b[39m# async callbacks to progress.\u001b[39;00m\n\u001b[1;32m   1759\u001b[0m \u001b[39mif\u001b[39;00m ((\u001b[39mlen\u001b[39m(\u001b[39mself\u001b[39m\u001b[39m.\u001b[39m_jobs) \u001b[39m==\u001b[39m \u001b[39m0\u001b[39m) \u001b[39mor\u001b[39;00m\n\u001b[1;32m   1760\u001b[0m     (\u001b[39mself\u001b[39m\u001b[39m.\u001b[39m_jobs[\u001b[39m0\u001b[39m]\u001b[39m.\u001b[39mget_status(\n\u001b[1;32m   1761\u001b[0m         timeout\u001b[39m=\u001b[39m\u001b[39mself\u001b[39m\u001b[39m.\u001b[39mtimeout) \u001b[39m==\u001b[39m TASK_PENDING)):\n\u001b[0;32m-> 1762\u001b[0m     time\u001b[39m.\u001b[39;49msleep(\u001b[39m0.01\u001b[39;49m)\n\u001b[1;32m   1763\u001b[0m     \u001b[39mcontinue\u001b[39;00m\n\u001b[1;32m   1765\u001b[0m \u001b[39m# We need to be careful: the job list can be filling up as\u001b[39;00m\n\u001b[1;32m   1766\u001b[0m \u001b[39m# we empty it and Python list are not thread-safe by\u001b[39;00m\n\u001b[1;32m   1767\u001b[0m \u001b[39m# default hence the use of the lock\u001b[39;00m\n",
      "\u001b[0;31mKeyboardInterrupt\u001b[0m: "
     ]
    }
   ],
   "source": [
    " sorted_desc_by_score_per_layer_pair_idxes = np.array(Parallel(n_jobs=-1)(delayed(np.argsort)(row) for row in  interaction_scores.reshape(num_layers, d_sae**2)))"
   ]
  },
  {
   "cell_type": "code",
   "execution_count": null,
   "metadata": {},
   "outputs": [
    {
     "data": {
      "text/plain": [
       "array([[[0., 0., 0., ..., 0., 0., 0.],\n",
       "        [0., 0., 0., ..., 0., 0., 0.],\n",
       "        [0., 0., 0., ..., 0., 0., 0.],\n",
       "        ...,\n",
       "        [0., 0., 0., ..., 0., 0., 0.],\n",
       "        [0., 0., 0., ..., 0., 0., 0.],\n",
       "        [0., 0., 0., ..., 0., 0., 0.]],\n",
       "\n",
       "       [[0., 0., 0., ..., 0., 0., 0.],\n",
       "        [0., 0., 0., ..., 0., 0., 0.],\n",
       "        [0., 0., 0., ..., 0., 0., 0.],\n",
       "        ...,\n",
       "        [0., 0., 0., ..., 0., 0., 0.],\n",
       "        [0., 0., 0., ..., 0., 0., 0.],\n",
       "        [0., 0., 0., ..., 0., 0., 0.]],\n",
       "\n",
       "       [[0., 0., 0., ..., 0., 0., 0.],\n",
       "        [0., 0., 0., ..., 0., 0., 0.],\n",
       "        [0., 0., 0., ..., 0., 0., 0.],\n",
       "        ...,\n",
       "        [0., 0., 0., ..., 0., 0., 0.],\n",
       "        [0., 0., 0., ..., 0., 0., 0.],\n",
       "        [0., 0., 0., ..., 0., 0., 0.]],\n",
       "\n",
       "       ...,\n",
       "\n",
       "       [[0., 0., 0., ..., 0., 0., 0.],\n",
       "        [0., 0., 0., ..., 0., 0., 0.],\n",
       "        [0., 0., 0., ..., 0., 0., 0.],\n",
       "        ...,\n",
       "        [0., 0., 0., ..., 0., 0., 0.],\n",
       "        [0., 0., 0., ..., 0., 0., 0.],\n",
       "        [0., 0., 0., ..., 0., 0., 0.]],\n",
       "\n",
       "       [[0., 0., 0., ..., 0., 0., 0.],\n",
       "        [0., 0., 0., ..., 0., 0., 0.],\n",
       "        [0., 0., 0., ..., 0., 0., 0.],\n",
       "        ...,\n",
       "        [0., 0., 0., ..., 0., 0., 0.],\n",
       "        [0., 0., 0., ..., 0., 0., 0.],\n",
       "        [0., 0., 0., ..., 0., 0., 0.]],\n",
       "\n",
       "       [[0., 0., 0., ..., 0., 0., 0.],\n",
       "        [0., 0., 0., ..., 0., 0., 0.],\n",
       "        [0., 0., 0., ..., 0., 0., 0.],\n",
       "        ...,\n",
       "        [0., 0., 0., ..., 0., 0., 0.],\n",
       "        [0., 0., 0., ..., 0., 0., 0.],\n",
       "        [0., 0., 0., ..., 0., 0., 0.]]], dtype=float32)"
      ]
     },
     "execution_count": 54,
     "metadata": {},
     "output_type": "execute_result"
    }
   ],
   "source": [
    "interaction_scores"
   ]
  },
  {
   "cell_type": "code",
   "execution_count": null,
   "metadata": {},
   "outputs": [],
   "source": [
    "flattened_scores = interaction_scores.reshape(num_layers, d_sae**2)"
   ]
  },
  {
   "cell_type": "code",
   "execution_count": null,
   "metadata": {},
   "outputs": [],
   "source": [
    "argsorted_idxes = np.argsort(flattened_scores, axis=1)[::-1]"
   ]
  },
  {
   "cell_type": "code",
   "execution_count": null,
   "metadata": {},
   "outputs": [
    {
     "ename": "NameError",
     "evalue": "name 'argsorted_idxes' is not defined",
     "output_type": "error",
     "traceback": [
      "\u001b[0;31m---------------------------------------------------------------------------\u001b[0m",
      "\u001b[0;31mNameError\u001b[0m                                 Traceback (most recent call last)",
      "Cell \u001b[0;32mIn[4], line 1\u001b[0m\n\u001b[0;32m----> 1\u001b[0m argsorted_idxes\n",
      "\u001b[0;31mNameError\u001b[0m: name 'argsorted_idxes' is not defined"
     ]
    }
   ],
   "source": [
    "argsorted_idxes"
   ]
  },
  {
   "cell_type": "code",
   "execution_count": null,
   "metadata": {},
   "outputs": [],
   "source": [
    "np.save(\"artefacts/sampled_interaction_measures/full_sorted_flattened_pearson_idxes\", argsorted_idxes)"
   ]
  },
  {
   "cell_type": "code",
   "execution_count": null,
   "id": "eeacd39b-e65d-49da-a108-b61f926c4be3",
   "metadata": {},
   "outputs": [],
   "source": [
    "# %% tb\n",
    "\n",
    "import argparse\n",
    "import numpy as np\n",
    "from math import prod\n",
    "from src.enums import Measure\n",
    "from joblib import Parallel, delayed\n",
    "\n",
    "\n",
    "from dataclasses import dataclass\n",
    "\n",
    "@dataclass\n",
    "class Args:\n",
    "    measure: Measure = Measure.pearson\n",
    "    truncate: bool = True\n",
    "    save: bool = False"
   ]
  },
  {
   "cell_type": "code",
   "execution_count": null,
   "id": "3740a3ff-1dc0-4f2d-9317-f6643534c6b8",
   "metadata": {},
   "outputs": [
    {
     "name": "stdout",
     "output_type": "stream",
     "text": [
      "Reading full interaction scores\n"
     ]
    }
   ],
   "source": [
    "# %%\n",
    "\n",
    "# if __name__ == \"__main__\":\n",
    "#     parser = argparse.ArgumentParser()\n",
    "#     parser.add_argument('--measure', type=Measure, help='interaction measure whose values will indicate the', default=Measure.pearson)\n",
    "#     parser.add_argument('--truncate', type=bool, help='truncates the number of feature pairs that are sampled, used only for testing bc its fast', default=False)\n",
    "#     parser.add_argument('--save', type=bool, help='whether to save results or not', default=False)\n",
    "#     args = parser.parse_args()\n",
    "\n",
    "\n",
    "args = Args()\n",
    "print(\"Reading full interaction scores\")\n",
    "if args.measure == Measure.pearson:\n",
    "    filename = \"artefacts/similarity_measures/pearson_correlation/res_jb_sae_feature_similarity_pearson_correlation_1M_0.0_0.1.npz\"\n",
    "    with open(filename, 'rb') as data:\n",
    "        interaction_scores = np.load(data)['arr_0']\n",
    "elif args.measure == Measure.jaccard:\n",
    "    filename = \"artefacts/jaccard/jaccard_2024-07-02-a.npz\"\n",
    "    with open(filename, 'rb') as data:\n",
    "        interaction_scores = np.load(data)['arr_0']\n",
    "else:\n",
    "    raise NotImplementedError(f\"Haven't gotten around to {args.measure} yet\")\n",
    "num_layers, d_sae, _ = interaction_scores.shape"
   ]
  },
  {
   "cell_type": "code",
   "execution_count": null,
   "metadata": {},
   "outputs": [],
   "source": [
    "flattened_scores = interaction_scores.reshape(num_layers, d_sae**2)"
   ]
  },
  {
   "cell_type": "code",
   "execution_count": null,
   "metadata": {},
   "outputs": [],
   "source": [
    "argsorted_idxes = np.argsort(flattened_scores, axis=1)[::-1]\n"
   ]
  },
  {
   "cell_type": "code",
   "execution_count": null,
   "metadata": {},
   "outputs": [
    {
     "data": {
      "text/plain": [
       "array([ 86993927,         0, 402596938, ..., 482069506, 583098208,\n",
       "       583102731])"
      ]
     },
     "execution_count": 6,
     "metadata": {},
     "output_type": "execute_result"
    }
   ],
   "source": [
    "argsorted_idxes[0]"
   ]
  },
  {
   "cell_type": "code",
   "execution_count": null,
   "metadata": {},
   "outputs": [
    {
     "ename": "MemoryError",
     "evalue": "Unable to allocate 1.27 EiB for an array with shape (603979776, 603979776) and data type float32",
     "output_type": "error",
     "traceback": [
      "\u001b[0;31m---------------------------------------------------------------------------\u001b[0m",
      "\u001b[0;31mMemoryError\u001b[0m                               Traceback (most recent call last)",
      "Cell \u001b[0;32mIn[7], line 1\u001b[0m\n\u001b[0;32m----> 1\u001b[0m flattened_scores[argsorted_idxes[\u001b[39m0\u001b[39;49m]]\n",
      "\u001b[0;31mMemoryError\u001b[0m: Unable to allocate 1.27 EiB for an array with shape (603979776, 603979776) and data type float32"
     ]
    }
   ],
   "source": [
    "flattened_scores[argsorted_idxes[0]]"
   ]
  },
  {
   "cell_type": "code",
   "execution_count": null,
   "metadata": {},
   "outputs": [
    {
     "data": {
      "text/plain": [
       "array([0., 0., 0., ..., 0., 0., 0.], dtype=float32)"
      ]
     },
     "execution_count": 8,
     "metadata": {},
     "output_type": "execute_result"
    }
   ],
   "source": [
    "flattened_scores[0][argsorted_idxes[0]]"
   ]
  },
  {
   "cell_type": "code",
   "execution_count": null,
   "metadata": {},
   "outputs": [
    {
     "data": {
      "text/plain": [
       "0.0"
      ]
     },
     "execution_count": 9,
     "metadata": {},
     "output_type": "execute_result"
    }
   ],
   "source": [
    "flattened_scores[0][argsorted_idxes[0][0]]"
   ]
  },
  {
   "cell_type": "code",
   "execution_count": null,
   "metadata": {},
   "outputs": [
    {
     "data": {
      "text/plain": [
       "array([[ 86993927,         0, 402596938, ..., 482069506, 583098208,\n",
       "        583102731],\n",
       "       [142740947, 198705344, 295824851, ..., 540765343, 113348780,\n",
       "        113364127],\n",
       "       [        0, 402594202, 402594201, ..., 435466756, 170948083,\n",
       "        170930692],\n",
       "       ...,\n",
       "       [        0, 402626472, 402626471, ..., 481572846, 481576948,\n",
       "         18134529],\n",
       "       [543614872, 233170840, 171457596, ..., 292799615, 558785663,\n",
       "        544132235],\n",
       "       [337327719, 337315087, 337315280, ..., 467889802, 356989137,\n",
       "        356978314]])"
      ]
     },
     "execution_count": 10,
     "metadata": {},
     "output_type": "execute_result"
    }
   ],
   "source": [
    "argsorted_idxes"
   ]
  },
  {
   "cell_type": "code",
   "execution_count": null,
   "metadata": {},
   "outputs": [
    {
     "data": {
      "text/plain": [
       "array([ 86993927,         0, 402596938, ..., 482069506, 583098208,\n",
       "       583102731])"
      ]
     },
     "execution_count": 11,
     "metadata": {},
     "output_type": "execute_result"
    }
   ],
   "source": [
    "argsorted_idxes[0]"
   ]
  },
  {
   "cell_type": "code",
   "execution_count": null,
   "metadata": {},
   "outputs": [
    {
     "data": {
      "text/plain": [
       "array([0., 0., 0., ..., 0., 0., 0.], dtype=float32)"
      ]
     },
     "execution_count": 12,
     "metadata": {},
     "output_type": "execute_result"
    }
   ],
   "source": [
    "flattened_scores[0]"
   ]
  },
  {
   "cell_type": "code",
   "execution_count": null,
   "metadata": {},
   "outputs": [
    {
     "data": {
      "text/plain": [
       "172752"
      ]
     },
     "execution_count": 13,
     "metadata": {},
     "output_type": "execute_result"
    }
   ],
   "source": [
    "np.count_nonzero(flattened_scores[0])"
   ]
  },
  {
   "cell_type": "code",
   "execution_count": null,
   "metadata": {},
   "outputs": [
    {
     "data": {
      "text/plain": [
       "603979776"
      ]
     },
     "execution_count": 14,
     "metadata": {},
     "output_type": "execute_result"
    }
   ],
   "source": [
    "d_sae**2"
   ]
  },
  {
   "cell_type": "code",
   "execution_count": null,
   "metadata": {},
   "outputs": [
    {
     "data": {
      "text/plain": [
       "2874881"
      ]
     },
     "execution_count": 15,
     "metadata": {},
     "output_type": "execute_result"
    }
   ],
   "source": [
    "np.count_nonzero(flattened_scores)"
   ]
  },
  {
   "cell_type": "code",
   "execution_count": null,
   "metadata": {},
   "outputs": [
    {
     "data": {
      "text/plain": [
       "0.004759896132681105"
      ]
     },
     "execution_count": 16,
     "metadata": {},
     "output_type": "execute_result"
    }
   ],
   "source": [
    "2874881/603979776"
   ]
  },
  {
   "cell_type": "code",
   "execution_count": null,
   "metadata": {},
   "outputs": [
    {
     "data": {
      "text/plain": [
       "array([[0., 0., 0., ..., 0., 0., 0.],\n",
       "       [0., 0., 0., ..., 0., 0., 0.],\n",
       "       [0., 0., 0., ..., 0., 0., 0.],\n",
       "       ...,\n",
       "       [0., 0., 0., ..., 0., 0., 0.],\n",
       "       [0., 0., 0., ..., 0., 0., 0.],\n",
       "       [0., 0., 0., ..., 0., 0., 0.]], dtype=float32)"
      ]
     },
     "execution_count": 17,
     "metadata": {},
     "output_type": "execute_result"
    }
   ],
   "source": [
    "flattened_scores"
   ]
  },
  {
   "cell_type": "code",
   "execution_count": null,
   "metadata": {},
   "outputs": [
    {
     "data": {
      "text/plain": [
       "array([[[0., 0., 0., ..., 0., 0., 0.],\n",
       "        [0., 0., 0., ..., 0., 0., 0.],\n",
       "        [0., 0., 0., ..., 0., 0., 0.],\n",
       "        ...,\n",
       "        [0., 0., 0., ..., 0., 0., 0.],\n",
       "        [0., 0., 0., ..., 0., 0., 0.],\n",
       "        [0., 0., 0., ..., 0., 0., 0.]],\n",
       "\n",
       "       [[0., 0., 0., ..., 0., 0., 0.],\n",
       "        [0., 0., 0., ..., 0., 0., 0.],\n",
       "        [0., 0., 0., ..., 0., 0., 0.],\n",
       "        ...,\n",
       "        [0., 0., 0., ..., 0., 0., 0.],\n",
       "        [0., 0., 0., ..., 0., 0., 0.],\n",
       "        [0., 0., 0., ..., 0., 0., 0.]],\n",
       "\n",
       "       [[0., 0., 0., ..., 0., 0., 0.],\n",
       "        [0., 0., 0., ..., 0., 0., 0.],\n",
       "        [0., 0., 0., ..., 0., 0., 0.],\n",
       "        ...,\n",
       "        [0., 0., 0., ..., 0., 0., 0.],\n",
       "        [0., 0., 0., ..., 0., 0., 0.],\n",
       "        [0., 0., 0., ..., 0., 0., 0.]],\n",
       "\n",
       "       ...,\n",
       "\n",
       "       [[0., 0., 0., ..., 0., 0., 0.],\n",
       "        [0., 0., 0., ..., 0., 0., 0.],\n",
       "        [0., 0., 0., ..., 0., 0., 0.],\n",
       "        ...,\n",
       "        [0., 0., 0., ..., 0., 0., 0.],\n",
       "        [0., 0., 0., ..., 0., 0., 0.],\n",
       "        [0., 0., 0., ..., 0., 0., 0.]],\n",
       "\n",
       "       [[0., 0., 0., ..., 0., 0., 0.],\n",
       "        [0., 0., 0., ..., 0., 0., 0.],\n",
       "        [0., 0., 0., ..., 0., 0., 0.],\n",
       "        ...,\n",
       "        [0., 0., 0., ..., 0., 0., 0.],\n",
       "        [0., 0., 0., ..., 0., 0., 0.],\n",
       "        [0., 0., 0., ..., 0., 0., 0.]],\n",
       "\n",
       "       [[0., 0., 0., ..., 0., 0., 0.],\n",
       "        [0., 0., 0., ..., 0., 0., 0.],\n",
       "        [0., 0., 0., ..., 0., 0., 0.],\n",
       "        ...,\n",
       "        [0., 0., 0., ..., 0., 0., 0.],\n",
       "        [0., 0., 0., ..., 0., 0., 0.],\n",
       "        [0., 0., 0., ..., 0., 0., 0.]]], dtype=float32)"
      ]
     },
     "execution_count": 18,
     "metadata": {},
     "output_type": "execute_result"
    }
   ],
   "source": [
    "interaction_scores"
   ]
  },
  {
   "cell_type": "code",
   "execution_count": null,
   "metadata": {},
   "outputs": [
    {
     "data": {
      "text/plain": [
       "(11, 24576, 24576)"
      ]
     },
     "execution_count": 19,
     "metadata": {},
     "output_type": "execute_result"
    }
   ],
   "source": [
    "interaction_scores.shape"
   ]
  },
  {
   "cell_type": "code",
   "execution_count": null,
   "metadata": {},
   "outputs": [
    {
     "data": {
      "text/plain": [
       "(11, 603979776)"
      ]
     },
     "execution_count": 20,
     "metadata": {},
     "output_type": "execute_result"
    }
   ],
   "source": [
    "flattened_scores.shape"
   ]
  },
  {
   "cell_type": "code",
   "execution_count": null,
   "metadata": {},
   "outputs": [],
   "source": [
    "fake_data = 100 * [0] + [0.1, 0.2, 0.3, 0.35]"
   ]
  },
  {
   "cell_type": "code",
   "execution_count": null,
   "metadata": {},
   "outputs": [
    {
     "data": {
      "text/plain": [
       "[0,\n",
       " 0,\n",
       " 0,\n",
       " 0,\n",
       " 0,\n",
       " 0,\n",
       " 0,\n",
       " 0,\n",
       " 0,\n",
       " 0,\n",
       " 0,\n",
       " 0,\n",
       " 0,\n",
       " 0,\n",
       " 0,\n",
       " 0,\n",
       " 0,\n",
       " 0,\n",
       " 0,\n",
       " 0,\n",
       " 0,\n",
       " 0,\n",
       " 0,\n",
       " 0,\n",
       " 0,\n",
       " 0,\n",
       " 0,\n",
       " 0,\n",
       " 0,\n",
       " 0,\n",
       " 0,\n",
       " 0,\n",
       " 0,\n",
       " 0,\n",
       " 0,\n",
       " 0,\n",
       " 0,\n",
       " 0,\n",
       " 0,\n",
       " 0,\n",
       " 0,\n",
       " 0,\n",
       " 0,\n",
       " 0,\n",
       " 0,\n",
       " 0,\n",
       " 0,\n",
       " 0,\n",
       " 0,\n",
       " 0,\n",
       " 0,\n",
       " 0,\n",
       " 0,\n",
       " 0,\n",
       " 0,\n",
       " 0,\n",
       " 0,\n",
       " 0,\n",
       " 0,\n",
       " 0,\n",
       " 0,\n",
       " 0,\n",
       " 0,\n",
       " 0,\n",
       " 0,\n",
       " 0,\n",
       " 0,\n",
       " 0,\n",
       " 0,\n",
       " 0,\n",
       " 0,\n",
       " 0,\n",
       " 0,\n",
       " 0,\n",
       " 0,\n",
       " 0,\n",
       " 0,\n",
       " 0,\n",
       " 0,\n",
       " 0,\n",
       " 0,\n",
       " 0,\n",
       " 0,\n",
       " 0,\n",
       " 0,\n",
       " 0,\n",
       " 0,\n",
       " 0,\n",
       " 0,\n",
       " 0,\n",
       " 0,\n",
       " 0,\n",
       " 0,\n",
       " 0,\n",
       " 0,\n",
       " 0,\n",
       " 0,\n",
       " 0,\n",
       " 0,\n",
       " 0,\n",
       " 0.1,\n",
       " 0.2,\n",
       " 0.3,\n",
       " 0.35]"
      ]
     },
     "execution_count": 22,
     "metadata": {},
     "output_type": "execute_result"
    }
   ],
   "source": [
    "fake_data"
   ]
  },
  {
   "cell_type": "code",
   "execution_count": null,
   "metadata": {},
   "outputs": [
    {
     "data": {
      "text/plain": [
       "array([[ 86993927,         0, 402596938, ..., 482069506, 583098208,\n",
       "        583102731],\n",
       "       [142740947, 198705344, 295824851, ..., 540765343, 113348780,\n",
       "        113364127],\n",
       "       [        0, 402594202, 402594201, ..., 435466756, 170948083,\n",
       "        170930692],\n",
       "       ...,\n",
       "       [        0, 402626472, 402626471, ..., 481572846, 481576948,\n",
       "         18134529],\n",
       "       [543614872, 233170840, 171457596, ..., 292799615, 558785663,\n",
       "        544132235],\n",
       "       [337327719, 337315087, 337315280, ..., 467889802, 356989137,\n",
       "        356978314]])"
      ]
     },
     "execution_count": 23,
     "metadata": {},
     "output_type": "execute_result"
    }
   ],
   "source": [
    "argsorted_idxes"
   ]
  },
  {
   "cell_type": "code",
   "execution_count": null,
   "metadata": {},
   "outputs": [],
   "source": [
    "argsorted_idxes = np.argsort(flattened_scores, axis=1)"
   ]
  },
  {
   "cell_type": "code",
   "execution_count": null,
   "metadata": {},
   "outputs": [
    {
     "name": "stderr",
     "output_type": "stream",
     "text": [
      "Traceback (most recent call last):\n",
      "  File \"/Users/benlerner/work/spar-2024/.venv/lib/python3.12/site-packages/IPython/core/completer.py\", line 3171, in _complete\n",
      "    result = matcher(context)\n",
      "             ^^^^^^^^^^^^^^^^\n",
      "  File \"/Users/benlerner/work/spar-2024/.venv/lib/python3.12/site-packages/IPython/core/completer.py\", line 2099, in magic_matcher\n",
      "    matches = self.magic_matches(text)\n",
      "              ^^^^^^^^^^^^^^^^^^^^^^^^\n",
      "  File \"/Users/benlerner/work/spar-2024/.venv/lib/python3.12/site-packages/IPython/core/completer.py\", line 2132, in magic_matches\n",
      "    global_matches = self.global_matches(bare_text)\n",
      "                     ^^^^^^^^^^^^^^^^^^^^^^^^^^^^^^\n",
      "  File \"/Users/benlerner/work/spar-2024/.venv/lib/python3.12/site-packages/IPython/core/completer.py\", line 1113, in global_matches\n",
      "    for word in lst:\n",
      "RuntimeError: dictionary changed size during iteration\n"
     ]
    },
    {
     "data": {
      "text/plain": [
       "[0,\n",
       " 0,\n",
       " 0,\n",
       " 0,\n",
       " 0,\n",
       " 0,\n",
       " 0,\n",
       " 0,\n",
       " 0,\n",
       " 0,\n",
       " 0,\n",
       " 0,\n",
       " 0,\n",
       " 0,\n",
       " 0,\n",
       " 0,\n",
       " 0,\n",
       " 0,\n",
       " 0,\n",
       " 0,\n",
       " 0,\n",
       " 0,\n",
       " 0,\n",
       " 0,\n",
       " 0,\n",
       " 0,\n",
       " 0,\n",
       " 0,\n",
       " 0,\n",
       " 0,\n",
       " 0,\n",
       " 0,\n",
       " 0,\n",
       " 0,\n",
       " 0,\n",
       " 0,\n",
       " 0,\n",
       " 0,\n",
       " 0,\n",
       " 0,\n",
       " 0,\n",
       " 0,\n",
       " 0,\n",
       " 0,\n",
       " 0,\n",
       " 0,\n",
       " 0,\n",
       " 0,\n",
       " 0,\n",
       " 0,\n",
       " 0,\n",
       " 0,\n",
       " 0,\n",
       " 0,\n",
       " 0,\n",
       " 0,\n",
       " 0,\n",
       " 0,\n",
       " 0,\n",
       " 0,\n",
       " 0,\n",
       " 0,\n",
       " 0,\n",
       " 0,\n",
       " 0,\n",
       " 0,\n",
       " 0,\n",
       " 0,\n",
       " 0,\n",
       " 0,\n",
       " 0,\n",
       " 0,\n",
       " 0,\n",
       " 0,\n",
       " 0,\n",
       " 0,\n",
       " 0,\n",
       " 0,\n",
       " 0,\n",
       " 0,\n",
       " 0,\n",
       " 0,\n",
       " 0,\n",
       " 0,\n",
       " 0,\n",
       " 0,\n",
       " 0,\n",
       " 0,\n",
       " 0,\n",
       " 0,\n",
       " 0,\n",
       " 0,\n",
       " 0,\n",
       " 0,\n",
       " 0,\n",
       " 0,\n",
       " 0,\n",
       " 0,\n",
       " 0,\n",
       " 0,\n",
       " 0.1,\n",
       " 0.2,\n",
       " 0.3,\n",
       " 0.35]"
      ]
     },
     "execution_count": 25,
     "metadata": {},
     "output_type": "execute_result"
    }
   ],
   "source": [
    "fake_data"
   ]
  },
  {
   "cell_type": "code",
   "execution_count": null,
   "metadata": {},
   "outputs": [
    {
     "ename": "KeyboardInterrupt",
     "evalue": "",
     "output_type": "error",
     "traceback": [
      "\u001b[0;31m---------------------------------------------------------------------------\u001b[0m",
      "\u001b[0;31mKeyboardInterrupt\u001b[0m                         Traceback (most recent call last)",
      "Cell \u001b[0;32mIn[26], line 1\u001b[0m\n\u001b[0;32m----> 1\u001b[0m np\u001b[39m.\u001b[39;49mcount_nonzero(flattened_scores) \u001b[39m/\u001b[39m prod(flattened_scores)\n",
      "File \u001b[0;32m~/work/spar-2024/.venv/lib/python3.12/site-packages/numpy/core/numeric.py:476\u001b[0m, in \u001b[0;36mcount_nonzero\u001b[0;34m(a, axis, keepdims)\u001b[0m\n\u001b[1;32m    417\u001b[0m \u001b[39m\u001b[39m\u001b[39m\"\"\"\u001b[39;00m\n\u001b[1;32m    418\u001b[0m \u001b[39mCounts the number of non-zero values in the array ``a``.\u001b[39;00m\n\u001b[1;32m    419\u001b[0m \n\u001b[0;32m   (...)\u001b[0m\n\u001b[1;32m    473\u001b[0m \u001b[39m       [3]])\u001b[39;00m\n\u001b[1;32m    474\u001b[0m \u001b[39m\"\"\"\u001b[39;00m\n\u001b[1;32m    475\u001b[0m \u001b[39mif\u001b[39;00m axis \u001b[39mis\u001b[39;00m \u001b[39mNone\u001b[39;00m \u001b[39mand\u001b[39;00m \u001b[39mnot\u001b[39;00m keepdims:\n\u001b[0;32m--> 476\u001b[0m     \u001b[39mreturn\u001b[39;00m multiarray\u001b[39m.\u001b[39;49mcount_nonzero(a)\n\u001b[1;32m    478\u001b[0m a \u001b[39m=\u001b[39m asanyarray(a)\n\u001b[1;32m    480\u001b[0m \u001b[39m# TODO: this works around .astype(bool) not working properly (gh-9847)\u001b[39;00m\n",
      "\u001b[0;31mKeyboardInterrupt\u001b[0m: "
     ]
    }
   ],
   "source": [
    "np.count_nonzero(flattened_scores) / prod(flattened_scores)"
   ]
  },
  {
   "cell_type": "code",
   "execution_count": null,
   "metadata": {},
   "outputs": [],
   "source": [
    "proportion_nonzero = np.count_nonzero(flattened_scores) / prod(flattened_scores.shape)"
   ]
  },
  {
   "cell_type": "code",
   "execution_count": null,
   "metadata": {},
   "outputs": [
    {
     "data": {
      "text/plain": [
       "0.0004327178302437368"
      ]
     },
     "execution_count": 28,
     "metadata": {},
     "output_type": "execute_result"
    }
   ],
   "source": [
    "proportion_nonzero"
   ]
  },
  {
   "cell_type": "code",
   "execution_count": null,
   "metadata": {},
   "outputs": [
    {
     "data": {
      "text/plain": [
       "array([337327719, 337315087, 337315280, ..., 467889802, 356989137,\n",
       "       356978314])"
      ]
     },
     "execution_count": 29,
     "metadata": {},
     "output_type": "execute_result"
    }
   ],
   "source": [
    "argsorted_idxes[0]"
   ]
  },
  {
   "cell_type": "code",
   "execution_count": null,
   "metadata": {},
   "outputs": [
    {
     "data": {
      "text/plain": [
       "1.0000046"
      ]
     },
     "execution_count": 30,
     "metadata": {},
     "output_type": "execute_result"
    }
   ],
   "source": [
    "flattened_scores[0][argsorted_idxes[0][-1]]"
   ]
  },
  {
   "cell_type": "code",
   "execution_count": null,
   "metadata": {},
   "outputs": [
    {
     "data": {
      "text/plain": [
       "0.9987882"
      ]
     },
     "execution_count": 31,
     "metadata": {},
     "output_type": "execute_result"
    }
   ],
   "source": [
    "flattened_scores[0][argsorted_idxes[0][-100]]"
   ]
  },
  {
   "cell_type": "code",
   "execution_count": null,
   "metadata": {},
   "outputs": [
    {
     "data": {
      "text/plain": [
       "0.90520793"
      ]
     },
     "execution_count": 32,
     "metadata": {},
     "output_type": "execute_result"
    }
   ],
   "source": [
    "flattened_scores[0][argsorted_idxes[0][-10000]]"
   ]
  },
  {
   "cell_type": "code",
   "execution_count": null,
   "metadata": {},
   "outputs": [
    {
     "data": {
      "text/plain": [
       "261352.81818181818"
      ]
     },
     "execution_count": 33,
     "metadata": {},
     "output_type": "execute_result"
    }
   ],
   "source": [
    "proportion_nonzero * (d_sae * d_sae)"
   ]
  },
  {
   "cell_type": "code",
   "execution_count": null,
   "metadata": {},
   "outputs": [
    {
     "ename": "SyntaxError",
     "evalue": "invalid syntax (<ipython-input-34-ef97157edb7d>, line 1)",
     "output_type": "error",
     "traceback": [
      "\u001b[0;36m  Cell \u001b[0;32mIn[34], line 1\u001b[0;36m\u001b[0m\n\u001b[0;31m    flattened_scores[0][argsorted_idxes[0][-]]\u001b[0m\n\u001b[0m                                            ^\u001b[0m\n\u001b[0;31mSyntaxError\u001b[0m\u001b[0;31m:\u001b[0m invalid syntax\n"
     ]
    }
   ],
   "source": [
    "flattened_scores[0][argsorted_idxes[0][-]]"
   ]
  },
  {
   "cell_type": "code",
   "execution_count": null,
   "metadata": {},
   "outputs": [],
   "source": [
    "cutoff_idx = int(proportion_nonzero * (d_sae * d_sae))"
   ]
  },
  {
   "cell_type": "code",
   "execution_count": null,
   "metadata": {},
   "outputs": [
    {
     "data": {
      "text/plain": [
       "0.0"
      ]
     },
     "execution_count": 36,
     "metadata": {},
     "output_type": "execute_result"
    }
   ],
   "source": [
    "flattened_scores[0][argsorted_idxes[0][-cutoff_idx]]"
   ]
  },
  {
   "cell_type": "code",
   "execution_count": null,
   "metadata": {},
   "outputs": [
    {
     "data": {
      "text/plain": [
       "0.0"
      ]
     },
     "execution_count": 37,
     "metadata": {},
     "output_type": "execute_result"
    }
   ],
   "source": [
    "flattened_scores[0][argsorted_idxes[0][-cutoff_idx+100]]"
   ]
  },
  {
   "cell_type": "code",
   "execution_count": null,
   "metadata": {},
   "outputs": [
    {
     "data": {
      "text/plain": [
       "0.0"
      ]
     },
     "execution_count": 38,
     "metadata": {},
     "output_type": "execute_result"
    }
   ],
   "source": [
    "flattened_scores[0][argsorted_idxes[0][-cutoff_idx+1000]]"
   ]
  },
  {
   "cell_type": "code",
   "execution_count": null,
   "metadata": {},
   "outputs": [
    {
     "data": {
      "text/plain": [
       "0.105261624"
      ]
     },
     "execution_count": 39,
     "metadata": {},
     "output_type": "execute_result"
    }
   ],
   "source": [
    "flattened_scores[0][argsorted_idxes[0][-cutoff_idx+100000]]"
   ]
  },
  {
   "cell_type": "code",
   "execution_count": null,
   "metadata": {},
   "outputs": [
    {
     "data": {
      "text/plain": [
       "0.0"
      ]
     },
     "execution_count": 40,
     "metadata": {},
     "output_type": "execute_result"
    }
   ],
   "source": [
    "flattened_scores[0][argsorted_idxes[0][-cutoff_idx+60000]]"
   ]
  },
  {
   "cell_type": "code",
   "execution_count": null,
   "metadata": {},
   "outputs": [
    {
     "data": {
      "text/plain": [
       "[0,\n",
       " 0,\n",
       " 0,\n",
       " 0,\n",
       " 0,\n",
       " 0,\n",
       " 0,\n",
       " 0,\n",
       " 0,\n",
       " 0,\n",
       " 0,\n",
       " 0,\n",
       " 0,\n",
       " 0,\n",
       " 0,\n",
       " 0,\n",
       " 0,\n",
       " 0,\n",
       " 0,\n",
       " 0,\n",
       " 0,\n",
       " 0,\n",
       " 0,\n",
       " 0,\n",
       " 0,\n",
       " 0,\n",
       " 0,\n",
       " 0,\n",
       " 0,\n",
       " 0,\n",
       " 0,\n",
       " 0,\n",
       " 0,\n",
       " 0,\n",
       " 0,\n",
       " 0,\n",
       " 0,\n",
       " 0,\n",
       " 0,\n",
       " 0,\n",
       " 0,\n",
       " 0,\n",
       " 0,\n",
       " 0,\n",
       " 0,\n",
       " 0,\n",
       " 0,\n",
       " 0,\n",
       " 0,\n",
       " 0,\n",
       " 0,\n",
       " 0,\n",
       " 0,\n",
       " 0,\n",
       " 0,\n",
       " 0,\n",
       " 0,\n",
       " 0,\n",
       " 0,\n",
       " 0,\n",
       " 0,\n",
       " 0,\n",
       " 0,\n",
       " 0,\n",
       " 0,\n",
       " 0,\n",
       " 0,\n",
       " 0,\n",
       " 0,\n",
       " 0,\n",
       " 0,\n",
       " 0,\n",
       " 0,\n",
       " 0,\n",
       " 0,\n",
       " 0,\n",
       " 0,\n",
       " 0,\n",
       " 0,\n",
       " 0,\n",
       " 0,\n",
       " 0,\n",
       " 0,\n",
       " 0,\n",
       " 0,\n",
       " 0,\n",
       " 0,\n",
       " 0,\n",
       " 0,\n",
       " 0,\n",
       " 0,\n",
       " 0,\n",
       " 0,\n",
       " 0,\n",
       " 0,\n",
       " 0,\n",
       " 0,\n",
       " 0,\n",
       " 0,\n",
       " 0,\n",
       " 0.1,\n",
       " 0.2,\n",
       " 0.3,\n",
       " 0.35]"
      ]
     },
     "execution_count": 41,
     "metadata": {},
     "output_type": "execute_result"
    }
   ],
   "source": [
    "fake_data"
   ]
  },
  {
   "cell_type": "code",
   "execution_count": null,
   "metadata": {},
   "outputs": [
    {
     "data": {
      "text/plain": [
       "[0, 0, 0, 0, 0, 0, 0.1, 0.2, 0.3, 0.35]"
      ]
     },
     "execution_count": 42,
     "metadata": {},
     "output_type": "execute_result"
    }
   ],
   "source": [
    "fake_data[-10:]"
   ]
  },
  {
   "cell_type": "code",
   "execution_count": null,
   "metadata": {},
   "outputs": [],
   "source": [
    "desc_argsorted_idxes = argsorted_idxes[:, ::-1]"
   ]
  },
  {
   "cell_type": "code",
   "execution_count": null,
   "metadata": {},
   "outputs": [
    {
     "data": {
      "text/plain": [
       "array([[356978314, 356989137, 467889802, ..., 337315280, 337315087,\n",
       "        337327719],\n",
       "       [544132235, 558785663, 292799615, ..., 171457596, 233170840,\n",
       "        543614872],\n",
       "       [ 18134529, 481576948, 481572846, ..., 402626471, 402626472,\n",
       "                0],\n",
       "       ...,\n",
       "       [170930692, 170948083, 435466756, ..., 402594201, 402594202,\n",
       "                0],\n",
       "       [113364127, 113348780, 540765343, ..., 295824851, 198705344,\n",
       "        142740947],\n",
       "       [583102731, 583098208, 482069506, ..., 402596938,         0,\n",
       "         86993927]])"
      ]
     },
     "execution_count": 44,
     "metadata": {},
     "output_type": "execute_result"
    }
   ],
   "source": [
    "desc_argsorted_idxes"
   ]
  },
  {
   "cell_type": "code",
   "execution_count": null,
   "metadata": {},
   "outputs": [
    {
     "data": {
      "text/plain": [
       "1.0000046"
      ]
     },
     "execution_count": 45,
     "metadata": {},
     "output_type": "execute_result"
    }
   ],
   "source": [
    "flattened_scores[0][desc_argsorted_idxes[0][0]]"
   ]
  },
  {
   "cell_type": "code",
   "execution_count": null,
   "metadata": {},
   "outputs": [],
   "source": [
    "per_layer_nonzero = np.count_nonzero(flattened_scores, axis=1)"
   ]
  },
  {
   "cell_type": "code",
   "execution_count": null,
   "metadata": {},
   "outputs": [
    {
     "data": {
      "text/plain": [
       "(11,)"
      ]
     },
     "execution_count": 47,
     "metadata": {},
     "output_type": "execute_result"
    }
   ],
   "source": [
    "per_layer_nonzero.shape"
   ]
  },
  {
   "cell_type": "code",
   "execution_count": null,
   "metadata": {},
   "outputs": [
    {
     "data": {
      "text/plain": [
       "array([172752, 165573, 165466, 197123, 238215, 271127, 303428, 334352,\n",
       "       357107, 341060, 328678])"
      ]
     },
     "execution_count": 48,
     "metadata": {},
     "output_type": "execute_result"
    }
   ],
   "source": [
    "per_layer_nonzero"
   ]
  },
  {
   "cell_type": "code",
   "execution_count": null,
   "metadata": {},
   "outputs": [],
   "source": [
    "# I can just use these directly as the index! duh! no need to sort"
   ]
  },
  {
   "cell_type": "code",
   "execution_count": null,
   "metadata": {},
   "outputs": [
    {
     "data": {
      "text/plain": [
       "201173474"
      ]
     },
     "execution_count": 50,
     "metadata": {},
     "output_type": "execute_result"
    }
   ],
   "source": [
    "desc_argsorted_idxes[0][per_layer_nonzero[0]]"
   ]
  },
  {
   "cell_type": "code",
   "execution_count": null,
   "metadata": {},
   "outputs": [
    {
     "ename": "IndexError",
     "evalue": "index 201173474 is out of bounds for axis 0 with size 11",
     "output_type": "error",
     "traceback": [
      "\u001b[0;31m---------------------------------------------------------------------------\u001b[0m",
      "\u001b[0;31mIndexError\u001b[0m                                Traceback (most recent call last)",
      "Cell \u001b[0;32mIn[51], line 1\u001b[0m\n\u001b[0;32m----> 1\u001b[0m flattened_scores[desc_argsorted_idxes[\u001b[39m0\u001b[39;49m][per_layer_nonzero[\u001b[39m0\u001b[39;49m]]]\n",
      "\u001b[0;31mIndexError\u001b[0m: index 201173474 is out of bounds for axis 0 with size 11"
     ]
    }
   ],
   "source": [
    "flattened_scores[desc_argsorted_idxes[0][per_layer_nonzero[0]]]"
   ]
  },
  {
   "cell_type": "code",
   "execution_count": null,
   "metadata": {},
   "outputs": [
    {
     "data": {
      "text/plain": [
       "0.0"
      ]
     },
     "execution_count": 52,
     "metadata": {},
     "output_type": "execute_result"
    }
   ],
   "source": [
    "flattened_scores[0][desc_argsorted_idxes[0][per_layer_nonzero[0]]]"
   ]
  },
  {
   "cell_type": "code",
   "execution_count": null,
   "metadata": {},
   "outputs": [
    {
     "data": {
      "text/plain": [
       "0.0"
      ]
     },
     "execution_count": 53,
     "metadata": {},
     "output_type": "execute_result"
    }
   ],
   "source": [
    "flattened_scores[0][desc_argsorted_idxes[0][per_layer_nonzero[0]]-1]"
   ]
  },
  {
   "cell_type": "code",
   "execution_count": null,
   "metadata": {},
   "outputs": [
    {
     "data": {
      "text/plain": [
       "0.0"
      ]
     },
     "execution_count": 54,
     "metadata": {},
     "output_type": "execute_result"
    }
   ],
   "source": [
    "flattened_scores[0][desc_argsorted_idxes[0][per_layer_nonzero[0]]-100]"
   ]
  },
  {
   "cell_type": "code",
   "execution_count": null,
   "metadata": {},
   "outputs": [
    {
     "data": {
      "text/plain": [
       "0.0"
      ]
     },
     "execution_count": 55,
     "metadata": {},
     "output_type": "execute_result"
    }
   ],
   "source": [
    "flattened_scores[0][desc_argsorted_idxes[0][per_layer_nonzero[0]]-10000]"
   ]
  },
  {
   "cell_type": "code",
   "execution_count": null,
   "metadata": {},
   "outputs": [
    {
     "data": {
      "text/plain": [
       "0.0"
      ]
     },
     "execution_count": 56,
     "metadata": {},
     "output_type": "execute_result"
    }
   ],
   "source": [
    "flattened_scores[0][desc_argsorted_idxes[0][per_layer_nonzero[0]]-1000000]"
   ]
  },
  {
   "cell_type": "code",
   "execution_count": null,
   "metadata": {},
   "outputs": [
    {
     "data": {
      "text/plain": [
       "0.0"
      ]
     },
     "execution_count": 57,
     "metadata": {},
     "output_type": "execute_result"
    }
   ],
   "source": [
    "flattened_scores[0][desc_argsorted_idxes[0][per_layer_nonzero[0]-100]]"
   ]
  },
  {
   "cell_type": "code",
   "execution_count": null,
   "metadata": {},
   "outputs": [
    {
     "data": {
      "text/plain": [
       "0.10458563"
      ]
     },
     "execution_count": 58,
     "metadata": {},
     "output_type": "execute_result"
    }
   ],
   "source": [
    "flattened_scores[0][desc_argsorted_idxes[0][per_layer_nonzero[0]-10000]]"
   ]
  },
  {
   "cell_type": "code",
   "execution_count": null,
   "metadata": {},
   "outputs": [
    {
     "data": {
      "text/plain": [
       "0.10037219"
      ]
     },
     "execution_count": 59,
     "metadata": {},
     "output_type": "execute_result"
    }
   ],
   "source": [
    "flattened_scores[0][desc_argsorted_idxes[0][per_layer_nonzero[0]-1000]]"
   ]
  },
  {
   "cell_type": "code",
   "execution_count": null,
   "metadata": {},
   "outputs": [
    {
     "data": {
      "text/plain": [
       "0.0"
      ]
     },
     "execution_count": 60,
     "metadata": {},
     "output_type": "execute_result"
    }
   ],
   "source": [
    "flattened_scores[0][desc_argsorted_idxes[0][per_layer_nonzero[0]-100]]"
   ]
  },
  {
   "cell_type": "code",
   "execution_count": null,
   "metadata": {},
   "outputs": [
    {
     "data": {
      "text/plain": [
       "0.1001482"
      ]
     },
     "execution_count": 61,
     "metadata": {},
     "output_type": "execute_result"
    }
   ],
   "source": [
    "flattened_scores[0][desc_argsorted_idxes[0][per_layer_nonzero[0]-500]]"
   ]
  },
  {
   "cell_type": "code",
   "execution_count": null,
   "metadata": {},
   "outputs": [
    {
     "data": {
      "text/plain": [
       "array([[356978314, 356989137, 467889802, ..., 337315280, 337315087,\n",
       "        337327719],\n",
       "       [544132235, 558785663, 292799615, ..., 171457596, 233170840,\n",
       "        543614872],\n",
       "       [ 18134529, 481576948, 481572846, ..., 402626471, 402626472,\n",
       "                0],\n",
       "       ...,\n",
       "       [170930692, 170948083, 435466756, ..., 402594201, 402594202,\n",
       "                0],\n",
       "       [113364127, 113348780, 540765343, ..., 295824851, 198705344,\n",
       "        142740947],\n",
       "       [583102731, 583098208, 482069506, ..., 402596938,         0,\n",
       "         86993927]])"
      ]
     },
     "execution_count": 62,
     "metadata": {},
     "output_type": "execute_result"
    }
   ],
   "source": [
    "desc_argsorted_idxes"
   ]
  },
  {
   "cell_type": "code",
   "execution_count": null,
   "metadata": {},
   "outputs": [],
   "source": [
    "num_scores_to_sample_per_layer = 10"
   ]
  },
  {
   "cell_type": "code",
   "execution_count": null,
   "metadata": {},
   "outputs": [],
   "source": [
    "step_sizes = per_layer_nonzero // 10"
   ]
  },
  {
   "cell_type": "code",
   "execution_count": null,
   "metadata": {},
   "outputs": [
    {
     "data": {
      "text/plain": [
       "array([17275, 16557, 16546, 19712, 23821, 27112, 30342, 33435, 35710,\n",
       "       34106, 32867])"
      ]
     },
     "execution_count": 65,
     "metadata": {},
     "output_type": "execute_result"
    }
   ],
   "source": [
    "step_sizes"
   ]
  },
  {
   "cell_type": "code",
   "execution_count": null,
   "metadata": {},
   "outputs": [
    {
     "ename": "TypeError",
     "evalue": "only integer scalar arrays can be converted to a scalar index",
     "output_type": "error",
     "traceback": [
      "\u001b[0;31m---------------------------------------------------------------------------\u001b[0m",
      "\u001b[0;31mTypeError\u001b[0m                                 Traceback (most recent call last)",
      "Cell \u001b[0;32mIn[66], line 1\u001b[0m\n\u001b[0;32m----> 1\u001b[0m desc_argsorted_idxes[:, :per_layer_nonzero:step_sizes]\n",
      "\u001b[0;31mTypeError\u001b[0m: only integer scalar arrays can be converted to a scalar index"
     ]
    }
   ],
   "source": [
    "desc_argsorted_idxes[:, :per_layer_nonzero:step_sizes]"
   ]
  },
  {
   "cell_type": "code",
   "execution_count": null,
   "metadata": {},
   "outputs": [
    {
     "data": {
      "text/plain": [
       "array([172752, 165573, 165466, 197123, 238215, 271127, 303428, 334352,\n",
       "       357107, 341060, 328678])"
      ]
     },
     "execution_count": 67,
     "metadata": {},
     "output_type": "execute_result"
    }
   ],
   "source": [
    "per_layer_nonzero"
   ]
  },
  {
   "cell_type": "code",
   "execution_count": null,
   "metadata": {},
   "outputs": [
    {
     "data": {
      "text/plain": [
       "array([17275, 16557, 16546, 19712, 23821, 27112, 30342, 33435, 35710,\n",
       "       34106, 32867])"
      ]
     },
     "execution_count": 68,
     "metadata": {},
     "output_type": "execute_result"
    }
   ],
   "source": [
    "step_sizes"
   ]
  },
  {
   "cell_type": "code",
   "execution_count": null,
   "metadata": {},
   "outputs": [
    {
     "ename": "ValueError",
     "evalue": "setting an array element with a sequence. The requested array has an inhomogeneous shape after 1 dimensions. The detected shape was (11,) + inhomogeneous part.",
     "output_type": "error",
     "traceback": [
      "\u001b[0;31m---------------------------------------------------------------------------\u001b[0m",
      "\u001b[0;31mValueError\u001b[0m                                Traceback (most recent call last)",
      "Cell \u001b[0;32mIn[69], line 1\u001b[0m\n\u001b[0;32m----> 1\u001b[0m sampled_data \u001b[39m=\u001b[39m np\u001b[39m.\u001b[39;49marray(\n\u001b[1;32m      2\u001b[0m     [\n\u001b[1;32m      3\u001b[0m         desc_argsorted_idxes[layer, :end:step] \u001b[39mfor\u001b[39;49;00m layer, (end, step) \u001b[39min\u001b[39;49;00m \u001b[39menumerate\u001b[39;49m(\u001b[39mzip\u001b[39;49m(per_layer_nonzero, step_sizes))\n\u001b[1;32m      4\u001b[0m     ]\n\u001b[1;32m      5\u001b[0m )\n",
      "\u001b[0;31mValueError\u001b[0m: setting an array element with a sequence. The requested array has an inhomogeneous shape after 1 dimensions. The detected shape was (11,) + inhomogeneous part."
     ]
    }
   ],
   "source": [
    "sampled_data = np.array(\n",
    "    [\n",
    "        desc_argsorted_idxes[layer, :end:step] for layer, (end, step) in enumerate(zip(per_layer_nonzero, step_sizes))\n",
    "    ]\n",
    ")"
   ]
  },
  {
   "cell_type": "code",
   "execution_count": null,
   "metadata": {},
   "outputs": [
    {
     "ename": "NameError",
     "evalue": "name 'end_idxes' is not defined",
     "output_type": "error",
     "traceback": [
      "\u001b[0;31m---------------------------------------------------------------------------\u001b[0m",
      "\u001b[0;31mNameError\u001b[0m                                 Traceback (most recent call last)",
      "Cell \u001b[0;32mIn[70], line 1\u001b[0m\n\u001b[0;32m----> 1\u001b[0m num_elements_per_layer \u001b[39m=\u001b[39m (end_idxes \u001b[39m-\u001b[39m start_idxes) \u001b[39m/\u001b[39m\u001b[39m/\u001b[39m step_sizes\n",
      "\u001b[0;31mNameError\u001b[0m: name 'end_idxes' is not defined"
     ]
    }
   ],
   "source": [
    "num_elements_per_layer = (end_idxes - start_idxes) // step_sizes"
   ]
  },
  {
   "cell_type": "code",
   "execution_count": null,
   "metadata": {},
   "outputs": [
    {
     "data": {
      "text/plain": [
       "array([17275, 16557, 16546, 19712, 23821, 27112, 30342, 33435, 35710,\n",
       "       34106, 32867])"
      ]
     },
     "execution_count": 71,
     "metadata": {},
     "output_type": "execute_result"
    }
   ],
   "source": [
    "step_sizes"
   ]
  },
  {
   "cell_type": "code",
   "execution_count": null,
   "metadata": {},
   "outputs": [],
   "source": [
    "end_idxes = num_scores_to_sample_per_layer * step_sizes"
   ]
  },
  {
   "cell_type": "code",
   "execution_count": null,
   "metadata": {},
   "outputs": [
    {
     "data": {
      "text/plain": [
       "array([172750, 165570, 165460, 197120, 238210, 271120, 303420, 334350,\n",
       "       357100, 341060, 328670])"
      ]
     },
     "execution_count": 73,
     "metadata": {},
     "output_type": "execute_result"
    }
   ],
   "source": [
    "end_idxes"
   ]
  },
  {
   "cell_type": "code",
   "execution_count": null,
   "metadata": {},
   "outputs": [],
   "source": [
    "sampled_data = np.array(\n",
    "    [\n",
    "        desc_argsorted_idxes[layer, :end:step] for layer, (end, step) in enumerate(zip(end_idxes, step_sizes))\n",
    "    ]\n",
    ")"
   ]
  },
  {
   "cell_type": "code",
   "execution_count": null,
   "metadata": {},
   "outputs": [
    {
     "data": {
      "text/plain": [
       "array([[356978314, 291845608, 486693340,  23059239, 271265440, 340955003,\n",
       "        541184995, 237850858,  46929383, 384496104],\n",
       "       [544132235, 263472000, 426954070,  15874444, 438506111, 357310975,\n",
       "        328398199,  86423441, 322231541, 449587590],\n",
       "       [ 18134529,   2307214, 149933803, 240851699, 319204554,  19288764,\n",
       "        411347663, 402144299, 515245395, 443472835],\n",
       "       [541109862, 481984919, 593426447, 183282110, 373446634, 601787635,\n",
       "         69813037, 408567325, 134527085,   7154575],\n",
       "       [507216437, 340636636, 578055568, 409689865, 432642777, 502107666,\n",
       "        475395493, 504066393,  56754008, 144713010],\n",
       "       [416538940, 331154172, 340831456, 477391032, 578339100, 535175781,\n",
       "        584189485, 132934959, 301432712,  26445462],\n",
       "       [574429816, 160202541, 602933552, 265694414,  94076108, 584381479,\n",
       "        263699079, 242837990,  28719551, 454120294],\n",
       "       [560074210, 521579010, 435676314, 183297395,  61041832, 541470752,\n",
       "        549982207, 529571878, 439962362, 262628973],\n",
       "       [170930692, 270005185, 150807486,  42966263,   1813965, 341528593,\n",
       "        266547753, 575718564, 600206701,  65468229],\n",
       "       [113364127, 272559350, 308190920, 259460989,  12580001, 454733389,\n",
       "        332998283, 528434540, 335997447, 483649503],\n",
       "       [583102731, 529754483, 174901011,  92333449, 168739374, 531322248,\n",
       "        392041160, 296789056, 564891132,  42959955]])"
      ]
     },
     "execution_count": 75,
     "metadata": {},
     "output_type": "execute_result"
    }
   ],
   "source": [
    "sampled_data"
   ]
  },
  {
   "cell_type": "code",
   "execution_count": null,
   "metadata": {},
   "outputs": [],
   "source": [
    "sampled_idxes = np.array(\n",
    "    [\n",
    "        desc_argsorted_idxes[layer, :end:step] for layer, (end, step) in enumerate(zip(end_idxes, step_sizes))\n",
    "    ]\n",
    ")"
   ]
  },
  {
   "cell_type": "code",
   "execution_count": null,
   "metadata": {},
   "outputs": [
    {
     "data": {
      "text/plain": [
       "array([356978314, 291845608, 486693340,  23059239, 271265440, 340955003,\n",
       "       541184995, 237850858,  46929383, 384496104])"
      ]
     },
     "execution_count": 77,
     "metadata": {},
     "output_type": "execute_result"
    }
   ],
   "source": [
    "sampled_idxes[0]"
   ]
  },
  {
   "cell_type": "code",
   "execution_count": null,
   "metadata": {},
   "outputs": [
    {
     "data": {
      "text/plain": [
       "array([1.0000046 , 0.6236895 , 0.34123915, 0.2480272 , 0.19902335,\n",
       "       0.16865902, 0.14695911, 0.13084902, 0.11825435, 0.10817938],\n",
       "      dtype=float32)"
      ]
     },
     "execution_count": 78,
     "metadata": {},
     "output_type": "execute_result"
    }
   ],
   "source": [
    "flattened_scores[0][sampled_idxes[0]]"
   ]
  },
  {
   "cell_type": "code",
   "execution_count": null,
   "metadata": {},
   "outputs": [
    {
     "data": {
      "text/plain": [
       "array([[[0., 0., 0., ..., 0., 0., 0.],\n",
       "        [0., 0., 0., ..., 0., 0., 0.],\n",
       "        [0., 0., 0., ..., 0., 0., 0.],\n",
       "        ...,\n",
       "        [0., 0., 0., ..., 0., 0., 0.],\n",
       "        [0., 0., 0., ..., 0., 0., 0.],\n",
       "        [0., 0., 0., ..., 0., 0., 0.]],\n",
       "\n",
       "       [[0., 0., 0., ..., 0., 0., 0.],\n",
       "        [0., 0., 0., ..., 0., 0., 0.],\n",
       "        [0., 0., 0., ..., 0., 0., 0.],\n",
       "        ...,\n",
       "        [0., 0., 0., ..., 0., 0., 0.],\n",
       "        [0., 0., 0., ..., 0., 0., 0.],\n",
       "        [0., 0., 0., ..., 0., 0., 0.]],\n",
       "\n",
       "       [[0., 0., 0., ..., 0., 0., 0.],\n",
       "        [0., 0., 0., ..., 0., 0., 0.],\n",
       "        [0., 0., 0., ..., 0., 0., 0.],\n",
       "        ...,\n",
       "        [0., 0., 0., ..., 0., 0., 0.],\n",
       "        [0., 0., 0., ..., 0., 0., 0.],\n",
       "        [0., 0., 0., ..., 0., 0., 0.]],\n",
       "\n",
       "       ...,\n",
       "\n",
       "       [[0., 0., 0., ..., 0., 0., 0.],\n",
       "        [0., 0., 0., ..., 0., 0., 0.],\n",
       "        [0., 0., 0., ..., 0., 0., 0.],\n",
       "        ...,\n",
       "        [0., 0., 0., ..., 0., 0., 0.],\n",
       "        [0., 0., 0., ..., 0., 0., 0.],\n",
       "        [0., 0., 0., ..., 0., 0., 0.]],\n",
       "\n",
       "       [[0., 0., 0., ..., 0., 0., 0.],\n",
       "        [0., 0., 0., ..., 0., 0., 0.],\n",
       "        [0., 0., 0., ..., 0., 0., 0.],\n",
       "        ...,\n",
       "        [0., 0., 0., ..., 0., 0., 0.],\n",
       "        [0., 0., 0., ..., 0., 0., 0.],\n",
       "        [0., 0., 0., ..., 0., 0., 0.]],\n",
       "\n",
       "       [[0., 0., 0., ..., 0., 0., 0.],\n",
       "        [0., 0., 0., ..., 0., 0., 0.],\n",
       "        [0., 0., 0., ..., 0., 0., 0.],\n",
       "        ...,\n",
       "        [0., 0., 0., ..., 0., 0., 0.],\n",
       "        [0., 0., 0., ..., 0., 0., 0.],\n",
       "        [0., 0., 0., ..., 0., 0., 0.]]], dtype=float32)"
      ]
     },
     "execution_count": 79,
     "metadata": {},
     "output_type": "execute_result"
    }
   ],
   "source": [
    "interaction_scores"
   ]
  },
  {
   "cell_type": "code",
   "execution_count": null,
   "metadata": {},
   "outputs": [
    {
     "data": {
      "text/plain": [
       "(11, 24576, 24576)"
      ]
     },
     "execution_count": 80,
     "metadata": {},
     "output_type": "execute_result"
    }
   ],
   "source": [
    "interaction_scores.shape"
   ]
  },
  {
   "cell_type": "code",
   "execution_count": null,
   "metadata": {},
   "outputs": [
    {
     "data": {
      "text/plain": [
       "0.0"
      ]
     },
     "execution_count": 81,
     "metadata": {},
     "output_type": "execute_result"
    }
   ],
   "source": [
    "interaction_scores[0][230][500]"
   ]
  },
  {
   "cell_type": "code",
   "execution_count": null,
   "metadata": {},
   "outputs": [],
   "source": [
    "result = []"
   ]
  },
  {
   "cell_type": "code",
   "execution_count": null,
   "metadata": {},
   "outputs": [
    {
     "data": {
      "text/plain": [
       "[0,\n",
       " 0,\n",
       " 0,\n",
       " 0,\n",
       " 0,\n",
       " 0,\n",
       " 0,\n",
       " 0,\n",
       " 0,\n",
       " 0,\n",
       " 0,\n",
       " 0,\n",
       " 0,\n",
       " 0,\n",
       " 0,\n",
       " 0,\n",
       " 0,\n",
       " 0,\n",
       " 0,\n",
       " 0,\n",
       " 0,\n",
       " 0,\n",
       " 0,\n",
       " 0,\n",
       " 0,\n",
       " 0,\n",
       " 0,\n",
       " 0,\n",
       " 0,\n",
       " 0,\n",
       " 0,\n",
       " 0,\n",
       " 0,\n",
       " 0,\n",
       " 0,\n",
       " 0,\n",
       " 0,\n",
       " 0,\n",
       " 0,\n",
       " 0,\n",
       " 0,\n",
       " 0,\n",
       " 0,\n",
       " 0,\n",
       " 0,\n",
       " 0,\n",
       " 0,\n",
       " 0,\n",
       " 0,\n",
       " 0,\n",
       " 0,\n",
       " 0,\n",
       " 0,\n",
       " 0,\n",
       " 0,\n",
       " 0,\n",
       " 0,\n",
       " 0,\n",
       " 0,\n",
       " 0,\n",
       " 0,\n",
       " 0,\n",
       " 0,\n",
       " 0,\n",
       " 0,\n",
       " 0,\n",
       " 0,\n",
       " 0,\n",
       " 0,\n",
       " 0,\n",
       " 0,\n",
       " 0,\n",
       " 0,\n",
       " 0,\n",
       " 0,\n",
       " 0,\n",
       " 0,\n",
       " 0,\n",
       " 0,\n",
       " 0,\n",
       " 0,\n",
       " 0,\n",
       " 0,\n",
       " 0,\n",
       " 0,\n",
       " 0,\n",
       " 0,\n",
       " 0,\n",
       " 0,\n",
       " 0,\n",
       " 0,\n",
       " 0,\n",
       " 0,\n",
       " 0,\n",
       " 0,\n",
       " 0,\n",
       " 0,\n",
       " 0,\n",
       " 0,\n",
       " 0,\n",
       " 0.1,\n",
       " 0.2,\n",
       " 0.3,\n",
       " 0.35]"
      ]
     },
     "execution_count": 83,
     "metadata": {},
     "output_type": "execute_result"
    }
   ],
   "source": [
    "fake_data"
   ]
  },
  {
   "cell_type": "code",
   "execution_count": null,
   "metadata": {},
   "outputs": [],
   "source": [
    "fake_data = fake_data[-12:]"
   ]
  },
  {
   "cell_type": "code",
   "execution_count": null,
   "metadata": {},
   "outputs": [
    {
     "data": {
      "text/plain": [
       "[0, 0, 0, 0, 0, 0, 0, 0, 0.1, 0.2, 0.3, 0.35]"
      ]
     },
     "execution_count": 85,
     "metadata": {},
     "output_type": "execute_result"
    }
   ],
   "source": [
    "fake_data"
   ]
  },
  {
   "cell_type": "code",
   "execution_count": null,
   "metadata": {},
   "outputs": [
    {
     "data": {
      "text/plain": [
       "array([[0., 0., 0., ..., 0., 0., 0.],\n",
       "       [0., 0., 0., ..., 0., 0., 0.],\n",
       "       [0., 0., 0., ..., 0., 0., 0.],\n",
       "       ...,\n",
       "       [0., 0., 0., ..., 0., 0., 0.],\n",
       "       [0., 0., 0., ..., 0., 0., 0.],\n",
       "       [0., 0., 0., ..., 0., 0., 0.]], dtype=float32)"
      ]
     },
     "execution_count": 86,
     "metadata": {},
     "output_type": "execute_result"
    }
   ],
   "source": [
    "flattened_scores"
   ]
  },
  {
   "cell_type": "code",
   "execution_count": null,
   "metadata": {},
   "outputs": [
    {
     "data": {
      "text/plain": [
       "(11, 603979776)"
      ]
     },
     "execution_count": 87,
     "metadata": {},
     "output_type": "execute_result"
    }
   ],
   "source": [
    "flattened_scores.shape"
   ]
  },
  {
   "cell_type": "code",
   "execution_count": null,
   "metadata": {},
   "outputs": [
    {
     "data": {
      "text/plain": [
       "[0, 0, 0, 0, 0, 0, 0, 0, 0.1, 0.2, 0.3, 0.35]"
      ]
     },
     "execution_count": 88,
     "metadata": {},
     "output_type": "execute_result"
    }
   ],
   "source": [
    "fake_data"
   ]
  },
  {
   "cell_type": "code",
   "execution_count": null,
   "metadata": {},
   "outputs": [
    {
     "data": {
      "text/plain": [
       "array([356978314, 356989137, 467889802, ..., 337315280, 337315087,\n",
       "       337327719])"
      ]
     },
     "execution_count": 89,
     "metadata": {},
     "output_type": "execute_result"
    }
   ],
   "source": [
    "desc_argsorted_idxes[0]"
   ]
  },
  {
   "cell_type": "code",
   "execution_count": null,
   "metadata": {},
   "outputs": [
    {
     "data": {
      "text/plain": [
       "array([172752, 165573, 165466, 197123, 238215, 271127, 303428, 334352,\n",
       "       357107, 341060, 328678])"
      ]
     },
     "execution_count": 90,
     "metadata": {},
     "output_type": "execute_result"
    }
   ],
   "source": [
    "per_layer_nonzero"
   ]
  },
  {
   "cell_type": "code",
   "execution_count": null,
   "metadata": {},
   "outputs": [
    {
     "data": {
      "text/plain": [
       "603979776"
      ]
     },
     "execution_count": 91,
     "metadata": {},
     "output_type": "execute_result"
    }
   ],
   "source": [
    "d_sae**2"
   ]
  },
  {
   "cell_type": "code",
   "execution_count": null,
   "metadata": {},
   "outputs": [
    {
     "data": {
      "text/plain": [
       "array([172750, 165570, 165460, 197120, 238210, 271120, 303420, 334350,\n",
       "       357100, 341060, 328670])"
      ]
     },
     "execution_count": 92,
     "metadata": {},
     "output_type": "execute_result"
    }
   ],
   "source": [
    "end_idxes"
   ]
  },
  {
   "cell_type": "code",
   "execution_count": null,
   "metadata": {},
   "outputs": [
    {
     "data": {
      "text/plain": [
       "array([17275, 16557, 16546, 19712, 23821, 27112, 30342, 33435, 35710,\n",
       "       34106, 32867])"
      ]
     },
     "execution_count": 93,
     "metadata": {},
     "output_type": "execute_result"
    }
   ],
   "source": [
    "step_sizes"
   ]
  },
  {
   "cell_type": "code",
   "execution_count": null,
   "metadata": {},
   "outputs": [
    {
     "data": {
      "text/plain": [
       "[]"
      ]
     },
     "execution_count": 94,
     "metadata": {},
     "output_type": "execute_result"
    }
   ],
   "source": [
    "result"
   ]
  },
  {
   "cell_type": "code",
   "execution_count": null,
   "metadata": {},
   "outputs": [
    {
     "data": {
      "text/plain": [
       "array([[356978314, 291845608, 486693340,  23059239, 271265440, 340955003,\n",
       "        541184995, 237850858,  46929383, 384496104],\n",
       "       [544132235, 263472000, 426954070,  15874444, 438506111, 357310975,\n",
       "        328398199,  86423441, 322231541, 449587590],\n",
       "       [ 18134529,   2307214, 149933803, 240851699, 319204554,  19288764,\n",
       "        411347663, 402144299, 515245395, 443472835],\n",
       "       [541109862, 481984919, 593426447, 183282110, 373446634, 601787635,\n",
       "         69813037, 408567325, 134527085,   7154575],\n",
       "       [507216437, 340636636, 578055568, 409689865, 432642777, 502107666,\n",
       "        475395493, 504066393,  56754008, 144713010],\n",
       "       [416538940, 331154172, 340831456, 477391032, 578339100, 535175781,\n",
       "        584189485, 132934959, 301432712,  26445462],\n",
       "       [574429816, 160202541, 602933552, 265694414,  94076108, 584381479,\n",
       "        263699079, 242837990,  28719551, 454120294],\n",
       "       [560074210, 521579010, 435676314, 183297395,  61041832, 541470752,\n",
       "        549982207, 529571878, 439962362, 262628973],\n",
       "       [170930692, 270005185, 150807486,  42966263,   1813965, 341528593,\n",
       "        266547753, 575718564, 600206701,  65468229],\n",
       "       [113364127, 272559350, 308190920, 259460989,  12580001, 454733389,\n",
       "        332998283, 528434540, 335997447, 483649503],\n",
       "       [583102731, 529754483, 174901011,  92333449, 168739374, 531322248,\n",
       "        392041160, 296789056, 564891132,  42959955]])"
      ]
     },
     "execution_count": 95,
     "metadata": {},
     "output_type": "execute_result"
    }
   ],
   "source": [
    "sampled_idxes"
   ]
  },
  {
   "cell_type": "code",
   "execution_count": null,
   "metadata": {},
   "outputs": [],
   "source": [
    "def get_sampled_idxes(desc_argsorted_idxes_, num_samples_per_layer: int):\n",
    "    count_nonzero_per_layer = np.count_nonzero(desc_argsorted_idxes_, axis=1)\n",
    "    step_sizes = count_nonzero_per_layer // num_samples_per_layer\n",
    "    assert min(step_sizes) > 0, \"count_nonzero < num_samples\"\n",
    "    end_idxes = step_sizes * num_samples_per_layer\n",
    "    return np.array(\n",
    "        [\n",
    "            desc_argsorted_idxes_[layer, :end:step]\n",
    "            for layer, (end, step) in enumerate(zip(end_idxes, step_sizes))\n",
    "        ]\n",
    "    )\n",
    "    "
   ]
  },
  {
   "cell_type": "code",
   "execution_count": null,
   "metadata": {},
   "outputs": [
    {
     "ename": "TypeError",
     "evalue": "get_sampled_idxes() missing 1 required positional argument: 'num_samples_per_layer'",
     "output_type": "error",
     "traceback": [
      "\u001b[0;31m---------------------------------------------------------------------------\u001b[0m",
      "\u001b[0;31mTypeError\u001b[0m                                 Traceback (most recent call last)",
      "Cell \u001b[0;32mIn[97], line 1\u001b[0m\n\u001b[0;32m----> 1\u001b[0m sampled_idxes_2 \u001b[39m=\u001b[39m get_sampled_idxes(desc_argsorted_idxes)\n",
      "\u001b[0;31mTypeError\u001b[0m: get_sampled_idxes() missing 1 required positional argument: 'num_samples_per_layer'"
     ]
    }
   ],
   "source": [
    "sampled_idxes_2 = get_sampled_idxes(desc_argsorted_idxes)"
   ]
  },
  {
   "cell_type": "code",
   "execution_count": null,
   "metadata": {},
   "outputs": [],
   "source": [
    "sampled_idxes_2 = get_sampled_idxes(desc_argsorted_idxes, 1000)"
   ]
  },
  {
   "cell_type": "code",
   "execution_count": null,
   "metadata": {},
   "outputs": [
    {
     "data": {
      "text/plain": [
       "array([[356978314, 201399193, 200979598, ..., 402067261, 401434908,\n",
       "        403220124],\n",
       "       [544132235, 201402777, 200843101, ..., 402067416, 401435287,\n",
       "        403218961],\n",
       "       [ 18134529, 201496736, 200978588, ..., 402067964, 401436073,\n",
       "        403219832],\n",
       "       ...,\n",
       "       [170930692, 201604984, 201133774, ..., 402037280, 401404520,\n",
       "        403187723],\n",
       "       [113364127, 201376754, 201122782, ..., 402038465, 401407224,\n",
       "        403190441],\n",
       "       [583102731, 201596464, 200649424, ..., 402038469, 401407287,\n",
       "        403190349]])"
      ]
     },
     "execution_count": 99,
     "metadata": {},
     "output_type": "execute_result"
    }
   ],
   "source": [
    "sampled_idxes_2"
   ]
  },
  {
   "cell_type": "code",
   "execution_count": null,
   "metadata": {},
   "outputs": [
    {
     "data": {
      "text/plain": [
       "(11, 1000)"
      ]
     },
     "execution_count": 100,
     "metadata": {},
     "output_type": "execute_result"
    }
   ],
   "source": [
    "sampled_idxes_2.shape"
   ]
  },
  {
   "cell_type": "code",
   "execution_count": null,
   "metadata": {},
   "outputs": [
    {
     "ename": "NameError",
     "evalue": "name 'flattened_per_layer_scores' is not defined",
     "output_type": "error",
     "traceback": [
      "\u001b[0;31m---------------------------------------------------------------------------\u001b[0m",
      "\u001b[0;31mNameError\u001b[0m                                 Traceback (most recent call last)",
      "Cell \u001b[0;32mIn[101], line 1\u001b[0m\n\u001b[0;32m----> 1\u001b[0m flattened_per_layer_scores[\u001b[39m0\u001b[39m][sampled_idxes_2[\u001b[39m0\u001b[39m]]\n",
      "\u001b[0;31mNameError\u001b[0m: name 'flattened_per_layer_scores' is not defined"
     ]
    }
   ],
   "source": [
    "flattened_per_layer_scores[0][sampled_idxes_2[0]]"
   ]
  },
  {
   "cell_type": "code",
   "execution_count": null,
   "metadata": {},
   "outputs": [
    {
     "data": {
      "text/plain": [
       "array([1.0000046, 0.       , 0.       , 0.       , 0.       , 0.       ,\n",
       "       0.       , 0.       , 0.       , 0.       , 0.       , 0.       ,\n",
       "       0.       , 0.       , 0.       , 0.       , 0.       , 0.       ,\n",
       "       0.       , 0.       , 0.       , 0.       , 0.       , 0.       ,\n",
       "       0.       , 0.       , 0.       , 0.       , 0.       , 0.       ,\n",
       "       0.       , 0.       , 0.       , 0.       , 0.       , 0.       ,\n",
       "       0.       , 0.       , 0.       , 0.       , 0.       , 0.       ,\n",
       "       0.       , 0.       , 0.       , 0.       , 0.       , 0.       ,\n",
       "       0.       , 0.       , 0.       , 0.       , 0.       , 0.       ,\n",
       "       0.       , 0.       , 0.       , 0.       , 0.       , 0.       ,\n",
       "       0.       , 0.       , 0.       , 0.       , 0.       , 0.       ,\n",
       "       0.       , 0.       , 0.       , 0.       , 0.       , 0.       ,\n",
       "       0.       , 0.       , 0.       , 0.       , 0.       , 0.       ,\n",
       "       0.       , 0.       , 0.       , 0.       , 0.       , 0.       ,\n",
       "       0.       , 0.       , 0.       , 0.       , 0.       , 0.       ,\n",
       "       0.       , 0.       , 0.       , 0.       , 0.       , 0.       ,\n",
       "       0.       , 0.       , 0.       , 0.       , 0.       , 0.       ,\n",
       "       0.       , 0.       , 0.       , 0.       , 0.       , 0.       ,\n",
       "       0.       , 0.       , 0.       , 0.       , 0.       , 0.       ,\n",
       "       0.       , 0.       , 0.       , 0.       , 0.       , 0.       ,\n",
       "       0.       , 0.       , 0.       , 0.       , 0.       , 0.       ,\n",
       "       0.       , 0.       , 0.       , 0.       , 0.       , 0.       ,\n",
       "       0.       , 0.       , 0.       , 0.       , 0.       , 0.       ,\n",
       "       0.       , 0.       , 0.       , 0.       , 0.       , 0.       ,\n",
       "       0.       , 0.       , 0.       , 0.       , 0.       , 0.       ,\n",
       "       0.       , 0.       , 0.       , 0.       , 0.       , 0.       ,\n",
       "       0.       , 0.       , 0.       , 0.       , 0.       , 0.       ,\n",
       "       0.       , 0.       , 0.       , 0.       , 0.       , 0.       ,\n",
       "       0.       , 0.       , 0.       , 0.       , 0.       , 0.       ,\n",
       "       0.       , 0.       , 0.       , 0.       , 0.       , 0.       ,\n",
       "       0.       , 0.       , 0.       , 0.       , 0.       , 0.       ,\n",
       "       0.       , 0.       , 0.       , 0.       , 0.       , 0.       ,\n",
       "       0.       , 0.       , 0.       , 0.       , 0.       , 0.       ,\n",
       "       0.       , 0.       , 0.       , 0.       , 0.       , 0.       ,\n",
       "       0.       , 0.       , 0.       , 0.       , 0.       , 0.       ,\n",
       "       0.       , 0.       , 0.       , 0.       , 0.       , 0.       ,\n",
       "       0.       , 0.       , 0.       , 0.       , 0.       , 0.       ,\n",
       "       0.       , 0.       , 0.       , 0.       , 0.       , 0.       ,\n",
       "       0.       , 0.       , 0.       , 0.       , 0.       , 0.       ,\n",
       "       0.       , 0.       , 0.       , 0.       , 0.       , 0.       ,\n",
       "       0.       , 0.       , 0.       , 0.       , 0.       , 0.       ,\n",
       "       0.       , 0.       , 0.       , 0.       , 0.       , 0.       ,\n",
       "       0.       , 0.       , 0.       , 0.       , 0.       , 0.       ,\n",
       "       0.       , 0.       , 0.       , 0.       , 0.       , 0.       ,\n",
       "       0.       , 0.       , 0.       , 0.       , 0.       , 0.       ,\n",
       "       0.       , 0.       , 0.       , 0.       , 0.       , 0.       ,\n",
       "       0.       , 0.       , 0.       , 0.       , 0.       , 0.       ,\n",
       "       0.       , 0.       , 0.       , 0.       , 0.       , 0.       ,\n",
       "       0.       , 0.       , 0.       , 0.       , 0.       , 0.       ,\n",
       "       0.       , 0.       , 0.       , 0.       , 0.       , 0.       ,\n",
       "       0.       , 0.       , 0.       , 0.       , 0.       , 0.       ,\n",
       "       0.       , 0.       , 0.       , 0.       , 0.       , 0.       ,\n",
       "       0.       , 0.       , 0.       , 0.       , 0.       , 0.       ,\n",
       "       0.       , 0.       , 0.       , 0.       , 0.       , 0.       ,\n",
       "       0.       , 0.       , 0.       , 0.       , 0.       , 0.       ,\n",
       "       0.       , 0.       , 0.       , 0.       , 0.       , 0.       ,\n",
       "       0.       , 0.       , 0.       , 0.       , 0.       , 0.       ,\n",
       "       0.       , 0.       , 0.       , 0.       , 0.       , 0.       ,\n",
       "       0.       , 0.       , 0.       , 0.       , 0.       , 0.       ,\n",
       "       0.       , 0.       , 0.       , 0.       , 0.       , 0.       ,\n",
       "       0.       , 0.       , 0.       , 0.       , 0.       , 0.       ,\n",
       "       0.       , 0.       , 0.       , 0.       , 0.       , 0.       ,\n",
       "       0.       , 0.       , 0.       , 0.       , 0.       , 0.       ,\n",
       "       0.       , 0.       , 0.       , 0.       , 0.       , 0.       ,\n",
       "       0.       , 0.       , 0.       , 0.       , 0.       , 0.       ,\n",
       "       0.       , 0.       , 0.       , 0.       , 0.       , 0.       ,\n",
       "       0.       , 0.       , 0.       , 0.       , 0.       , 0.       ,\n",
       "       0.       , 0.       , 0.       , 0.       , 0.       , 0.       ,\n",
       "       0.       , 0.       , 0.       , 0.       , 0.       , 0.       ,\n",
       "       0.       , 0.       , 0.       , 0.       , 0.       , 0.       ,\n",
       "       0.       , 0.       , 0.       , 0.       , 0.       , 0.       ,\n",
       "       0.       , 0.       , 0.       , 0.       , 0.       , 0.       ,\n",
       "       0.       , 0.       , 0.       , 0.       , 0.       , 0.       ,\n",
       "       0.       , 0.       , 0.       , 0.       , 0.       , 0.       ,\n",
       "       0.       , 0.       , 0.       , 0.       , 0.       , 0.       ,\n",
       "       0.       , 0.       , 0.       , 0.       , 0.       , 0.       ,\n",
       "       0.       , 0.       , 0.       , 0.       , 0.       , 0.       ,\n",
       "       0.       , 0.       , 0.       , 0.       , 0.       , 0.       ,\n",
       "       0.       , 0.       , 0.       , 0.       , 0.       , 0.       ,\n",
       "       0.       , 0.       , 0.       , 0.       , 0.       , 0.       ,\n",
       "       0.       , 0.       , 0.       , 0.       , 0.       , 0.       ,\n",
       "       0.       , 0.       , 0.       , 0.       , 0.       , 0.       ,\n",
       "       0.       , 0.       , 0.       , 0.       , 0.       , 0.       ,\n",
       "       0.       , 0.       , 0.       , 0.       , 0.       , 0.       ,\n",
       "       0.       , 0.       , 0.       , 0.       , 0.       , 0.       ,\n",
       "       0.       , 0.       , 0.       , 0.       , 0.       , 0.       ,\n",
       "       0.       , 0.       , 0.       , 0.       , 0.       , 0.       ,\n",
       "       0.       , 0.       , 0.       , 0.       , 0.       , 0.       ,\n",
       "       0.       , 0.       , 0.       , 0.       , 0.       , 0.       ,\n",
       "       0.       , 0.       , 0.       , 0.       , 0.       , 0.       ,\n",
       "       0.       , 0.       , 0.       , 0.       , 0.       , 0.       ,\n",
       "       0.       , 0.       , 0.       , 0.       , 0.       , 0.       ,\n",
       "       0.       , 0.       , 0.       , 0.       , 0.       , 0.       ,\n",
       "       0.       , 0.       , 0.       , 0.       , 0.       , 0.       ,\n",
       "       0.       , 0.       , 0.       , 0.       , 0.       , 0.       ,\n",
       "       0.       , 0.       , 0.       , 0.       , 0.       , 0.       ,\n",
       "       0.       , 0.       , 0.       , 0.       , 0.       , 0.       ,\n",
       "       0.       , 0.       , 0.       , 0.       , 0.       , 0.       ,\n",
       "       0.       , 0.       , 0.       , 0.       , 0.       , 0.       ,\n",
       "       0.       , 0.       , 0.       , 0.       , 0.       , 0.       ,\n",
       "       0.       , 0.       , 0.       , 0.       , 0.       , 0.       ,\n",
       "       0.       , 0.       , 0.       , 0.       , 0.       , 0.       ,\n",
       "       0.       , 0.       , 0.       , 0.       , 0.       , 0.       ,\n",
       "       0.       , 0.       , 0.       , 0.       , 0.       , 0.       ,\n",
       "       0.       , 0.       , 0.       , 0.       , 0.       , 0.       ,\n",
       "       0.       , 0.       , 0.       , 0.       , 0.       , 0.       ,\n",
       "       0.       , 0.       , 0.       , 0.       , 0.       , 0.       ,\n",
       "       0.       , 0.       , 0.       , 0.       , 0.       , 0.       ,\n",
       "       0.       , 0.       , 0.       , 0.       , 0.       , 0.       ,\n",
       "       0.       , 0.       , 0.       , 0.       , 0.       , 0.       ,\n",
       "       0.       , 0.       , 0.       , 0.       , 0.       , 0.       ,\n",
       "       0.       , 0.       , 0.       , 0.       , 0.       , 0.       ,\n",
       "       0.       , 0.       , 0.       , 0.       , 0.       , 0.       ,\n",
       "       0.       , 0.       , 0.       , 0.       , 0.       , 0.       ,\n",
       "       0.       , 0.       , 0.       , 0.       , 0.       , 0.       ,\n",
       "       0.       , 0.       , 0.       , 0.       , 0.       , 0.       ,\n",
       "       0.       , 0.       , 0.       , 0.       , 0.       , 0.       ,\n",
       "       0.       , 0.       , 0.       , 0.       , 0.       , 0.       ,\n",
       "       0.       , 0.       , 0.       , 0.       , 0.       , 0.       ,\n",
       "       0.       , 0.       , 0.       , 0.       , 0.       , 0.       ,\n",
       "       0.       , 0.       , 0.       , 0.       , 0.       , 0.       ,\n",
       "       0.       , 0.       , 0.       , 0.       , 0.       , 0.       ,\n",
       "       0.       , 0.       , 0.       , 0.       , 0.       , 0.       ,\n",
       "       0.       , 0.       , 0.       , 0.       , 0.       , 0.       ,\n",
       "       0.       , 0.       , 0.       , 0.       , 0.       , 0.       ,\n",
       "       0.       , 0.       , 0.       , 0.       , 0.       , 0.       ,\n",
       "       0.       , 0.       , 0.       , 0.       , 0.       , 0.       ,\n",
       "       0.       , 0.       , 0.       , 0.       , 0.       , 0.       ,\n",
       "       0.       , 0.       , 0.       , 0.       , 0.       , 0.       ,\n",
       "       0.       , 0.       , 0.       , 0.       , 0.       , 0.       ,\n",
       "       0.       , 0.       , 0.       , 0.       , 0.       , 0.       ,\n",
       "       0.       , 0.       , 0.       , 0.       , 0.       , 0.       ,\n",
       "       0.       , 0.       , 0.       , 0.       , 0.       , 0.       ,\n",
       "       0.       , 0.       , 0.       , 0.       , 0.       , 0.       ,\n",
       "       0.       , 0.       , 0.       , 0.       , 0.       , 0.       ,\n",
       "       0.       , 0.       , 0.       , 0.       , 0.       , 0.       ,\n",
       "       0.       , 0.       , 0.       , 0.       , 0.       , 0.       ,\n",
       "       0.       , 0.       , 0.       , 0.       , 0.       , 0.       ,\n",
       "       0.       , 0.       , 0.       , 0.       , 0.       , 0.       ,\n",
       "       0.       , 0.       , 0.       , 0.       , 0.       , 0.       ,\n",
       "       0.       , 0.       , 0.       , 0.       , 0.       , 0.       ,\n",
       "       0.       , 0.       , 0.       , 0.       , 0.       , 0.       ,\n",
       "       0.       , 0.       , 0.       , 0.       , 0.       , 0.       ,\n",
       "       0.       , 0.       , 0.       , 0.       , 0.       , 0.       ,\n",
       "       0.       , 0.       , 0.       , 0.       , 0.       , 0.       ,\n",
       "       0.       , 0.       , 0.       , 0.       , 0.       , 0.       ,\n",
       "       0.       , 0.       , 0.       , 0.       , 0.       , 0.       ,\n",
       "       0.       , 0.       , 0.       , 0.       , 0.       , 0.       ,\n",
       "       0.       , 0.       , 0.       , 0.       , 0.       , 0.       ,\n",
       "       0.       , 0.       , 0.       , 0.       , 0.       , 0.       ,\n",
       "       0.       , 0.       , 0.       , 0.       , 0.       , 0.       ,\n",
       "       0.       , 0.       , 0.       , 0.       , 0.       , 0.       ,\n",
       "       0.       , 0.       , 0.       , 0.       , 0.       , 0.       ,\n",
       "       0.       , 0.       , 0.       , 0.       , 0.       , 0.       ,\n",
       "       0.       , 0.       , 0.       , 0.       , 0.       , 0.       ,\n",
       "       0.       , 0.       , 0.       , 0.       , 0.       , 0.       ,\n",
       "       0.       , 0.       , 0.       , 0.       , 0.       , 0.       ,\n",
       "       0.       , 0.       , 0.       , 0.       , 0.       , 0.       ,\n",
       "       0.       , 0.       , 0.       , 0.       , 0.       , 0.       ,\n",
       "       0.       , 0.       , 0.       , 0.       , 0.       , 0.       ,\n",
       "       0.       , 0.       , 0.       , 0.       , 0.       , 0.       ,\n",
       "       0.       , 0.       , 0.       , 0.       , 0.       , 0.       ,\n",
       "       0.       , 0.       , 0.       , 0.       , 0.       , 0.       ,\n",
       "       0.       , 0.       , 0.       , 0.       , 0.       , 0.       ,\n",
       "       0.       , 0.       , 0.       , 0.       , 0.       , 0.       ,\n",
       "       0.       , 0.       , 0.       , 0.       , 0.       , 0.       ,\n",
       "       0.       , 0.       , 0.       , 0.       ], dtype=float32)"
      ]
     },
     "execution_count": 102,
     "metadata": {},
     "output_type": "execute_result"
    }
   ],
   "source": [
    "flattened_scores[0][sampled_idxes_2[0]]"
   ]
  },
  {
   "cell_type": "code",
   "execution_count": null,
   "metadata": {},
   "outputs": [
    {
     "data": {
      "text/plain": [
       "(603979776,)"
      ]
     },
     "execution_count": 103,
     "metadata": {},
     "output_type": "execute_result"
    }
   ],
   "source": [
    "flattened_scores[0].shape"
   ]
  },
  {
   "cell_type": "code",
   "execution_count": null,
   "metadata": {},
   "outputs": [
    {
     "data": {
      "text/plain": [
       "1.0000046"
      ]
     },
     "execution_count": 104,
     "metadata": {},
     "output_type": "execute_result"
    }
   ],
   "source": [
    "flattened_scores[0][sampled_idxes_2[0][0]]"
   ]
  },
  {
   "cell_type": "code",
   "execution_count": null,
   "metadata": {},
   "outputs": [
    {
     "data": {
      "text/plain": [
       "0.0"
      ]
     },
     "execution_count": 105,
     "metadata": {},
     "output_type": "execute_result"
    }
   ],
   "source": [
    "flattened_scores[0][sampled_idxes_2[0][2]]"
   ]
  },
  {
   "cell_type": "code",
   "execution_count": null,
   "metadata": {},
   "outputs": [
    {
     "data": {
      "text/plain": [
       "array([172, 165, 165, 197, 238, 271, 303, 334, 357, 341, 328])"
      ]
     },
     "execution_count": 106,
     "metadata": {},
     "output_type": "execute_result"
    }
   ],
   "source": [
    "per_layer_nonzero // 1000"
   ]
  },
  {
   "cell_type": "code",
   "execution_count": null,
   "metadata": {},
   "outputs": [
    {
     "data": {
      "text/plain": [
       "'    count_nonzero_per_layer = np.count_nonzero(desc_argsorted_idxes_, axis=1)\\n    step_sizes = count_nonzero_per_layer // num_samples_per_layer\\n    assert min(step_sizes) > 0, \"count_nonzero < num_samples\"\\n    end_idxes = step_sizes * num_samples_per_layer\\n    return np.array(\\n        [\\n            desc_argsorted_idxes_[layer, :end:step]\\n            for layer, (end, step) in enumerate(zip(end_idxes, step_sizes))\\n        ]\\n    )'"
      ]
     },
     "execution_count": 107,
     "metadata": {},
     "output_type": "execute_result"
    }
   ],
   "source": [
    "\"\"\"    count_nonzero_per_layer = np.count_nonzero(desc_argsorted_idxes_, axis=1)\n",
    "    step_sizes = count_nonzero_per_layer // num_samples_per_layer\n",
    "    assert min(step_sizes) > 0, \"count_nonzero < num_samples\"\n",
    "    end_idxes = step_sizes * num_samples_per_layer\n",
    "    return np.array(\n",
    "        [\n",
    "            desc_argsorted_idxes_[layer, :end:step]\n",
    "            for layer, (end, step) in enumerate(zip(end_idxes, step_sizes))\n",
    "        ]\n",
    "    )\"\"\""
   ]
  },
  {
   "cell_type": "code",
   "execution_count": null,
   "metadata": {},
   "outputs": [],
   "source": [
    "step_sizes = per_layer_nonzero // 1000"
   ]
  },
  {
   "cell_type": "code",
   "execution_count": null,
   "metadata": {},
   "outputs": [],
   "source": [
    "end_idxes = step_sizes * 1000"
   ]
  },
  {
   "cell_type": "code",
   "execution_count": null,
   "metadata": {},
   "outputs": [
    {
     "ename": "NameError",
     "evalue": "name 'desc_argsorted_idxes_' is not defined",
     "output_type": "error",
     "traceback": [
      "\u001b[0;31m---------------------------------------------------------------------------\u001b[0m",
      "\u001b[0;31mNameError\u001b[0m                                 Traceback (most recent call last)",
      "Cell \u001b[0;32mIn[110], line 3\u001b[0m\n\u001b[1;32m      1\u001b[0m foo \u001b[39m=\u001b[39m np\u001b[39m.\u001b[39marray(\n\u001b[1;32m      2\u001b[0m         [\n\u001b[0;32m----> 3\u001b[0m             desc_argsorted_idxes_[layer, :end:step]\n\u001b[1;32m      4\u001b[0m             \u001b[39mfor\u001b[39;00m layer, (end, step) \u001b[39min\u001b[39;00m \u001b[39menumerate\u001b[39m(\u001b[39mzip\u001b[39m(end_idxes, step_sizes))\n\u001b[1;32m      5\u001b[0m         ]\n\u001b[1;32m      6\u001b[0m )\n",
      "\u001b[0;31mNameError\u001b[0m: name 'desc_argsorted_idxes_' is not defined"
     ]
    }
   ],
   "source": [
    "foo = np.array(\n",
    "        [\n",
    "            desc_argsorted_idxes_[layer, :end:step]\n",
    "            for layer, (end, step) in enumerate(zip(end_idxes, step_sizes))\n",
    "        ]\n",
    ")"
   ]
  },
  {
   "cell_type": "code",
   "execution_count": null,
   "metadata": {},
   "outputs": [],
   "source": [
    "foo = np.array(\n",
    "        [\n",
    "            desc_argsorted_idxes[layer, :end:step]\n",
    "            for layer, (end, step) in enumerate(zip(end_idxes, step_sizes))\n",
    "        ]\n",
    ")"
   ]
  },
  {
   "cell_type": "code",
   "execution_count": null,
   "metadata": {},
   "outputs": [
    {
     "data": {
      "text/plain": [
       "array([356978314, 232045703, 214254781, 187009911,  38235733,  55265429,\n",
       "       591477988, 149341116, 530167203, 459884629, 573379863, 252071316,\n",
       "       253481736, 369017362, 206604511, 460630083,  24057730, 598718917,\n",
       "        39122578, 140125064, 104959807, 504494929, 183036432, 219946922,\n",
       "       508538821,  62175024, 238999536, 103280495, 325045466, 452712263,\n",
       "       441681670, 467662009, 331522955,  42385987, 483290526, 378976949,\n",
       "       517234587, 385313271, 578790942, 183449620, 301989941,  95798303,\n",
       "       351914511, 112580365, 197188834, 354900622, 556069593, 437924407,\n",
       "       580582785, 601909935, 534407410,  99559610, 381090515,  13382411,\n",
       "       116354485, 582858644, 589084244, 358797355,   3252632, 480036035,\n",
       "       274155770, 260861539, 417526506, 297516462,  56101762, 145105725,\n",
       "       199179639, 422077014, 501690244, 302508426, 319103042,  91111057,\n",
       "       445648525,  98208924, 109616785, 194737011, 601521390, 598517945,\n",
       "       159765167, 324819114, 537534639, 302967900, 185760779, 242032938,\n",
       "       483584564, 366856470, 441744880, 269181556, 417588101, 409249548,\n",
       "       256269848, 577460310,  91557957, 197071296,  37010551, 569929311,\n",
       "        17592654, 555350957,  60680773, 598742168, 319095697, 253065948,\n",
       "       569939705,  59958420,  28579577, 355590243, 410110210, 172325677,\n",
       "       104421926, 271462443, 148462310,  75645412, 570774589,  42695476,\n",
       "       403253500,  81539684, 395485633, 526970463, 495335831, 300822111,\n",
       "       393959879, 545993756,  45210705, 340681545, 336132560, 168904044,\n",
       "       144521555, 252008482, 304296560, 179938778, 153499385, 399882299,\n",
       "       437678438, 315010374, 366551987, 311492519,  45195292, 299607898,\n",
       "       216662539, 206069597, 369464417, 129928467, 340950526, 448273786,\n",
       "       307720201, 398847588, 171369998, 132028766, 114268636,  65059859,\n",
       "       140419874,  45596462, 415367952, 463066653, 589029030, 586674191,\n",
       "       156872511, 455767911, 232634904, 574697683, 487185200, 380282268,\n",
       "       149354870,    834656, 115244536, 213245290, 298090716, 267871570,\n",
       "        81526264, 422169523,  49030876, 500289922,  42344025, 504239859,\n",
       "       403386069, 563681057, 271060629,  88558977, 440879886, 369433655,\n",
       "       192817326, 261662269,    590737, 260814766, 413109800, 217952099,\n",
       "       474896722, 291870373,    833567, 456852082,  53234255, 592849990,\n",
       "        79628820, 347253023, 276303956, 112551867, 207036753, 474111703,\n",
       "       239010371, 212799850, 287625877,    943682, 560824042, 571414259,\n",
       "       386343773, 250381144,  41329298, 333841594, 295119420, 189302360,\n",
       "       357541732, 388820581, 224434866, 425607433, 156889226, 253771606,\n",
       "         5795172,  15385834, 384505657, 212796923, 232550438, 251320167,\n",
       "       401381339, 132326939, 569927804, 598273940, 461409576,  17878304,\n",
       "       573213410, 168426279, 419468854, 379733947, 448841980, 389299949,\n",
       "       351947051, 263095487, 115703113, 110477805,  92739062, 471105016,\n",
       "       138089783, 437360578, 523705228, 230278951, 547353966, 107135971,\n",
       "       234252830, 173178442,  66250049, 142563293, 393349088,  85302744,\n",
       "       535421938, 407378242, 385053218, 289811396, 171374555, 505473250,\n",
       "       357545462,  70468006,  98175889, 247122044,  69775001, 343665009,\n",
       "       188800025, 480124985, 232939687,    713449,  42329758, 599246903,\n",
       "       533585193, 288572419,  35853020,  81241622, 421757226, 307213119,\n",
       "       150211905, 410883383, 548752796, 540678942,  47410903, 203879833,\n",
       "       501506372, 245829250,  47992720, 594313062, 498215564, 569923498,\n",
       "        63422449, 511991530, 583465248, 374102757, 399000694, 502708437,\n",
       "       242894327, 317184873, 354247361, 162436583, 502723656, 468456156,\n",
       "        65545354,    602483, 592152170, 583857994, 480353307, 141328369,\n",
       "       447324941, 177325482, 151990470, 349192241, 342953444, 347965405,\n",
       "       117024976, 290857018, 522400712, 209747397, 396743076, 440396493,\n",
       "       228668314, 431083250, 427268841, 543013891, 273245773, 476090906,\n",
       "       417180076, 321213527, 237225372, 249541800, 582781652, 556257494,\n",
       "       338733923, 231357831, 384353159,  76152930, 347001648,  20693391,\n",
       "        78087694, 166950048, 583423382, 192745834, 359905487, 153201598,\n",
       "        94008304, 356527728, 523362833, 485103759,  49434822,  25816266,\n",
       "       184834732, 200119896, 396392502, 292354930,   4153463, 196172443,\n",
       "       477918106, 153369310, 493490212, 367863087, 384359749, 450534508,\n",
       "        21600920, 117277085, 306389747,  23651468,  45424082, 466267137,\n",
       "        99683607, 489667823, 485128983,    817959, 237122452, 352171568,\n",
       "       357819865, 490208264, 137336268, 224780589, 395523431, 321266478,\n",
       "       156873841, 201370907, 123894092, 227586408, 389328581, 315350807,\n",
       "       496143008, 408650547, 408649111, 345348380, 287634754, 476869459,\n",
       "        17785624, 360024420, 594429792,  31074022, 347317067, 260824160,\n",
       "       131644543,  56233299, 130760481, 423343483, 243197351, 456024351,\n",
       "       375761097,  20777224, 277903734, 183431357,  85469781, 256562069,\n",
       "       171445836, 357111881, 341693394, 251229236, 269574853, 437430955,\n",
       "       357097770, 154654777, 286916586, 349999759, 115248497, 436874813,\n",
       "       559529151, 174028714, 555780312, 388826487, 490709867, 129496960,\n",
       "       540455673, 145760330, 387654658,  32597281, 525679237, 468542054,\n",
       "       333481774, 547009753, 529640112, 562978660, 586196644, 381707557,\n",
       "       218628219, 322293670,   2214576, 255435971, 198611260, 582470609,\n",
       "       552542981, 226029958, 558176556, 540477810, 547281847, 156818901,\n",
       "       580973521, 336779382, 466015161, 388244545, 598181830, 431064693,\n",
       "       405655374, 194566080, 364265987, 137884504, 122073473, 488798193,\n",
       "       262588469, 230296874, 240049575,   1253250, 331842276, 423149054,\n",
       "       499941767, 364823386, 245893764, 362156483, 103956336, 244971278,\n",
       "       554090844,  89844041, 186751012, 602796145, 483798071, 301846445,\n",
       "       458381034, 352547707, 474607580, 358732443,  14263430, 100520557,\n",
       "       124250889, 244265409, 575538649,  99598337, 323480400, 535472309,\n",
       "        54330020, 366390918,  23438652, 106516620, 492739095, 175356227,\n",
       "       592377414, 206432518, 500766987, 472402003, 138070154, 139432139,\n",
       "       364471985,  73340732, 498835114, 510313401, 542909301, 217197671,\n",
       "       334262184, 109368969, 299791921, 559375470, 572057459, 484658849,\n",
       "       289638472,  58336722, 426374811, 249600321, 157866744, 287485348,\n",
       "        84622110, 546039898, 245276475, 522272759, 309871062, 206120806,\n",
       "       227480424, 354148930, 114272464, 541551234,  42747820, 462827907,\n",
       "        52422813, 184230100, 153186640, 467022323, 324037535, 346339069,\n",
       "       187711734, 209293643, 188848971, 264928445, 371550935, 314083194,\n",
       "       599646810, 503554924, 210746877,  51731654, 502160825, 286425961,\n",
       "       602725849,  56029200,  77771113, 539025989, 397392017, 545186582,\n",
       "       439971398, 379475875, 240049233,   5430102, 118813832, 522723491,\n",
       "       142781572, 202113276, 578925533, 176240168, 591819529, 107202599,\n",
       "         8455688, 153102942, 529681095, 440381460, 124098242,  72918876,\n",
       "        48824248, 506190416, 581713813, 355814749, 235476192, 234932392,\n",
       "       602675114, 569806259, 581846594, 543098477, 456728854, 378406547,\n",
       "       192591119, 357547625, 278215532, 330142735, 451187256,   2257012,\n",
       "       434439049, 546451065, 367995838, 304276918, 291852168,  29413448,\n",
       "       203031606, 175991745, 555844630, 578002376, 254183869, 568678150,\n",
       "       258444087, 234798255, 469715392, 316555530,  74197195, 235994718,\n",
       "        78458032, 438717837, 443580377, 326120677,  45393153, 178032912,\n",
       "        12550767, 542206719, 500563952, 323968240,  86912417, 255434062,\n",
       "        81423544,   6624738, 377900226, 365248644, 259170696, 189827349,\n",
       "       485352851, 549185500, 407480879, 280582544, 106469034,  57551429,\n",
       "       234460434, 144121473, 352754045,  60438561, 303947157, 272792754,\n",
       "       218975934, 312741620,  35602077, 266452739,  26192777, 125209136,\n",
       "       180219151, 454426397, 154139977, 448168855, 340950085, 357538599,\n",
       "       571993457,  18368750, 116114089, 368053377, 515417602, 246210799,\n",
       "       259775498, 257948150, 413117621, 287299907,  47346027, 340919918,\n",
       "       509043444, 525722100,   1216912, 581340899, 113198171, 324840934,\n",
       "       600496386, 498432326, 432965124, 119713545, 356736418,  66398616,\n",
       "       135646106, 291354687,  46404739, 533575360,  42821496,  75852909,\n",
       "       126672630, 438790897, 553324062, 591820967, 401144723, 463467812,\n",
       "        26998108, 212542093, 323745634, 592154468, 214600933, 157989407,\n",
       "       312738265, 485818700, 536636181, 399244073, 224761961, 506083159,\n",
       "       338289289, 344070603, 509435594, 300716014, 339987283,  24615820,\n",
       "       396837078, 491549500, 244858517, 303323692, 108086286, 177405610,\n",
       "       264518148, 435537653, 414345223, 464451593, 562462256,  81311089,\n",
       "       400899103, 130529738, 363974573, 599688021,  99586142, 323012872,\n",
       "       311495104, 594050036, 588118090, 451381342, 575972016, 543387142,\n",
       "       372614080, 199452867, 124447639, 486684586,  17778313, 349151747,\n",
       "       527898701, 282259685, 466816113, 559672845, 252828136, 225321940,\n",
       "       208847960, 119539638, 395757038,   8537372, 139293007, 267569709,\n",
       "       301013435, 494003422, 594028415, 115727523, 263436074, 377655412,\n",
       "       235655367, 160411819,  59188871, 138357155, 127695766, 459335479,\n",
       "       111212607, 233392711,  20129855, 483960858, 567788789, 265605850,\n",
       "       418731661, 253063334, 535448048, 393663027, 501963954, 177433259,\n",
       "        79321013, 357362844, 251853087, 302882155, 170068380, 260481335,\n",
       "       432168333, 350565707, 142823024, 357388607, 114880911, 338163188,\n",
       "       102041616, 325484296, 595327800, 202132843, 318187153, 245146816,\n",
       "       509813107, 165062146, 343591814, 240259672,  38427934, 154513003,\n",
       "       285703157,  98237384, 459393516,  44006306, 289594145,  42700593,\n",
       "       363571161,  95328846, 254548246, 375820343, 395749248,  45781538,\n",
       "       464135862, 410835318, 242958829, 379556073, 569807002, 456746307,\n",
       "       173525912, 315181640, 459397316, 354774847, 154135964, 396810652,\n",
       "       399494809,  47585189,  60643967, 135101414, 506083469, 506044922,\n",
       "       178900263, 400477880, 121310294, 117296806, 591192983, 412039607,\n",
       "       520177334, 431505661, 384505432, 125750847, 421920667, 288912555,\n",
       "        67402195, 602399589,  11205711,  17359457,  15928603, 560470983,\n",
       "       132027505, 206123837, 401140693, 385055942, 254343598, 143855292,\n",
       "       339592151, 576308722, 116550902, 601113753, 485877061, 343494938,\n",
       "        57591091, 226307432, 321417777,  71762269, 562780592, 197070938,\n",
       "       164246286, 450163307, 124099719, 220310471, 129020743, 271264167,\n",
       "        33763477, 440043571,  78461078,  73796124, 265718258, 287809474,\n",
       "       464787806, 598002944,  73837635, 556423108, 497397717, 303072581,\n",
       "       231112009, 221659242, 541553987, 430967668,  20561772, 584909256,\n",
       "       564107904, 574449266, 368840310, 175612219, 232559884, 479090044,\n",
       "       568686227, 315346724, 568568337, 241960765, 498371198, 540614569,\n",
       "       192155882,  15394081,  80332494, 541267840,  33877247, 463963014,\n",
       "       316554686, 393030183, 542248767, 346843954, 420765904, 520011616,\n",
       "       525643972, 518853022, 483556000,  33065511, 499215294, 141945883,\n",
       "       231339323, 496154918, 389666191, 568593886, 416669240,  26098218,\n",
       "       425980771, 290942161, 136651376, 404177540, 529239687, 133994343,\n",
       "       312564441,  73930496, 552549300, 291881382, 319826293,  41181845,\n",
       "       483959408, 469188972, 402353773,  29063481, 427629968, 601137683,\n",
       "       242700156, 361307154, 601000727, 257424989, 372076245,  40001878,\n",
       "       377154301, 581955783, 160051493, 262250619, 444225685,  52042593,\n",
       "       249306488,  98176851,  98697849,  31808306, 158222491, 432300171,\n",
       "        22709516, 412315716, 425310590, 410450963, 532448432, 191520478,\n",
       "       310293835, 105831086, 468022937, 207937999, 445804315,  41515612,\n",
       "       145591466,  67573448, 242160828, 557066061, 114282528,  92735929,\n",
       "       488749631, 498161076, 391250518, 541354746, 228780378, 121182537,\n",
       "       306688128, 334586724, 352624791, 387679961, 249261209, 115200634,\n",
       "       293607444, 137944162,  83028457, 569874661,   8881533, 496160128,\n",
       "       482476906, 149252682, 246362214, 137136913])"
      ]
     },
     "execution_count": 112,
     "metadata": {},
     "output_type": "execute_result"
    }
   ],
   "source": [
    "foo[0]"
   ]
  },
  {
   "cell_type": "code",
   "execution_count": null,
   "metadata": {},
   "outputs": [
    {
     "data": {
      "text/plain": [
       "1.0000046"
      ]
     },
     "execution_count": 113,
     "metadata": {},
     "output_type": "execute_result"
    }
   ],
   "source": [
    "flattened_scores[0][356978314]"
   ]
  },
  {
   "cell_type": "code",
   "execution_count": null,
   "metadata": {},
   "outputs": [
    {
     "data": {
      "text/plain": [
       "0.998426"
      ]
     },
     "execution_count": 114,
     "metadata": {},
     "output_type": "execute_result"
    }
   ],
   "source": [
    "flattened_scores[0][232045703]"
   ]
  },
  {
   "cell_type": "code",
   "execution_count": null,
   "metadata": {},
   "outputs": [
    {
     "data": {
      "text/plain": [
       "array([1.0000046 , 0.998426  , 0.9975997 , 0.99691534, 0.9963178 ,\n",
       "       0.99577004, 0.9951938 , 0.99464273, 0.99406564, 0.9935037 ,\n",
       "       0.99284315, 0.99224174, 0.99155235, 0.9908814 , 0.9902493 ,\n",
       "       0.98964685, 0.98890775, 0.9881254 , 0.9873074 , 0.98646295,\n",
       "       0.98563635, 0.9848198 , 0.9840154 , 0.98316574, 0.98230577,\n",
       "       0.9812562 , 0.9801698 , 0.9791283 , 0.97809917, 0.9769713 ,\n",
       "       0.9758131 , 0.97463703, 0.97324437, 0.9720334 , 0.9706463 ,\n",
       "       0.96911424, 0.96758306, 0.9659832 , 0.96435106, 0.9626126 ,\n",
       "       0.96078193, 0.95906293, 0.9569604 , 0.95469725, 0.9526079 ,\n",
       "       0.9504701 , 0.9478901 , 0.94538134, 0.9426415 , 0.93972796,\n",
       "       0.93669665, 0.9338155 , 0.9304681 , 0.92688525, 0.92326033,\n",
       "       0.919514  , 0.91508305, 0.9107526 , 0.90596557, 0.90150934,\n",
       "       0.89697397, 0.89218354, 0.8862491 , 0.8811144 , 0.8750308 ,\n",
       "       0.86915535, 0.8627805 , 0.8557429 , 0.84842557, 0.8414775 ,\n",
       "       0.83443755, 0.8271202 , 0.8191895 , 0.8125217 , 0.80480814,\n",
       "       0.7976546 , 0.7907658 , 0.78383654, 0.77631027, 0.76886153,\n",
       "       0.76117235, 0.75304294, 0.7463662 , 0.7396135 , 0.73277503,\n",
       "       0.7265923 , 0.720169  , 0.71295595, 0.7058197 , 0.6977752 ,\n",
       "       0.6914555 , 0.68413967, 0.6780403 , 0.6701196 , 0.663826  ,\n",
       "       0.65724945, 0.6504153 , 0.644745  , 0.63877034, 0.6329804 ,\n",
       "       0.6266226 , 0.62053835, 0.6155122 , 0.60997427, 0.60449606,\n",
       "       0.5995232 , 0.5938628 , 0.5881173 , 0.5828569 , 0.5775436 ,\n",
       "       0.573243  , 0.5688159 , 0.56432873, 0.55991316, 0.5560025 ,\n",
       "       0.55138046, 0.5472098 , 0.5428509 , 0.5387209 , 0.53456587,\n",
       "       0.5305418 , 0.52678925, 0.5234662 , 0.5197823 , 0.51554865,\n",
       "       0.5121184 , 0.5087028 , 0.5052252 , 0.5016008 , 0.49821925,\n",
       "       0.49462676, 0.4910505 , 0.4878252 , 0.48455605, 0.48156455,\n",
       "       0.47836414, 0.47545367, 0.4721577 , 0.469016  , 0.46628502,\n",
       "       0.46320784, 0.46000588, 0.45679742, 0.4537623 , 0.45104256,\n",
       "       0.44836345, 0.44582778, 0.44312182, 0.44045243, 0.43773594,\n",
       "       0.4354297 , 0.43262443, 0.4302921 , 0.42775124, 0.4256609 ,\n",
       "       0.4229364 , 0.42066905, 0.41814095, 0.4160334 , 0.41354352,\n",
       "       0.41168264, 0.40960336, 0.40740973, 0.40517226, 0.40328032,\n",
       "       0.40111512, 0.3988897 , 0.39703164, 0.39493683, 0.39293945,\n",
       "       0.3909714 , 0.38905406, 0.3872579 , 0.38511005, 0.38323638,\n",
       "       0.38137516, 0.37953836, 0.37761325, 0.3759535 , 0.37407434,\n",
       "       0.37263563, 0.37080356, 0.36900747, 0.36737236, 0.36570993,\n",
       "       0.36425793, 0.3625499 , 0.3611005 , 0.3597006 , 0.35810098,\n",
       "       0.35678113, 0.3552599 , 0.35378143, 0.35240817, 0.35092202,\n",
       "       0.34944636, 0.34794793, 0.34656307, 0.3452644 , 0.34385574,\n",
       "       0.34253582, 0.34108242, 0.33979702, 0.33841574, 0.33733168,\n",
       "       0.33608747, 0.33483294, 0.33348563, 0.3323119 , 0.33097756,\n",
       "       0.32967994, 0.32839975, 0.3271578 , 0.32590577, 0.32461202,\n",
       "       0.323499  , 0.32235795, 0.321156  , 0.3198578 , 0.31865907,\n",
       "       0.31741282, 0.31611317, 0.31493938, 0.31366944, 0.3124368 ,\n",
       "       0.31127474, 0.3102965 , 0.30921653, 0.30810317, 0.30681735,\n",
       "       0.30587256, 0.30483544, 0.30383685, 0.30284414, 0.30180866,\n",
       "       0.30083513, 0.29975837, 0.29865777, 0.29774523, 0.29679516,\n",
       "       0.2957595 , 0.2947084 , 0.29375893, 0.29282507, 0.2918683 ,\n",
       "       0.29094794, 0.29020622, 0.2892721 , 0.2883773 , 0.28756496,\n",
       "       0.2867277 , 0.2859815 , 0.28513622, 0.28433543, 0.2833036 ,\n",
       "       0.28251314, 0.28158948, 0.2806933 , 0.2797466 , 0.27870765,\n",
       "       0.27800456, 0.27717233, 0.2764025 , 0.275601  , 0.27480575,\n",
       "       0.273997  , 0.2732271 , 0.2724877 , 0.2717024 , 0.27088785,\n",
       "       0.2701084 , 0.26934183, 0.2686712 , 0.2678138 , 0.26706696,\n",
       "       0.26629534, 0.26556173, 0.2648796 , 0.2641269 , 0.26341146,\n",
       "       0.26270002, 0.26188514, 0.26117533, 0.2605178 , 0.25978205,\n",
       "       0.2590309 , 0.2583114 , 0.25759768, 0.25679073, 0.25616324,\n",
       "       0.25543436, 0.25479066, 0.25416014, 0.25345084, 0.25273687,\n",
       "       0.25205463, 0.25141522, 0.2507568 , 0.25016513, 0.24950093,\n",
       "       0.24884816, 0.24821226, 0.24758786, 0.24695353, 0.24640906,\n",
       "       0.24579233, 0.24517408, 0.24445827, 0.24380249, 0.24322708,\n",
       "       0.24258795, 0.24204083, 0.2413887 , 0.24085502, 0.24029087,\n",
       "       0.23974587, 0.23912537, 0.23855303, 0.23795563, 0.23733325,\n",
       "       0.23680586, 0.23621632, 0.23557143, 0.23501466, 0.23449208,\n",
       "       0.23393951, 0.2333471 , 0.23285064, 0.23237863, 0.23190247,\n",
       "       0.23131639, 0.23071142, 0.23012345, 0.22959913, 0.22913687,\n",
       "       0.22866955, 0.22818378, 0.22767627, 0.22716643, 0.226699  ,\n",
       "       0.22616634, 0.22570549, 0.22521825, 0.22468218, 0.22415264,\n",
       "       0.22364447, 0.22313505, 0.22267295, 0.22221807, 0.22171965,\n",
       "       0.22116482, 0.22066051, 0.22019543, 0.21972011, 0.21916895,\n",
       "       0.21871583, 0.21825886, 0.21775784, 0.21729791, 0.2168181 ,\n",
       "       0.21634792, 0.21589336, 0.21548921, 0.21504511, 0.2145917 ,\n",
       "       0.21419017, 0.21378164, 0.21335915, 0.21291575, 0.21248077,\n",
       "       0.21209088, 0.211656  , 0.21116018, 0.21070197, 0.21025296,\n",
       "       0.20978563, 0.20937008, 0.20892964, 0.20848475, 0.20806882,\n",
       "       0.20762351, 0.2071942 , 0.20677988, 0.20637666, 0.20601164,\n",
       "       0.2055932 , 0.20514318, 0.2047239 , 0.20434704, 0.20395365,\n",
       "       0.20353818, 0.20318133, 0.20277508, 0.20235848, 0.20201229,\n",
       "       0.2016407 , 0.20123495, 0.20085813, 0.2004262 , 0.20009586,\n",
       "       0.19970475, 0.19933169, 0.1989272 , 0.19856012, 0.19817467,\n",
       "       0.19782335, 0.19746125, 0.19704296, 0.196663  , 0.19629665,\n",
       "       0.19595647, 0.19562718, 0.19526602, 0.19495113, 0.19458744,\n",
       "       0.1942964 , 0.19391012, 0.19357339, 0.193218  , 0.19287279,\n",
       "       0.1925722 , 0.19221768, 0.19189152, 0.19153742, 0.19120587,\n",
       "       0.19090378, 0.19058505, 0.19022234, 0.18985082, 0.18948312,\n",
       "       0.1891636 , 0.1888551 , 0.18850824, 0.18817802, 0.1878906 ,\n",
       "       0.1875729 , 0.18732183, 0.18703368, 0.1867272 , 0.18641345,\n",
       "       0.18610278, 0.18578112, 0.18540399, 0.18507464, 0.1847848 ,\n",
       "       0.1844621 , 0.18416004, 0.18384002, 0.18351948, 0.183218  ,\n",
       "       0.18293883, 0.18265398, 0.18234761, 0.18206732, 0.18174894,\n",
       "       0.18141335, 0.18113582, 0.18081081, 0.18050803, 0.1802032 ,\n",
       "       0.1799263 , 0.17964026, 0.17937502, 0.17909952, 0.1788099 ,\n",
       "       0.17851512, 0.17820711, 0.17795204, 0.17764032, 0.17737323,\n",
       "       0.17705418, 0.17678553, 0.17651603, 0.17620362, 0.17589243,\n",
       "       0.17563821, 0.17535818, 0.17508133, 0.17478958, 0.17454913,\n",
       "       0.17430712, 0.17402846, 0.1738041 , 0.17351359, 0.17328264,\n",
       "       0.17303568, 0.1727733 , 0.17246602, 0.17220472, 0.17194909,\n",
       "       0.17166716, 0.17139211, 0.17112477, 0.17087494, 0.17064668,\n",
       "       0.17039967, 0.17015257, 0.16990224, 0.16966788, 0.16944967,\n",
       "       0.16923043, 0.16894719, 0.16869241, 0.16844705, 0.16820657,\n",
       "       0.16793114, 0.1676713 , 0.16741405, 0.16715738, 0.16689694,\n",
       "       0.16663697, 0.16634224, 0.16607863, 0.16584833, 0.16564305,\n",
       "       0.1653881 , 0.16513596, 0.1649193 , 0.16469154, 0.16447313,\n",
       "       0.16421035, 0.16398346, 0.16372174, 0.1634893 , 0.16323346,\n",
       "       0.16303292, 0.16282538, 0.16259381, 0.16237691, 0.16216972,\n",
       "       0.1619272 , 0.16172484, 0.16151062, 0.1612948 , 0.1610836 ,\n",
       "       0.16083245, 0.1605909 , 0.16037075, 0.16010155, 0.15988187,\n",
       "       0.15964167, 0.1594405 , 0.15918651, 0.15896286, 0.15874669,\n",
       "       0.15852067, 0.15830745, 0.15809117, 0.15786573, 0.15763897,\n",
       "       0.1574433 , 0.15722075, 0.15703072, 0.1568196 , 0.15661019,\n",
       "       0.15640092, 0.15620348, 0.15600602, 0.15581216, 0.15561302,\n",
       "       0.15538897, 0.15518364, 0.15495737, 0.15474327, 0.15451495,\n",
       "       0.15432282, 0.15412061, 0.15392487, 0.15371102, 0.15350443,\n",
       "       0.1533014 , 0.15309684, 0.15288426, 0.15267284, 0.1524831 ,\n",
       "       0.15228699, 0.15208122, 0.15187462, 0.15168273, 0.15150519,\n",
       "       0.1513394 , 0.1511501 , 0.15092443, 0.15074459, 0.1505638 ,\n",
       "       0.15035896, 0.15016149, 0.14997186, 0.14976832, 0.14956954,\n",
       "       0.14935489, 0.1491726 , 0.1489698 , 0.1487947 , 0.14860097,\n",
       "       0.1484082 , 0.1482316 , 0.14804   , 0.14782289, 0.147619  ,\n",
       "       0.14742629, 0.1472451 , 0.14706242, 0.14689392, 0.14671494,\n",
       "       0.14651841, 0.1463416 , 0.14616422, 0.14598319, 0.14581476,\n",
       "       0.14563376, 0.1454654 , 0.14527863, 0.14508565, 0.14489701,\n",
       "       0.14472078, 0.14451921, 0.14433983, 0.14418595, 0.14400925,\n",
       "       0.14384018, 0.14367084, 0.14350708, 0.14332058, 0.14316545,\n",
       "       0.14298129, 0.14281109, 0.14264756, 0.14247142, 0.14230281,\n",
       "       0.14211732, 0.14196503, 0.14177853, 0.1416161 , 0.14142425,\n",
       "       0.14124899, 0.14105271, 0.14090887, 0.14075333, 0.1405955 ,\n",
       "       0.14043531, 0.14029026, 0.14010933, 0.13996698, 0.13979557,\n",
       "       0.13965386, 0.13950995, 0.13931847, 0.13915308, 0.1389922 ,\n",
       "       0.13883777, 0.13867179, 0.13849978, 0.13832602, 0.1381778 ,\n",
       "       0.13803634, 0.13789374, 0.13773118, 0.13757814, 0.13740428,\n",
       "       0.13725284, 0.13708575, 0.13692765, 0.13677707, 0.13663632,\n",
       "       0.13650419, 0.13632768, 0.13617569, 0.13601537, 0.13587311,\n",
       "       0.1356975 , 0.13552956, 0.13540001, 0.13525888, 0.13510497,\n",
       "       0.13496472, 0.1348011 , 0.13463683, 0.13449453, 0.1343387 ,\n",
       "       0.1341679 , 0.13402094, 0.13386443, 0.13372192, 0.133582  ,\n",
       "       0.1334327 , 0.13328235, 0.13312206, 0.13296558, 0.13280928,\n",
       "       0.13267502, 0.13252114, 0.13236207, 0.13222988, 0.13208196,\n",
       "       0.13192925, 0.13179341, 0.13165773, 0.13153295, 0.13139762,\n",
       "       0.13125338, 0.1311239 , 0.13097636, 0.13085909, 0.13069998,\n",
       "       0.13056342, 0.1304281 , 0.13027534, 0.13012654, 0.12999281,\n",
       "       0.12982689, 0.12967551, 0.12952738, 0.12939714, 0.12925807,\n",
       "       0.12912764, 0.12900169, 0.12886381, 0.12873006, 0.12860669,\n",
       "       0.12848152, 0.1283617 , 0.12823166, 0.12808782, 0.12795852,\n",
       "       0.12781592, 0.12768574, 0.12756436, 0.12741002, 0.12727973,\n",
       "       0.12714382, 0.12699193, 0.12686563, 0.12673135, 0.12659933,\n",
       "       0.12646638, 0.12633868, 0.12619443, 0.12606534, 0.12596005,\n",
       "       0.1258312 , 0.12570065, 0.12558174, 0.12546983, 0.12535891,\n",
       "       0.1252085 , 0.12507744, 0.12494966, 0.12483729, 0.12473616,\n",
       "       0.12461849, 0.1245025 , 0.12438498, 0.12424507, 0.12411749,\n",
       "       0.12400652, 0.12387407, 0.12376548, 0.12362292, 0.12349389,\n",
       "       0.12336073, 0.12323879, 0.12312161, 0.12297758, 0.12285169,\n",
       "       0.12274502, 0.12262148, 0.1225006 , 0.12238456, 0.12227178,\n",
       "       0.12215519, 0.12203468, 0.12191434, 0.12179173, 0.12167887,\n",
       "       0.12156957, 0.12145314, 0.12133013, 0.1212128 , 0.12109157,\n",
       "       0.12097918, 0.1208547 , 0.12074069, 0.12062655, 0.12050464,\n",
       "       0.12038857, 0.12028731, 0.12017653, 0.12005458, 0.119944  ,\n",
       "       0.11982749, 0.11972417, 0.11959662, 0.11948407, 0.11935693,\n",
       "       0.11923771, 0.11911185, 0.11899149, 0.11887737, 0.11876042,\n",
       "       0.11866026, 0.11854237, 0.11842563, 0.11831525, 0.11819767,\n",
       "       0.11809879, 0.11799145, 0.11787338, 0.11776479, 0.11766167,\n",
       "       0.11755577, 0.11746184, 0.11735003, 0.11723574, 0.11712904,\n",
       "       0.1170185 , 0.11690095, 0.11680096, 0.1166924 , 0.11657827,\n",
       "       0.11646913, 0.11635936, 0.11624448, 0.11613324, 0.11603568,\n",
       "       0.11593664, 0.11583082, 0.11571745, 0.11561399, 0.11549634,\n",
       "       0.11537618, 0.1152766 , 0.11517689, 0.11506811, 0.11496112,\n",
       "       0.11485258, 0.11474752, 0.11464307, 0.11454461, 0.11443687,\n",
       "       0.11433074, 0.11423215, 0.11412662, 0.11401769, 0.11392329,\n",
       "       0.1138273 , 0.11372512, 0.11362287, 0.11351215, 0.11341589,\n",
       "       0.11331517, 0.11322036, 0.11311858, 0.11300872, 0.11290436,\n",
       "       0.11280382, 0.11270156, 0.11260822, 0.11252572, 0.11243096,\n",
       "       0.11232457, 0.11222444, 0.11212597, 0.11202825, 0.11192743,\n",
       "       0.11184   , 0.11175217, 0.11164528, 0.11154278, 0.11144633,\n",
       "       0.11134269, 0.1112623 , 0.11116489, 0.11108462, 0.11099397,\n",
       "       0.11091126, 0.11081731, 0.11071904, 0.11062147, 0.11051819,\n",
       "       0.11042476, 0.11032637, 0.11022428, 0.11014419, 0.11004921,\n",
       "       0.10994397, 0.10984951, 0.10975744, 0.10965938, 0.10958071,\n",
       "       0.10948507, 0.1093864 , 0.10927416, 0.10919039, 0.10909802,\n",
       "       0.10900569, 0.10890789, 0.10881119, 0.10871519, 0.10862729,\n",
       "       0.10852627, 0.1084372 , 0.10834307, 0.10825993, 0.10817485,\n",
       "       0.1080816 , 0.10799657, 0.10790404, 0.10780968, 0.10772005,\n",
       "       0.10762164, 0.10753126, 0.10745066, 0.10737494, 0.10729158,\n",
       "       0.10720465, 0.10712201, 0.10704224, 0.10695688, 0.10687122,\n",
       "       0.10678671, 0.10670877, 0.10662917, 0.10654516, 0.10644931,\n",
       "       0.10637805, 0.10628975, 0.10619739, 0.10611857, 0.10602044,\n",
       "       0.10593618, 0.10584988, 0.10577039, 0.10568202, 0.10559808,\n",
       "       0.10551554, 0.10544056, 0.1053528 , 0.10526835, 0.10518341,\n",
       "       0.10510155, 0.10502512, 0.1049399 , 0.10486038, 0.10476944,\n",
       "       0.10467903, 0.10460383, 0.10453049, 0.10444692, 0.10436719,\n",
       "       0.10428312, 0.10419074, 0.10411146, 0.10403664, 0.10395861,\n",
       "       0.10388199, 0.10379034, 0.10371311, 0.10362718, 0.10354307,\n",
       "       0.10345811, 0.10337786, 0.10330077, 0.10322007, 0.1031324 ,\n",
       "       0.10305094, 0.1029732 , 0.10288876, 0.10280859, 0.10272664,\n",
       "       0.10264364, 0.10256203, 0.10248321, 0.1023986 , 0.1023172 ,\n",
       "       0.10223652, 0.10214687, 0.10207565, 0.10199665, 0.10192039,\n",
       "       0.10184062, 0.10175572, 0.10167249, 0.1015844 , 0.10149847,\n",
       "       0.10142045, 0.10132647, 0.10124664, 0.10117675, 0.10109696,\n",
       "       0.10102259, 0.10094146, 0.10087102, 0.10079497, 0.10071931,\n",
       "       0.10064933, 0.10056635, 0.10049637, 0.1004124 , 0.10033628],\n",
       "      dtype=float32)"
      ]
     },
     "execution_count": 115,
     "metadata": {},
     "output_type": "execute_result"
    }
   ],
   "source": [
    "flattened_scores[0, foo[0]]"
   ]
  },
  {
   "cell_type": "code",
   "execution_count": null,
   "metadata": {},
   "outputs": [
    {
     "data": {
      "text/plain": [
       "array([1.0000046 , 0.998426  , 0.9975997 , 0.99691534, 0.9963178 ,\n",
       "       0.99577004, 0.9951938 , 0.99464273, 0.99406564, 0.9935037 ,\n",
       "       0.99284315, 0.99224174, 0.99155235, 0.9908814 , 0.9902493 ,\n",
       "       0.98964685, 0.98890775, 0.9881254 , 0.9873074 , 0.98646295,\n",
       "       0.98563635, 0.9848198 , 0.9840154 , 0.98316574, 0.98230577,\n",
       "       0.9812562 , 0.9801698 , 0.9791283 , 0.97809917, 0.9769713 ,\n",
       "       0.9758131 , 0.97463703, 0.97324437, 0.9720334 , 0.9706463 ,\n",
       "       0.96911424, 0.96758306, 0.9659832 , 0.96435106, 0.9626126 ,\n",
       "       0.96078193, 0.95906293, 0.9569604 , 0.95469725, 0.9526079 ,\n",
       "       0.9504701 , 0.9478901 , 0.94538134, 0.9426415 , 0.93972796,\n",
       "       0.93669665, 0.9338155 , 0.9304681 , 0.92688525, 0.92326033,\n",
       "       0.919514  , 0.91508305, 0.9107526 , 0.90596557, 0.90150934,\n",
       "       0.89697397, 0.89218354, 0.8862491 , 0.8811144 , 0.8750308 ,\n",
       "       0.86915535, 0.8627805 , 0.8557429 , 0.84842557, 0.8414775 ,\n",
       "       0.83443755, 0.8271202 , 0.8191895 , 0.8125217 , 0.80480814,\n",
       "       0.7976546 , 0.7907658 , 0.78383654, 0.77631027, 0.76886153,\n",
       "       0.76117235, 0.75304294, 0.7463662 , 0.7396135 , 0.73277503,\n",
       "       0.7265923 , 0.720169  , 0.71295595, 0.7058197 , 0.6977752 ,\n",
       "       0.6914555 , 0.68413967, 0.6780403 , 0.6701196 , 0.663826  ,\n",
       "       0.65724945, 0.6504153 , 0.644745  , 0.63877034, 0.6329804 ,\n",
       "       0.6266226 , 0.62053835, 0.6155122 , 0.60997427, 0.60449606,\n",
       "       0.5995232 , 0.5938628 , 0.5881173 , 0.5828569 , 0.5775436 ,\n",
       "       0.573243  , 0.5688159 , 0.56432873, 0.55991316, 0.5560025 ,\n",
       "       0.55138046, 0.5472098 , 0.5428509 , 0.5387209 , 0.53456587,\n",
       "       0.5305418 , 0.52678925, 0.5234662 , 0.5197823 , 0.51554865,\n",
       "       0.5121184 , 0.5087028 , 0.5052252 , 0.5016008 , 0.49821925,\n",
       "       0.49462676, 0.4910505 , 0.4878252 , 0.48455605, 0.48156455,\n",
       "       0.47836414, 0.47545367, 0.4721577 , 0.469016  , 0.46628502,\n",
       "       0.46320784, 0.46000588, 0.45679742, 0.4537623 , 0.45104256,\n",
       "       0.44836345, 0.44582778, 0.44312182, 0.44045243, 0.43773594,\n",
       "       0.4354297 , 0.43262443, 0.4302921 , 0.42775124, 0.4256609 ,\n",
       "       0.4229364 , 0.42066905, 0.41814095, 0.4160334 , 0.41354352,\n",
       "       0.41168264, 0.40960336, 0.40740973, 0.40517226, 0.40328032,\n",
       "       0.40111512, 0.3988897 , 0.39703164, 0.39493683, 0.39293945,\n",
       "       0.3909714 , 0.38905406, 0.3872579 , 0.38511005, 0.38323638,\n",
       "       0.38137516, 0.37953836, 0.37761325, 0.3759535 , 0.37407434,\n",
       "       0.37263563, 0.37080356, 0.36900747, 0.36737236, 0.36570993,\n",
       "       0.36425793, 0.3625499 , 0.3611005 , 0.3597006 , 0.35810098,\n",
       "       0.35678113, 0.3552599 , 0.35378143, 0.35240817, 0.35092202,\n",
       "       0.34944636, 0.34794793, 0.34656307, 0.3452644 , 0.34385574,\n",
       "       0.34253582, 0.34108242, 0.33979702, 0.33841574, 0.33733168,\n",
       "       0.33608747, 0.33483294, 0.33348563, 0.3323119 , 0.33097756,\n",
       "       0.32967994, 0.32839975, 0.3271578 , 0.32590577, 0.32461202,\n",
       "       0.323499  , 0.32235795, 0.321156  , 0.3198578 , 0.31865907,\n",
       "       0.31741282, 0.31611317, 0.31493938, 0.31366944, 0.3124368 ,\n",
       "       0.31127474, 0.3102965 , 0.30921653, 0.30810317, 0.30681735,\n",
       "       0.30587256, 0.30483544, 0.30383685, 0.30284414, 0.30180866,\n",
       "       0.30083513, 0.29975837, 0.29865777, 0.29774523, 0.29679516,\n",
       "       0.2957595 , 0.2947084 , 0.29375893, 0.29282507, 0.2918683 ,\n",
       "       0.29094794, 0.29020622, 0.2892721 , 0.2883773 , 0.28756496,\n",
       "       0.2867277 , 0.2859815 , 0.28513622, 0.28433543, 0.2833036 ,\n",
       "       0.28251314, 0.28158948, 0.2806933 , 0.2797466 , 0.27870765,\n",
       "       0.27800456, 0.27717233, 0.2764025 , 0.275601  , 0.27480575,\n",
       "       0.273997  , 0.2732271 , 0.2724877 , 0.2717024 , 0.27088785,\n",
       "       0.2701084 , 0.26934183, 0.2686712 , 0.2678138 , 0.26706696,\n",
       "       0.26629534, 0.26556173, 0.2648796 , 0.2641269 , 0.26341146,\n",
       "       0.26270002, 0.26188514, 0.26117533, 0.2605178 , 0.25978205,\n",
       "       0.2590309 , 0.2583114 , 0.25759768, 0.25679073, 0.25616324,\n",
       "       0.25543436, 0.25479066, 0.25416014, 0.25345084, 0.25273687,\n",
       "       0.25205463, 0.25141522, 0.2507568 , 0.25016513, 0.24950093,\n",
       "       0.24884816, 0.24821226, 0.24758786, 0.24695353, 0.24640906,\n",
       "       0.24579233, 0.24517408, 0.24445827, 0.24380249, 0.24322708,\n",
       "       0.24258795, 0.24204083, 0.2413887 , 0.24085502, 0.24029087,\n",
       "       0.23974587, 0.23912537, 0.23855303, 0.23795563, 0.23733325,\n",
       "       0.23680586, 0.23621632, 0.23557143, 0.23501466, 0.23449208,\n",
       "       0.23393951, 0.2333471 , 0.23285064, 0.23237863, 0.23190247,\n",
       "       0.23131639, 0.23071142, 0.23012345, 0.22959913, 0.22913687,\n",
       "       0.22866955, 0.22818378, 0.22767627, 0.22716643, 0.226699  ,\n",
       "       0.22616634, 0.22570549, 0.22521825, 0.22468218, 0.22415264,\n",
       "       0.22364447, 0.22313505, 0.22267295, 0.22221807, 0.22171965,\n",
       "       0.22116482, 0.22066051, 0.22019543, 0.21972011, 0.21916895,\n",
       "       0.21871583, 0.21825886, 0.21775784, 0.21729791, 0.2168181 ,\n",
       "       0.21634792, 0.21589336, 0.21548921, 0.21504511, 0.2145917 ,\n",
       "       0.21419017, 0.21378164, 0.21335915, 0.21291575, 0.21248077,\n",
       "       0.21209088, 0.211656  , 0.21116018, 0.21070197, 0.21025296,\n",
       "       0.20978563, 0.20937008, 0.20892964, 0.20848475, 0.20806882,\n",
       "       0.20762351, 0.2071942 , 0.20677988, 0.20637666, 0.20601164,\n",
       "       0.2055932 , 0.20514318, 0.2047239 , 0.20434704, 0.20395365,\n",
       "       0.20353818, 0.20318133, 0.20277508, 0.20235848, 0.20201229,\n",
       "       0.2016407 , 0.20123495, 0.20085813, 0.2004262 , 0.20009586,\n",
       "       0.19970475, 0.19933169, 0.1989272 , 0.19856012, 0.19817467,\n",
       "       0.19782335, 0.19746125, 0.19704296, 0.196663  , 0.19629665,\n",
       "       0.19595647, 0.19562718, 0.19526602, 0.19495113, 0.19458744,\n",
       "       0.1942964 , 0.19391012, 0.19357339, 0.193218  , 0.19287279,\n",
       "       0.1925722 , 0.19221768, 0.19189152, 0.19153742, 0.19120587,\n",
       "       0.19090378, 0.19058505, 0.19022234, 0.18985082, 0.18948312,\n",
       "       0.1891636 , 0.1888551 , 0.18850824, 0.18817802, 0.1878906 ,\n",
       "       0.1875729 , 0.18732183, 0.18703368, 0.1867272 , 0.18641345,\n",
       "       0.18610278, 0.18578112, 0.18540399, 0.18507464, 0.1847848 ,\n",
       "       0.1844621 , 0.18416004, 0.18384002, 0.18351948, 0.183218  ,\n",
       "       0.18293883, 0.18265398, 0.18234761, 0.18206732, 0.18174894,\n",
       "       0.18141335, 0.18113582, 0.18081081, 0.18050803, 0.1802032 ,\n",
       "       0.1799263 , 0.17964026, 0.17937502, 0.17909952, 0.1788099 ,\n",
       "       0.17851512, 0.17820711, 0.17795204, 0.17764032, 0.17737323,\n",
       "       0.17705418, 0.17678553, 0.17651603, 0.17620362, 0.17589243,\n",
       "       0.17563821, 0.17535818, 0.17508133, 0.17478958, 0.17454913,\n",
       "       0.17430712, 0.17402846, 0.1738041 , 0.17351359, 0.17328264,\n",
       "       0.17303568, 0.1727733 , 0.17246602, 0.17220472, 0.17194909,\n",
       "       0.17166716, 0.17139211, 0.17112477, 0.17087494, 0.17064668,\n",
       "       0.17039967, 0.17015257, 0.16990224, 0.16966788, 0.16944967,\n",
       "       0.16923043, 0.16894719, 0.16869241, 0.16844705, 0.16820657,\n",
       "       0.16793114, 0.1676713 , 0.16741405, 0.16715738, 0.16689694,\n",
       "       0.16663697, 0.16634224, 0.16607863, 0.16584833, 0.16564305,\n",
       "       0.1653881 , 0.16513596, 0.1649193 , 0.16469154, 0.16447313,\n",
       "       0.16421035, 0.16398346, 0.16372174, 0.1634893 , 0.16323346,\n",
       "       0.16303292, 0.16282538, 0.16259381, 0.16237691, 0.16216972,\n",
       "       0.1619272 , 0.16172484, 0.16151062, 0.1612948 , 0.1610836 ,\n",
       "       0.16083245, 0.1605909 , 0.16037075, 0.16010155, 0.15988187,\n",
       "       0.15964167, 0.1594405 , 0.15918651, 0.15896286, 0.15874669,\n",
       "       0.15852067, 0.15830745, 0.15809117, 0.15786573, 0.15763897,\n",
       "       0.1574433 , 0.15722075, 0.15703072, 0.1568196 , 0.15661019,\n",
       "       0.15640092, 0.15620348, 0.15600602, 0.15581216, 0.15561302,\n",
       "       0.15538897, 0.15518364, 0.15495737, 0.15474327, 0.15451495,\n",
       "       0.15432282, 0.15412061, 0.15392487, 0.15371102, 0.15350443,\n",
       "       0.1533014 , 0.15309684, 0.15288426, 0.15267284, 0.1524831 ,\n",
       "       0.15228699, 0.15208122, 0.15187462, 0.15168273, 0.15150519,\n",
       "       0.1513394 , 0.1511501 , 0.15092443, 0.15074459, 0.1505638 ,\n",
       "       0.15035896, 0.15016149, 0.14997186, 0.14976832, 0.14956954,\n",
       "       0.14935489, 0.1491726 , 0.1489698 , 0.1487947 , 0.14860097,\n",
       "       0.1484082 , 0.1482316 , 0.14804   , 0.14782289, 0.147619  ,\n",
       "       0.14742629, 0.1472451 , 0.14706242, 0.14689392, 0.14671494,\n",
       "       0.14651841, 0.1463416 , 0.14616422, 0.14598319, 0.14581476,\n",
       "       0.14563376, 0.1454654 , 0.14527863, 0.14508565, 0.14489701,\n",
       "       0.14472078, 0.14451921, 0.14433983, 0.14418595, 0.14400925,\n",
       "       0.14384018, 0.14367084, 0.14350708, 0.14332058, 0.14316545,\n",
       "       0.14298129, 0.14281109, 0.14264756, 0.14247142, 0.14230281,\n",
       "       0.14211732, 0.14196503, 0.14177853, 0.1416161 , 0.14142425,\n",
       "       0.14124899, 0.14105271, 0.14090887, 0.14075333, 0.1405955 ,\n",
       "       0.14043531, 0.14029026, 0.14010933, 0.13996698, 0.13979557,\n",
       "       0.13965386, 0.13950995, 0.13931847, 0.13915308, 0.1389922 ,\n",
       "       0.13883777, 0.13867179, 0.13849978, 0.13832602, 0.1381778 ,\n",
       "       0.13803634, 0.13789374, 0.13773118, 0.13757814, 0.13740428,\n",
       "       0.13725284, 0.13708575, 0.13692765, 0.13677707, 0.13663632,\n",
       "       0.13650419, 0.13632768, 0.13617569, 0.13601537, 0.13587311,\n",
       "       0.1356975 , 0.13552956, 0.13540001, 0.13525888, 0.13510497,\n",
       "       0.13496472, 0.1348011 , 0.13463683, 0.13449453, 0.1343387 ,\n",
       "       0.1341679 , 0.13402094, 0.13386443, 0.13372192, 0.133582  ,\n",
       "       0.1334327 , 0.13328235, 0.13312206, 0.13296558, 0.13280928,\n",
       "       0.13267502, 0.13252114, 0.13236207, 0.13222988, 0.13208196,\n",
       "       0.13192925, 0.13179341, 0.13165773, 0.13153295, 0.13139762,\n",
       "       0.13125338, 0.1311239 , 0.13097636, 0.13085909, 0.13069998,\n",
       "       0.13056342, 0.1304281 , 0.13027534, 0.13012654, 0.12999281,\n",
       "       0.12982689, 0.12967551, 0.12952738, 0.12939714, 0.12925807,\n",
       "       0.12912764, 0.12900169, 0.12886381, 0.12873006, 0.12860669,\n",
       "       0.12848152, 0.1283617 , 0.12823166, 0.12808782, 0.12795852,\n",
       "       0.12781592, 0.12768574, 0.12756436, 0.12741002, 0.12727973,\n",
       "       0.12714382, 0.12699193, 0.12686563, 0.12673135, 0.12659933,\n",
       "       0.12646638, 0.12633868, 0.12619443, 0.12606534, 0.12596005,\n",
       "       0.1258312 , 0.12570065, 0.12558174, 0.12546983, 0.12535891,\n",
       "       0.1252085 , 0.12507744, 0.12494966, 0.12483729, 0.12473616,\n",
       "       0.12461849, 0.1245025 , 0.12438498, 0.12424507, 0.12411749,\n",
       "       0.12400652, 0.12387407, 0.12376548, 0.12362292, 0.12349389,\n",
       "       0.12336073, 0.12323879, 0.12312161, 0.12297758, 0.12285169,\n",
       "       0.12274502, 0.12262148, 0.1225006 , 0.12238456, 0.12227178,\n",
       "       0.12215519, 0.12203468, 0.12191434, 0.12179173, 0.12167887,\n",
       "       0.12156957, 0.12145314, 0.12133013, 0.1212128 , 0.12109157,\n",
       "       0.12097918, 0.1208547 , 0.12074069, 0.12062655, 0.12050464,\n",
       "       0.12038857, 0.12028731, 0.12017653, 0.12005458, 0.119944  ,\n",
       "       0.11982749, 0.11972417, 0.11959662, 0.11948407, 0.11935693,\n",
       "       0.11923771, 0.11911185, 0.11899149, 0.11887737, 0.11876042,\n",
       "       0.11866026, 0.11854237, 0.11842563, 0.11831525, 0.11819767,\n",
       "       0.11809879, 0.11799145, 0.11787338, 0.11776479, 0.11766167,\n",
       "       0.11755577, 0.11746184, 0.11735003, 0.11723574, 0.11712904,\n",
       "       0.1170185 , 0.11690095, 0.11680096, 0.1166924 , 0.11657827,\n",
       "       0.11646913, 0.11635936, 0.11624448, 0.11613324, 0.11603568,\n",
       "       0.11593664, 0.11583082, 0.11571745, 0.11561399, 0.11549634,\n",
       "       0.11537618, 0.1152766 , 0.11517689, 0.11506811, 0.11496112,\n",
       "       0.11485258, 0.11474752, 0.11464307, 0.11454461, 0.11443687,\n",
       "       0.11433074, 0.11423215, 0.11412662, 0.11401769, 0.11392329,\n",
       "       0.1138273 , 0.11372512, 0.11362287, 0.11351215, 0.11341589,\n",
       "       0.11331517, 0.11322036, 0.11311858, 0.11300872, 0.11290436,\n",
       "       0.11280382, 0.11270156, 0.11260822, 0.11252572, 0.11243096,\n",
       "       0.11232457, 0.11222444, 0.11212597, 0.11202825, 0.11192743,\n",
       "       0.11184   , 0.11175217, 0.11164528, 0.11154278, 0.11144633,\n",
       "       0.11134269, 0.1112623 , 0.11116489, 0.11108462, 0.11099397,\n",
       "       0.11091126, 0.11081731, 0.11071904, 0.11062147, 0.11051819,\n",
       "       0.11042476, 0.11032637, 0.11022428, 0.11014419, 0.11004921,\n",
       "       0.10994397, 0.10984951, 0.10975744, 0.10965938, 0.10958071,\n",
       "       0.10948507, 0.1093864 , 0.10927416, 0.10919039, 0.10909802,\n",
       "       0.10900569, 0.10890789, 0.10881119, 0.10871519, 0.10862729,\n",
       "       0.10852627, 0.1084372 , 0.10834307, 0.10825993, 0.10817485,\n",
       "       0.1080816 , 0.10799657, 0.10790404, 0.10780968, 0.10772005,\n",
       "       0.10762164, 0.10753126, 0.10745066, 0.10737494, 0.10729158,\n",
       "       0.10720465, 0.10712201, 0.10704224, 0.10695688, 0.10687122,\n",
       "       0.10678671, 0.10670877, 0.10662917, 0.10654516, 0.10644931,\n",
       "       0.10637805, 0.10628975, 0.10619739, 0.10611857, 0.10602044,\n",
       "       0.10593618, 0.10584988, 0.10577039, 0.10568202, 0.10559808,\n",
       "       0.10551554, 0.10544056, 0.1053528 , 0.10526835, 0.10518341,\n",
       "       0.10510155, 0.10502512, 0.1049399 , 0.10486038, 0.10476944,\n",
       "       0.10467903, 0.10460383, 0.10453049, 0.10444692, 0.10436719,\n",
       "       0.10428312, 0.10419074, 0.10411146, 0.10403664, 0.10395861,\n",
       "       0.10388199, 0.10379034, 0.10371311, 0.10362718, 0.10354307,\n",
       "       0.10345811, 0.10337786, 0.10330077, 0.10322007, 0.1031324 ,\n",
       "       0.10305094, 0.1029732 , 0.10288876, 0.10280859, 0.10272664,\n",
       "       0.10264364, 0.10256203, 0.10248321, 0.1023986 , 0.1023172 ,\n",
       "       0.10223652, 0.10214687, 0.10207565, 0.10199665, 0.10192039,\n",
       "       0.10184062, 0.10175572, 0.10167249, 0.1015844 , 0.10149847,\n",
       "       0.10142045, 0.10132647, 0.10124664, 0.10117675, 0.10109696,\n",
       "       0.10102259, 0.10094146, 0.10087102, 0.10079497, 0.10071931,\n",
       "       0.10064933, 0.10056635, 0.10049637, 0.1004124 , 0.10033628],\n",
       "      dtype=float32)"
      ]
     },
     "execution_count": 116,
     "metadata": {},
     "output_type": "execute_result"
    }
   ],
   "source": [
    "flattened_scores[0][foo[0]]"
   ]
  },
  {
   "cell_type": "code",
   "execution_count": null,
   "metadata": {},
   "outputs": [
    {
     "data": {
      "text/plain": [
       "array([[356978314, 232045703, 214254781, ..., 149252682, 246362214,\n",
       "        137136913],\n",
       "       [544132235, 576683291, 434097610, ...,  50729322, 452436606,\n",
       "        164738758],\n",
       "       [ 18134529, 542146987, 168616353, ..., 274704134,  23052701,\n",
       "        124440409],\n",
       "       ...,\n",
       "       [170930692, 197004463, 357762384, ..., 351844274, 428534695,\n",
       "          5448313],\n",
       "       [113364127, 302575045, 289381643, ..., 549784710, 590401277,\n",
       "         55335515],\n",
       "       [583102731, 391643905, 325384514, ..., 290100627, 147063992,\n",
       "        195185322]])"
      ]
     },
     "execution_count": 117,
     "metadata": {},
     "output_type": "execute_result"
    }
   ],
   "source": [
    "foo"
   ]
  },
  {
   "cell_type": "code",
   "execution_count": null,
   "metadata": {},
   "outputs": [
    {
     "data": {
      "text/plain": [
       "(11, 1000)"
      ]
     },
     "execution_count": 118,
     "metadata": {},
     "output_type": "execute_result"
    }
   ],
   "source": [
    "foo.shape"
   ]
  },
  {
   "cell_type": "code",
   "execution_count": null,
   "metadata": {},
   "outputs": [],
   "source": [
    "np.savez(\"artefacts/sampled_interaction_measures/pearson_correlation/count_1000\")"
   ]
  },
  {
   "cell_type": "code",
   "execution_count": null,
   "metadata": {},
   "outputs": [],
   "source": [
    "np.savez(\"artefacts/sampled_interaction_measures/pearson_correlation/count_1000\", foo)"
   ]
  },
  {
   "cell_type": "code",
   "execution_count": null,
   "metadata": {},
   "outputs": [],
   "source": [
    "dim_1 = foo[0] // d_sae"
   ]
  },
  {
   "cell_type": "code",
   "execution_count": null,
   "metadata": {},
   "outputs": [
    {
     "data": {
      "text/plain": [
       "array([14525,  9441,  8718,  7609,  1555,  2248, 24067,  6076, 21572,\n",
       "       18712, 23330, 10256, 10314, 15015,  8406, 18743,   978, 24361,\n",
       "        1591,  5701,  4270, 20527,  7447,  8949, 20692,  2529,  9724,\n",
       "        4202, 13226, 18420, 17972, 19029, 13489,  1724, 19665, 15420,\n",
       "       21046, 15678, 23551,  7464, 12288,  3898, 14319,  4580,  8023,\n",
       "       14440, 22626, 17819, 23623, 24491, 21745,  4051, 15506,   544,\n",
       "        4734, 23716, 23969, 14599,   132, 19532, 11155, 10614, 16989,\n",
       "       12105,  2282,  5904,  8104, 17174, 20413, 12309, 12984,  3707,\n",
       "       18133,  3996,  4460,  7923, 24475, 24353,  6500, 13216, 21872,\n",
       "       12327,  7558,  9848, 19677, 14927, 17974, 10953, 16991, 16652,\n",
       "       10427, 23496,  3725,  8018,  1505, 23190,   715, 22597,  2469,\n",
       "       24362, 12984, 10297, 23190,  2439,  1162, 14469, 16687,  7011,\n",
       "        4248, 11045,  6040,  3078, 23224,  1737, 16408,  3317, 16092,\n",
       "       21442, 20155, 12240, 16030, 22216,  1839, 13862, 13677,  6872,\n",
       "        5880, 10254, 12381,  7321,  6245, 16271, 17809, 12817, 14915,\n",
       "       12674,  1839, 12191,  8816,  8384, 15033,  5286, 13873, 18240,\n",
       "       12521, 16229,  6973,  5372,  4649,  2647,  5713,  1855, 16901,\n",
       "       18842, 23967, 23871,  6383, 18545,  9465, 23384, 19823, 15473,\n",
       "        6077,    33,  4689,  8676, 12129, 10899,  3317, 17178,  1995,\n",
       "       20356,  1722, 20517, 16413, 22936, 11029,  3603, 17939, 15032,\n",
       "        7845, 10647,    24, 10612, 16809,  8868, 19323, 11876,    33,\n",
       "       18589,  2166, 24123,  3240, 14129, 11242,  4579,  8424, 19291,\n",
       "        9725,  8658, 11703,    38, 22819, 23250, 15720, 10188,  1681,\n",
       "       13584, 12008,  7702, 14548, 15821,  9132, 17318,  6383, 10325,\n",
       "         235,   626, 15645,  8658,  9462, 10226, 16332,  5384, 23190,\n",
       "       24343, 18774,   727, 23324,  6853, 17068, 15451, 18263, 15840,\n",
       "       14320, 10705,  4707,  4495,  3773, 19169,  5618, 17796, 21309,\n",
       "        9370, 22271,  4359,  9531,  7046,  2695,  5800, 16005,  3470,\n",
       "       21786, 16576, 15667, 11792,  6973, 20567, 14548,  2867,  3994,\n",
       "       10055,  2839, 13983,  7682, 19536,  9478,    29,  1722, 24383,\n",
       "       21711, 11742,  1458,  3305, 17161, 12500,  6112, 16718, 22328,\n",
       "       22000,  1929,  8295, 20406, 10002,  1952, 24182, 20272, 23190,\n",
       "        2580, 20832, 23741, 15222, 16235, 20455,  9883, 12906, 14414,\n",
       "        6609, 20455, 19061,  2667,    24, 24094, 23757, 19545,  5750,\n",
       "       18201,  7215,  6184, 14208, 13954, 14158,  4761, 11835, 21256,\n",
       "        8534, 16143, 17919,  9304, 17540, 17385, 22095, 11118, 19372,\n",
       "       16975, 13070,  9652, 10153, 23713, 22634, 13783,  9413, 15639,\n",
       "        3098, 14119,   842,  3177,  6793, 23739,  7842, 14644,  6233,\n",
       "        3825, 14507, 21295, 19738,  2011,  1050,  7520,  8142, 16129,\n",
       "       11895,   169,  7982, 19446,  6240, 20080, 14968, 15639, 18332,\n",
       "         878,  4772, 12467,   962,  1848, 18972,  4056, 19924, 19739,\n",
       "          33,  9648, 14329, 14559, 19946,  5588,  9146, 16093, 13072,\n",
       "        6383,  8193,  5041,  9260, 15841, 12831, 20188, 16628, 16627,\n",
       "       14052, 11703, 19403,   723, 14649, 24187,  1264, 14132, 10612,\n",
       "        5356,  2288,  5320, 17225,  9895, 18555, 15289,   845, 11307,\n",
       "        7463,  3477, 10439,  6976, 14530, 13903, 10222, 10969, 17799,\n",
       "       14530,  6292, 11674, 14241,  4689, 17776, 22767,  7081, 22614,\n",
       "       15821, 19967,  5269, 21991,  5931, 15773,  1326, 21389, 19065,\n",
       "       13569, 22257, 21551, 22907, 23852, 15531,  8896, 13114,    90,\n",
       "       10393,  8081, 23700, 22483,  9197, 22712, 21992, 22268,  6380,\n",
       "       23639, 13703, 18962, 15797, 24340, 17540, 16506,  7916, 14822,\n",
       "        5610,  4967, 19889, 10684,  9370,  9767,    50, 13502, 17217,\n",
       "       20342, 14844, 10005, 14736,  4229,  9967, 22546,  3655,  7598,\n",
       "       24527, 19685, 12282, 18651, 14345, 19311, 14596,   580,  4090,\n",
       "        5055,  9939, 23418,  4052, 13162, 21788,  2210, 14908,   953,\n",
       "        4334, 20049,  7135, 24103,  8399, 20376, 19222,  5618,  5673,\n",
       "       14830,  2984, 20297, 20764, 22091,  8837, 13601,  4450, 12198,\n",
       "       22761, 23277, 19720, 11785,  2373, 17349, 10156,  6423, 11697,\n",
       "        3443, 22218,  9980, 21251, 12608,  8387,  9256, 14410,  4649,\n",
       "       22035,  1739, 18832,  2133,  7496,  6233, 19003, 13185, 14092,\n",
       "        7638,  8516,  7684, 10779, 15118, 12780, 24399, 20489,  8575,\n",
       "        2104, 20432, 11654, 24524,  2279,  3164, 21933, 16169, 22183,\n",
       "       17902, 15440,  9767,   220,  4834, 21269,  5809,  8224, 23556,\n",
       "        7171, 24081,  4362,   344,  6229, 21552, 17919,  5049,  2967,\n",
       "        1986, 20596, 23669, 14478,  9581,  9559, 24522, 23185, 23675,\n",
       "       22098, 18584, 15397,  7836, 14548, 11320, 13433, 18358,    91,\n",
       "       17677, 22235, 14973, 12381, 11875,  1196,  8261,  7161, 22617,\n",
       "       23518, 10342, 23139, 10516,  9553, 19112, 12880,  3019,  9602,\n",
       "        3192, 17851, 18049, 13269,  1847,  7244,   510, 22062, 20367,\n",
       "       13182,  3536, 10393,  3313,   269, 15376, 14862, 10545,  7724,\n",
       "       19749, 22346, 16580, 11416,  4332,  2341,  9540,  5864, 14353,\n",
       "        2459, 12367, 11099,  8910, 12725,  1448, 10841,  1065,  5094,\n",
       "        7333, 18490,  6271, 18236, 13873, 14548, 23274,   747,  4724,\n",
       "       14976, 20972, 10018, 10570, 10495, 16809, 11690,  1926, 13872,\n",
       "       20713, 21391,    49, 23654,  4606, 13217, 24434, 20281, 17617,\n",
       "        4871, 14515,  2701,  5519, 11855,  1888, 21711,  1742,  3086,\n",
       "        5154, 17854, 22514, 24081, 16322, 18858,  1098,  8648, 13173,\n",
       "       24094,  8732,  6428, 12725, 19768, 21835, 16245,  9145, 20592,\n",
       "       13765, 14000, 20728, 12236, 13834,  1001, 16147, 20001,  9963,\n",
       "       12342,  4398,  7218, 10763, 17722, 16859, 18898, 22886,  3308,\n",
       "       16312,  5311, 14810, 24401,  4052, 13143, 12674, 24171, 23930,\n",
       "       18366, 23436, 22110, 15161,  8115,  5063, 19803,   723, 14207,\n",
       "       21480, 11485, 18994, 22773, 10287,  9168,  8498,  4864, 16103,\n",
       "         347,  5667, 10887, 12248, 20101, 24171,  4708, 10719, 15366,\n",
       "        9588,  6527,  2408,  5629,  5195, 18690,  4525,  9496,   819,\n",
       "       19692, 23103, 10807, 17038, 10297, 21787, 16018, 20424,  7219,\n",
       "        3227, 14541, 10247, 12324,  6920, 10599, 17584, 14264,  5811,\n",
       "       14542,  4674, 13759,  4152, 13243, 24223,  8224, 12947,  9975,\n",
       "       20744,  6716, 13980,  9776,  1563,  6287, 11625,  3997, 18692,\n",
       "        1790, 11783,  1737, 14793,  3878, 10357, 15292, 16103,  1862,\n",
       "       18885, 16716,  9886, 15444, 23185, 18585,  7060, 12824, 18692,\n",
       "       14435,  6271, 16146, 16255,  1936,  2467,  5497, 20592, 20591,\n",
       "        7279, 16295,  4936,  4772, 24055, 16765, 21166, 17558, 15645,\n",
       "        5116, 17167, 11755,  2742, 24511,   455,   706,   648, 22805,\n",
       "        5372,  8387, 16322, 15667, 10349,  5853, 13818, 23450,  4742,\n",
       "       24459, 19770, 13976,  2343,  9208, 13078,  2920, 22899,  8018,\n",
       "        6683, 18317,  5049,  8964,  5249, 11037,  1373, 17905,  3192,\n",
       "        3002, 10812, 11710, 18912, 24332,  3004, 22640, 20239, 12332,\n",
       "        9403,  9019, 22035, 17536,   836, 23800, 22953, 23374, 15008,\n",
       "        7145,  9462, 19494, 23139, 12831, 23135,  9845, 20278, 21997,\n",
       "        7818,   626,  3268, 22024,  1378, 18878, 12880, 15992, 22064,\n",
       "       14113, 17121, 21159, 21388, 21112, 19675,  1345, 20313,  5775,\n",
       "        9413, 20188, 15855, 23136, 16954,  1061, 17333, 11838,  5560,\n",
       "       16446, 21534,  5452, 12718,  3008, 22483, 11876, 13013,  1675,\n",
       "       19692, 19091, 16371,  1182, 17400, 24460,  9875, 14701, 24454,\n",
       "       10474, 15139,  1627, 15346, 23679,  6512, 10671, 18075,  2117,\n",
       "       10144,  3994,  4016,  1294,  6438, 17590,   924, 16777, 17305,\n",
       "       16701, 21665,  7792, 12625,  4306, 19043,  8461, 18139,  1689,\n",
       "        5924,  2749,  9853, 22667,  4650,  3773, 19887, 20270, 15920,\n",
       "       22027,  9309,  4930, 12479, 13614, 14348, 15774, 10142,  4687,\n",
       "       11946,  5612,  3378, 23188,   361, 20188, 19632,  6073, 10024,\n",
       "        5580])"
      ]
     },
     "execution_count": 122,
     "metadata": {},
     "output_type": "execute_result"
    }
   ],
   "source": [
    "dim_1"
   ]
  },
  {
   "cell_type": "code",
   "execution_count": null,
   "metadata": {},
   "outputs": [
    {
     "data": {
      "text/plain": [
       "array([[356978314, 232045703, 214254781, ..., 149252682, 246362214,\n",
       "        137136913],\n",
       "       [544132235, 576683291, 434097610, ...,  50729322, 452436606,\n",
       "        164738758],\n",
       "       [ 18134529, 542146987, 168616353, ..., 274704134,  23052701,\n",
       "        124440409],\n",
       "       ...,\n",
       "       [170930692, 197004463, 357762384, ..., 351844274, 428534695,\n",
       "          5448313],\n",
       "       [113364127, 302575045, 289381643, ..., 549784710, 590401277,\n",
       "         55335515],\n",
       "       [583102731, 391643905, 325384514, ..., 290100627, 147063992,\n",
       "        195185322]])"
      ]
     },
     "execution_count": 123,
     "metadata": {},
     "output_type": "execute_result"
    }
   ],
   "source": [
    "foo"
   ]
  },
  {
   "cell_type": "code",
   "execution_count": null,
   "metadata": {},
   "outputs": [
    {
     "data": {
      "text/plain": [
       "(11, 1000)"
      ]
     },
     "execution_count": 124,
     "metadata": {},
     "output_type": "execute_result"
    }
   ],
   "source": [
    "foo.shape"
   ]
  },
  {
   "cell_type": "code",
   "execution_count": null,
   "metadata": {},
   "outputs": [
    {
     "data": {
      "text/plain": [
       "(14525, 11914)"
      ]
     },
     "execution_count": 125,
     "metadata": {},
     "output_type": "execute_result"
    }
   ],
   "source": [
    "np.unravel_index(foo[0][0], (d_sae, d_sae))"
   ]
  },
  {
   "cell_type": "code",
   "execution_count": null,
   "metadata": {},
   "outputs": [
    {
     "data": {
      "text/plain": [
       "1.0000046"
      ]
     },
     "execution_count": 126,
     "metadata": {},
     "output_type": "execute_result"
    }
   ],
   "source": [
    "interaction_scores[0][14525][11914]"
   ]
  }
 ],
 "metadata": {
  "language_info": {
   "codemirror_mode": {
    "name": "ipython",
    "version": 3
   },
   "file_extension": ".py",
   "mimetype": "text/x-python",
   "name": "python",
   "nbconvert_exporter": "python",
   "pygments_lexer": "ipython3",
   "version": 3
  }
 },
 "nbformat": 4,
 "nbformat_minor": 2
}
