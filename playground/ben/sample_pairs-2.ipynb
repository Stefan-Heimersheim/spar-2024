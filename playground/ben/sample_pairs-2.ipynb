{
 "cells": [
  {
   "cell_type": "markdown",
   "metadata": {},
   "source": [
    "Connected to spar (Python 3.11.9)"
   ]
  },
  {
   "cell_type": "code",
   "execution_count": null,
   "id": "e2fd0e4a-5279-45a5-80a8-4371d76ad196",
   "metadata": {},
   "outputs": [],
   "source": [
    "def plot_hist(array):\n",
    "    # Create the histogram\n",
    "    fig, ax = plt.subplots(figsize=(12, 6))\n",
    "    n, bins, patches = ax.hist(array, bins=50, edgecolor='black')\n",
    "\n",
    "    # Add labels and title\n",
    "    ax.set_xlabel('Value')\n",
    "    ax.set_ylabel('Frequency')\n",
    "    ax.set_title('Histogram of Data')\n",
    "\n",
    "    # Function to format the label\n",
    "    def format_label(bin_start, bin_end):\n",
    "        return f'[{bin_start:.2f}, {bin_end:.2f})'\n",
    "\n",
    "    # Add text labels for each bar\n",
    "    for i, patch in enumerate(patches):\n",
    "        width = patch.get_width()\n",
    "        height = patch.get_height()\n",
    "        x = patch.get_x()\n",
    "        y = patch.get_y()\n",
    "        label = format_label(bins[i], bins[i+1])\n",
    "        \n",
    "        # Rotate labels for better readability\n",
    "        ax.text(x + width/2, y + height/2, label, \n",
    "                ha='center', va='center', rotation=90, fontsize=8)\n",
    "\n",
    "    # Adjust layout to prevent clipping of labels\n",
    "    plt.tight_layout()\n",
    "\n",
    "    # Show the plot\n",
    "    plt.show()\n",
    "\n",
    "###########################"
   ]
  },
  {
   "cell_type": "code",
   "execution_count": null,
   "metadata": {},
   "outputs": [
    {
     "ename": "NameError",
     "evalue": "name 'first_layer_feat_idxes' is not defined",
     "output_type": "error",
     "traceback": [
      "\u001b[0;31m---------------------------------------------------------------------------\u001b[0m",
      "\u001b[0;31mNameError\u001b[0m                                 Traceback (most recent call last)",
      "Cell \u001b[0;32mIn[2], line 1\u001b[0m\n\u001b[0;32m----> 1\u001b[0m first_layer_feat_idxes\n",
      "\u001b[0;31mNameError\u001b[0m: name 'first_layer_feat_idxes' is not defined"
     ]
    }
   ],
   "source": [
    "first_layer_feat_idxes"
   ]
  },
  {
   "cell_type": "code",
   "execution_count": null,
   "id": "4abc3852-9784-482f-8be7-f8817698daeb",
   "metadata": {},
   "outputs": [],
   "source": [
    "import argparse\n",
    "import numpy as np\n",
    "from math import prod\n",
    "from src.enums import Measure\n",
    "import os\n",
    "import matplotlib.pyplot as plt\n",
    "\n",
    "\n",
    "from dataclasses import dataclass\n",
    "\n",
    "@dataclass\n",
    "class Args:\n",
    "    measure: Measure = Measure.pearson\n",
    "    save: bool = False"
   ]
  },
  {
   "cell_type": "code",
   "execution_count": null,
   "id": "b0c641db-be34-462f-85d0-62802efbc02d",
   "metadata": {},
   "outputs": [
    {
     "name": "stdout",
     "output_type": "stream",
     "text": [
      "Reading full interaction scores\n"
     ]
    }
   ],
   "source": [
    "# if __name__ == \"__main__\":\n",
    "#     parser = argparse.ArgumentParser()\n",
    "#     parser.add_argument('--measure', type=Measure, help='interaction measure whose values will indicate the', default=Measure.pearson)\n",
    "#     parser.add_argument('--truncate', type=bool, help='truncates the number of feature pairs that are sampled, used only for testing bc its fast', default=False)\n",
    "#     parser.add_argument('--save', type=bool, help='whether to save results or not', default=False)\n",
    "#     args = parser.parse_args()\n",
    "\n",
    "\n",
    "args = Args()\n",
    "print(\"Reading full interaction scores\")\n",
    "if args.measure == Measure.pearson:\n",
    "    filename = \"artefacts/similarity_measures/pearson_correlation/res_jb_sae_feature_similarity_pearson_correlation_1M_0.0_0.1.npz\"\n",
    "    with open(filename, 'rb') as data:\n",
    "        interaction_scores = np.load(data)['arr_0']\n",
    "elif args.measure == Measure.jaccard:\n",
    "    filename = \"artefacts/jaccard/jaccard_2024-07-02-a.npz\"\n",
    "    with open(filename, 'rb') as data:\n",
    "        interaction_scores = np.load(data)['arr_0']\n",
    "else:\n",
    "    raise NotImplementedError(f\"Haven't gotten around to {args.measure} yet\")\n",
    "num_layers, d_sae, _ = interaction_scores.shape"
   ]
  },
  {
   "cell_type": "code",
   "execution_count": null,
   "id": "5be64645-3478-4a2b-8481-87910bd437c0",
   "metadata": {},
   "outputs": [],
   "source": [
    "flattened_per_layer_scores = interaction_scores.reshape(num_layers, d_sae**2)\n",
    "# the indexes of the layer pairs, per layer, sorted by the score of each pair, descending\n",
    "sorted_flattened_pairs_filename = \"artefacts/sampled_interaction_measures/pearson_correlation/sorted_flattened_pair_idxes\"\n",
    "if os.path.exists(f\"{sorted_flattened_pairs_filename}.npz\"):\n",
    "    sorted_desc_by_score_per_layer_pair_idxes = np.load(f\"{sorted_flattened_pairs_filename}.npz\")['arr_0']\n",
    "else:\n",
    "    print(\"Sorting each layer\")\n",
    "    # key line, very slow\n",
    "    full_sorted_desc_by_score_per_layer_pair_idxes = np.argsort(flattened_per_layer_scores, axis=1)[:, ::-1]\n",
    "    sorted_desc_by_score_per_layer_pair_idxes = full_sorted_desc_by_score_per_layer_pair_idxes[:, :500]\n",
    "    np.savez(sorted_flattened_pairs_filename, sorted_desc_by_score_per_layer_pair_idxes)"
   ]
  },
  {
   "cell_type": "code",
   "execution_count": null,
   "id": "44853127-79b7-4604-90d1-caf18573ae88",
   "metadata": {},
   "outputs": [],
   "source": [
    "# parsing out the first layer and second layer idxes\n",
    "first_layer_idx_arr = []\n",
    "second_layer_idx_arr = []\n",
    "for layer_idx in range(num_layers):\n",
    "    first_layer_idxes, second_layer_idxes = np.unravel_index(sorted_desc_by_score_per_layer_pair_idxes[layer_idx], shape=(d_sae, d_sae))\n",
    "    first_layer_idx_arr.append(first_layer_idxes)\n",
    "    second_layer_idx_arr.append(second_layer_idxes)\n",
    "first_layer_feat_idxes = np.array(first_layer_idx_arr)\n",
    "second_layer_feat_idxes = np.array(second_layer_idx_arr)"
   ]
  },
  {
   "cell_type": "code",
   "execution_count": null,
   "metadata": {},
   "outputs": [
    {
     "data": {
      "text/plain": [
       "array([[356978314, 356989137, 467889802, ..., 274670071, 527358606,\n",
       "          4278495],\n",
       "       [544132235, 558785663, 292799615, ...,  18498300, 169296199,\n",
       "        483344726],\n",
       "       [ 18134529, 481576948, 481572846, ...,  78913545, 178944816,\n",
       "         12296020],\n",
       "       ...,\n",
       "       [170930692, 170948083, 435466756, ..., 270770834, 149557388,\n",
       "        403819729],\n",
       "       [113364127, 113348780, 540765343, ..., 600169404,  82671866,\n",
       "        566237139],\n",
       "       [583102731, 583098208, 482069506, ..., 131693941,  28856524,\n",
       "        292975321]])"
      ]
     },
     "execution_count": 7,
     "metadata": {},
     "output_type": "execute_result"
    }
   ],
   "source": [
    "sorted_desc_by_score_per_layer_pair_idxes"
   ]
  },
  {
   "cell_type": "code",
   "execution_count": null,
   "id": "edc8ff6b-3e4a-4a78-9e89-a346df22eba0",
   "metadata": {},
   "outputs": [],
   "source": [
    "per_layer_nonzero = np.count_nonzero(flattened_per_layer_scores, axis=1)"
   ]
  },
  {
   "cell_type": "code",
   "execution_count": null,
   "metadata": {},
   "outputs": [
    {
     "data": {
      "text/plain": [
       "array([172752, 165573, 165466, 197123, 238215, 271127, 303428, 334352,\n",
       "       357107, 341060, 328678])"
      ]
     },
     "execution_count": 9,
     "metadata": {},
     "output_type": "execute_result"
    }
   ],
   "source": [
    "per_layer_nonzero"
   ]
  },
  {
   "cell_type": "code",
   "execution_count": null,
   "metadata": {},
   "outputs": [
    {
     "data": {
      "text/plain": [
       "2874881"
      ]
     },
     "execution_count": 10,
     "metadata": {},
     "output_type": "execute_result"
    }
   ],
   "source": [
    "sum(per_layer_nonzero)"
   ]
  },
  {
   "cell_type": "code",
   "execution_count": null,
   "metadata": {},
   "outputs": [
    {
     "ename": "SyntaxError",
     "evalue": "incomplete input (<ipython-input-11-6da43179aeb8>, line 1)",
     "output_type": "error",
     "traceback": [
      "\u001b[0;36m  Cell \u001b[0;32mIn[11], line 1\u001b[0;36m\u001b[0m\n\u001b[0;31m    foo = {f\"layer_{layer_idx}\": full_sorted_desc_by_score_per_layer_pair_idxes[layer_idx, :per_layer_nonzero[layer_idx]] for layer_idx in range(num_layers)\u001b[0m\n\u001b[0m                                                                                                                                                            ^\u001b[0m\n\u001b[0;31mSyntaxError\u001b[0m\u001b[0;31m:\u001b[0m incomplete input\n"
     ]
    }
   ],
   "source": [
    "foo = {f\"layer_{layer_idx}\": full_sorted_desc_by_score_per_layer_pair_idxes[layer_idx, :per_layer_nonzero[layer_idx]] for layer_idx in range(num_layers)"
   ]
  },
  {
   "cell_type": "code",
   "execution_count": null,
   "metadata": {},
   "outputs": [
    {
     "ename": "NameError",
     "evalue": "name 'full_sorted_desc_by_score_per_layer_pair_idxes' is not defined",
     "output_type": "error",
     "traceback": [
      "\u001b[0;31m---------------------------------------------------------------------------\u001b[0m",
      "\u001b[0;31mNameError\u001b[0m                                 Traceback (most recent call last)",
      "Cell \u001b[0;32mIn[12], line 1\u001b[0m\n\u001b[0;32m----> 1\u001b[0m foo \u001b[39m=\u001b[39m {\u001b[39mf\u001b[39;49m\u001b[39m\"\u001b[39;49m\u001b[39mlayer_\u001b[39;49m\u001b[39m{\u001b[39;49;00mlayer_idx\u001b[39m}\u001b[39;49;00m\u001b[39m\"\u001b[39;49m: full_sorted_desc_by_score_per_layer_pair_idxes[layer_idx, :per_layer_nonzero[layer_idx]] \u001b[39mfor\u001b[39;49;00m layer_idx \u001b[39min\u001b[39;49;00m \u001b[39mrange\u001b[39;49m(num_layers)}\n",
      "Cell \u001b[0;32mIn[12], line 1\u001b[0m, in \u001b[0;36m<dictcomp>\u001b[0;34m(.0)\u001b[0m\n\u001b[0;32m----> 1\u001b[0m foo \u001b[39m=\u001b[39m {\u001b[39mf\u001b[39m\u001b[39m\"\u001b[39m\u001b[39mlayer_\u001b[39m\u001b[39m{\u001b[39;00mlayer_idx\u001b[39m}\u001b[39;00m\u001b[39m\"\u001b[39m: full_sorted_desc_by_score_per_layer_pair_idxes[layer_idx, :per_layer_nonzero[layer_idx]] \u001b[39mfor\u001b[39;00m layer_idx \u001b[39min\u001b[39;00m \u001b[39mrange\u001b[39m(num_layers)}\n",
      "\u001b[0;31mNameError\u001b[0m: name 'full_sorted_desc_by_score_per_layer_pair_idxes' is not defined"
     ]
    }
   ],
   "source": [
    "foo = {f\"layer_{layer_idx}\": full_sorted_desc_by_score_per_layer_pair_idxes[layer_idx, :per_layer_nonzero[layer_idx]] for layer_idx in range(num_layers)}"
   ]
  },
  {
   "cell_type": "code",
   "execution_count": null,
   "id": "77bd1c19-607a-4f04-be71-da43d7edbeee",
   "metadata": {},
   "outputs": [
    {
     "name": "stdout",
     "output_type": "stream",
     "text": [
      "Sorting each layer\n"
     ]
    }
   ],
   "source": [
    "flattened_per_layer_scores = interaction_scores.reshape(num_layers, d_sae**2)\n",
    "# the indexes of the layer pairs, per layer, sorted by the score of each pair, descending\n",
    "sorted_flattened_pairs_filename = \"../bentefacts/pearson_correlation/sorted_nonzero_flattened_pair_idxes\"\n",
    "if os.path.exists(f\"{sorted_flattened_pairs_filename}.npz\"):\n",
    "    sorted_desc_by_score_per_layer_pair_idxes = np.load(f\"{sorted_flattened_pairs_filename}.npz\")['arr_0']\n",
    "else:\n",
    "    print(\"Sorting each layer\")\n",
    "    # key line, very slow\n",
    "    full_sorted_desc_by_score_per_layer_pair_idxes = np.argsort(flattened_per_layer_scores, axis=1)[:, ::-1]"
   ]
  },
  {
   "cell_type": "code",
   "execution_count": null,
   "metadata": {},
   "outputs": [
    {
     "data": {
      "text/plain": [
       "array([[356978314, 356989137, 467889802, ..., 337315280, 337315087,\n",
       "        337327719],\n",
       "       [544132235, 558785663, 292799615, ..., 171457596, 233170840,\n",
       "        543614872],\n",
       "       [ 18134529, 481576948, 481572846, ..., 402626471, 402626472,\n",
       "                0],\n",
       "       ...,\n",
       "       [170930692, 170948083, 435466756, ..., 402594201, 402594202,\n",
       "                0],\n",
       "       [113364127, 113348780, 540765343, ..., 295824851, 198705344,\n",
       "        142740947],\n",
       "       [583102731, 583098208, 482069506, ..., 402596938,         0,\n",
       "         86993927]])"
      ]
     },
     "execution_count": 14,
     "metadata": {},
     "output_type": "execute_result"
    }
   ],
   "source": [
    "full_sorted_desc_by_score_per_layer_pair_idxes"
   ]
  },
  {
   "cell_type": "code",
   "execution_count": null,
   "metadata": {},
   "outputs": [
    {
     "data": {
      "text/plain": [
       "array([172752, 165573, 165466, 197123, 238215, 271127, 303428, 334352,\n",
       "       357107, 341060, 328678])"
      ]
     },
     "execution_count": 15,
     "metadata": {},
     "output_type": "execute_result"
    }
   ],
   "source": [
    "per_layer_nonzero"
   ]
  },
  {
   "cell_type": "code",
   "execution_count": null,
   "metadata": {},
   "outputs": [],
   "source": [
    "foo = {f\"layer_{layer_idx}\": full_sorted_desc_by_score_per_layer_pair_idxes[layer_idx, :per_layer_nonzero[layer_idx]] for layer_idx in range(num_layers)}"
   ]
  },
  {
   "cell_type": "code",
   "execution_count": null,
   "metadata": {},
   "outputs": [
    {
     "data": {
      "text/plain": [
       "{'layer_0': array([356978314, 356989137, 467889802, ..., 201326145, 201326267,\n",
       "        201328435]),\n",
       " 'layer_1': array([544132235, 558785663, 292799615, ..., 201280663, 201280664,\n",
       "        201280893]),\n",
       " 'layer_2': array([ 18134529, 481576948, 481572846, ..., 270518844, 596008934,\n",
       "         45205612]),\n",
       " 'layer_3': array([541109862, 531869286, 150573214, ..., 337232572,  38495638,\n",
       "        201328376]),\n",
       " 'layer_4': array([507216437, 507201373, 493241576, ..., 600590623, 356603447,\n",
       "        239499072]),\n",
       " 'layer_5': array([416538940, 416554820,  32800580, ..., 297735891, 201277417,\n",
       "        201183361]),\n",
       " 'layer_6': array([574429816, 184233129, 184224056, ...,  73156804, 252725618,\n",
       "        103445359]),\n",
       " 'layer_7': array([560074210, 367854386,  80094002, ..., 353027124, 579786888,\n",
       "        262930092]),\n",
       " 'layer_8': array([170930692, 170948083, 435466756, ..., 192830184, 482570451,\n",
       "        158139827]),\n",
       " 'layer_9': array([113364127, 113348780, 540765343, ..., 201255644, 201255643,\n",
       "        201255645]),\n",
       " 'layer_10': array([583102731, 583098208, 482069506, ..., 601079037, 574184458,\n",
       "        201359657])}"
      ]
     },
     "execution_count": 17,
     "metadata": {},
     "output_type": "execute_result"
    }
   ],
   "source": [
    "foo"
   ]
  },
  {
   "cell_type": "code",
   "execution_count": null,
   "metadata": {},
   "outputs": [
    {
     "data": {
      "text/plain": [
       "(172752,)"
      ]
     },
     "execution_count": 18,
     "metadata": {},
     "output_type": "execute_result"
    }
   ],
   "source": [
    "foo['layer_0'].shape"
   ]
  },
  {
   "cell_type": "code",
   "execution_count": null,
   "id": "67039b59-7f85-4dc8-9520-ebe3494f1c83",
   "metadata": {},
   "outputs": [],
   "source": [
    "# %% tb\n",
    "\n",
    "import argparse\n",
    "import numpy as np\n",
    "from math import prod\n",
    "from src.enums import Measure\n",
    "import os\n",
    "import matplotlib.pyplot as plt\n",
    "from dataclasses import dataclass\n",
    "\n",
    "@dataclass\n",
    "class Args:\n",
    "    measure: Measure = Measure.pearson\n",
    "    save: bool = False"
   ]
  },
  {
   "cell_type": "code",
   "execution_count": null,
   "id": "7c776b02-d6de-44f9-ad91-311c28cfe40e",
   "metadata": {},
   "outputs": [
    {
     "name": "stdout",
     "output_type": "stream",
     "text": [
      "Reading full interaction scores\n"
     ]
    }
   ],
   "source": [
    "# %%\n",
    "\n",
    "# if __name__ == \"__main__\":\n",
    "#     parser = argparse.ArgumentParser()\n",
    "#     parser.add_argument('--measure', type=Measure, help='interaction measure whose values will indicate the', default=Measure.pearson)\n",
    "#     parser.add_argument('--truncate', type=bool, help='truncates the number of feature pairs that are sampled, used only for testing bc its fast', default=False)\n",
    "#     parser.add_argument('--save', type=bool, help='whether to save results or not', default=False)\n",
    "#     args = parser.parse_args()\n",
    "\n",
    "\n",
    "args = Args()\n",
    "print(\"Reading full interaction scores\")\n",
    "if args.measure == Measure.pearson:\n",
    "    filename = \"artefacts/similarity_measures/pearson_correlation/res_jb_sae_feature_similarity_pearson_correlation_1M_0.0_0.1.npz\"\n",
    "    with open(filename, 'rb') as data:\n",
    "        interaction_scores = np.load(data)['arr_0']\n",
    "elif args.measure == Measure.jaccard:\n",
    "    filename = \"artefacts/jaccard/jaccard_2024-07-02-a.npz\"\n",
    "    with open(filename, 'rb') as data:\n",
    "        interaction_scores = np.load(data)['arr_0']\n",
    "else:\n",
    "    raise NotImplementedError(f\"Haven't gotten around to {args.measure} yet\")\n",
    "num_layers, d_sae, _ = interaction_scores.shape"
   ]
  },
  {
   "cell_type": "code",
   "execution_count": null,
   "id": "0fb11ffd-bdb5-422a-bb5c-5163e1d73aca",
   "metadata": {},
   "outputs": [
    {
     "name": "stdout",
     "output_type": "stream",
     "text": [
      "Sorting each layer\n"
     ]
    }
   ],
   "source": [
    "# %%\n",
    "\n",
    "flattened_per_layer_scores = interaction_scores.reshape(num_layers, d_sae**2)\n",
    "# the indexes of the layer pairs, per layer, sorted by the score of each pair, descending\n",
    "sorted_flattened_pairs_filename = \"../bentefacts/pearson_correlation/sorted_nonzero_flattened_pair_idxes\"\n",
    "if os.path.exists(f\"{sorted_flattened_pairs_filename}.npz\"):\n",
    "    sorted_desc_by_score_per_layer_pair_idx_map = np.load(f\"{sorted_flattened_pairs_filename}.npz\")\n",
    "else:\n",
    "    print(\"Sorting each layer\")\n",
    "    # key line, very slow\n",
    "    full_sorted_desc_by_score_per_layer_pair_idxes = np.argsort(flattened_per_layer_scores, axis=1)[:, ::-1]\n",
    "    per_layer_nonzero = np.count_nonzero(full_sorted_desc_by_score_per_layer_pair_idxes, axis=1)\n",
    "    only_nonzero_pair_idxes = {f\"layer_{layer_idx}\": full_sorted_desc_by_score_per_layer_pair_idxes[layer_idx, :per_layer_nonzero[layer_idx]] for layer_idx in range(num_layers)}"
   ]
  },
  {
   "cell_type": "code",
   "execution_count": null,
   "metadata": {},
   "outputs": [
    {
     "data": {
      "text/plain": [
       "{'layer_0': array([356978314, 356989137, 467889802, ..., 337329204, 337315280,\n",
       "        337315087]),\n",
       " 'layer_1': array([544132235, 558785663, 292799615, ..., 237914008, 171457596,\n",
       "        233170840]),\n",
       " 'layer_2': array([ 18134529, 481576948, 481572846, ..., 402626470, 402626471,\n",
       "        402626472]),\n",
       " 'layer_3': array([541109862, 531869286, 150573214, ..., 402620248, 402620247,\n",
       "                0]),\n",
       " 'layer_4': array([507216437, 507201373, 493241576, ..., 402613784, 402613785,\n",
       "        402613786]),\n",
       " 'layer_5': array([416538940, 416554820,  32800580, ..., 402607510,         0,\n",
       "        238956925]),\n",
       " 'layer_6': array([574429816, 184233129, 184224056, ..., 402602270, 402602271,\n",
       "        402602272]),\n",
       " 'layer_7': array([560074210, 367854386,  80094002, ..., 402598131, 402598132,\n",
       "        402598133]),\n",
       " 'layer_8': array([170930692, 170948083, 435466756, ..., 402594200, 402594201,\n",
       "        402594202]),\n",
       " 'layer_9': array([113364127, 113348780, 540765343, ...,         0, 295824851,\n",
       "        198705344]),\n",
       " 'layer_10': array([583102731, 583098208, 482069506, ..., 402596939, 402596938,\n",
       "                0])}"
      ]
     },
     "execution_count": 4,
     "metadata": {},
     "output_type": "execute_result"
    }
   ],
   "source": [
    "only_nonzero_pair_idxes"
   ]
  },
  {
   "cell_type": "code",
   "execution_count": null,
   "metadata": {},
   "outputs": [
    {
     "ename": "FileNotFoundError",
     "evalue": "[Errno 2] No such file or directory: '../bentefacts/pearson_correlation/sorted_nonzero_flattened_pair_idxes.npz'",
     "output_type": "error",
     "traceback": [
      "\u001b[0;31m---------------------------------------------------------------------------\u001b[0m",
      "\u001b[0;31mFileNotFoundError\u001b[0m                         Traceback (most recent call last)",
      "Cell \u001b[0;32mIn[5], line 1\u001b[0m\n\u001b[0;32m----> 1\u001b[0m np\u001b[39m.\u001b[39;49msavez(sorted_flattened_pairs_filename, only_nonzero_pair_idxes)\n",
      "File \u001b[0;32m~/miniconda3/envs/spar/lib/python3.11/site-packages/numpy/lib/npyio.py:639\u001b[0m, in \u001b[0;36msavez\u001b[0;34m(file, *args, **kwds)\u001b[0m\n\u001b[1;32m    555\u001b[0m \u001b[39m@array_function_dispatch\u001b[39m(_savez_dispatcher)\n\u001b[1;32m    556\u001b[0m \u001b[39mdef\u001b[39;00m \u001b[39msavez\u001b[39m(file, \u001b[39m*\u001b[39margs, \u001b[39m*\u001b[39m\u001b[39m*\u001b[39mkwds):\n\u001b[1;32m    557\u001b[0m \u001b[39m    \u001b[39m\u001b[39m\"\"\"Save several arrays into a single file in uncompressed ``.npz`` format.\u001b[39;00m\n\u001b[1;32m    558\u001b[0m \n\u001b[1;32m    559\u001b[0m \u001b[39m    Provide arrays as keyword arguments to store them under the\u001b[39;00m\n\u001b[0;32m   (...)\u001b[0m\n\u001b[1;32m    637\u001b[0m \n\u001b[1;32m    638\u001b[0m \u001b[39m    \"\"\"\u001b[39;00m\n\u001b[0;32m--> 639\u001b[0m     _savez(file, args, kwds, \u001b[39mFalse\u001b[39;49;00m)\n",
      "File \u001b[0;32m~/miniconda3/envs/spar/lib/python3.11/site-packages/numpy/lib/npyio.py:736\u001b[0m, in \u001b[0;36m_savez\u001b[0;34m(file, args, kwds, compress, allow_pickle, pickle_kwargs)\u001b[0m\n\u001b[1;32m    733\u001b[0m \u001b[39melse\u001b[39;00m:\n\u001b[1;32m    734\u001b[0m     compression \u001b[39m=\u001b[39m zipfile\u001b[39m.\u001b[39mZIP_STORED\n\u001b[0;32m--> 736\u001b[0m zipf \u001b[39m=\u001b[39m zipfile_factory(file, mode\u001b[39m=\u001b[39;49m\u001b[39m\"\u001b[39;49m\u001b[39mw\u001b[39;49m\u001b[39m\"\u001b[39;49m, compression\u001b[39m=\u001b[39;49mcompression)\n\u001b[1;32m    738\u001b[0m \u001b[39mfor\u001b[39;00m key, val \u001b[39min\u001b[39;00m namedict\u001b[39m.\u001b[39mitems():\n\u001b[1;32m    739\u001b[0m     fname \u001b[39m=\u001b[39m key \u001b[39m+\u001b[39m \u001b[39m'\u001b[39m\u001b[39m.npy\u001b[39m\u001b[39m'\u001b[39m\n",
      "File \u001b[0;32m~/miniconda3/envs/spar/lib/python3.11/site-packages/numpy/lib/npyio.py:103\u001b[0m, in \u001b[0;36mzipfile_factory\u001b[0;34m(file, *args, **kwargs)\u001b[0m\n\u001b[1;32m    101\u001b[0m \u001b[39mimport\u001b[39;00m \u001b[39mzipfile\u001b[39;00m\n\u001b[1;32m    102\u001b[0m kwargs[\u001b[39m'\u001b[39m\u001b[39mallowZip64\u001b[39m\u001b[39m'\u001b[39m] \u001b[39m=\u001b[39m \u001b[39mTrue\u001b[39;00m\n\u001b[0;32m--> 103\u001b[0m \u001b[39mreturn\u001b[39;00m zipfile\u001b[39m.\u001b[39;49mZipFile(file, \u001b[39m*\u001b[39;49margs, \u001b[39m*\u001b[39;49m\u001b[39m*\u001b[39;49mkwargs)\n",
      "File \u001b[0;32m~/miniconda3/envs/spar/lib/python3.11/zipfile.py:1294\u001b[0m, in \u001b[0;36mZipFile.__init__\u001b[0;34m(self, file, mode, compression, allowZip64, compresslevel, strict_timestamps, metadata_encoding)\u001b[0m\n\u001b[1;32m   1292\u001b[0m \u001b[39mwhile\u001b[39;00m \u001b[39mTrue\u001b[39;00m:\n\u001b[1;32m   1293\u001b[0m     \u001b[39mtry\u001b[39;00m:\n\u001b[0;32m-> 1294\u001b[0m         \u001b[39mself\u001b[39m\u001b[39m.\u001b[39mfp \u001b[39m=\u001b[39m io\u001b[39m.\u001b[39;49mopen(file, filemode)\n\u001b[1;32m   1295\u001b[0m     \u001b[39mexcept\u001b[39;00m \u001b[39mOSError\u001b[39;00m:\n\u001b[1;32m   1296\u001b[0m         \u001b[39mif\u001b[39;00m filemode \u001b[39min\u001b[39;00m modeDict:\n",
      "\u001b[0;31mFileNotFoundError\u001b[0m: [Errno 2] No such file or directory: '../bentefacts/pearson_correlation/sorted_nonzero_flattened_pair_idxes.npz'"
     ]
    }
   ],
   "source": [
    "np.savez(sorted_flattened_pairs_filename, only_nonzero_pair_idxes)"
   ]
  },
  {
   "cell_type": "code",
   "execution_count": null,
   "metadata": {},
   "outputs": [
    {
     "ename": "OverflowError",
     "evalue": "serializing a bytes object larger than 4 GiB requires pickle protocol 4 or higher",
     "output_type": "error",
     "traceback": [
      "\u001b[0;31m---------------------------------------------------------------------------\u001b[0m",
      "\u001b[0;31mOverflowError\u001b[0m                             Traceback (most recent call last)",
      "Cell \u001b[0;32mIn[6], line 1\u001b[0m\n\u001b[0;32m----> 1\u001b[0m np\u001b[39m.\u001b[39;49msavez(sorted_flattened_pairs_filename, only_nonzero_pair_idxes)\n",
      "File \u001b[0;32m~/miniconda3/envs/spar/lib/python3.11/site-packages/numpy/lib/npyio.py:639\u001b[0m, in \u001b[0;36msavez\u001b[0;34m(file, *args, **kwds)\u001b[0m\n\u001b[1;32m    555\u001b[0m \u001b[39m@array_function_dispatch\u001b[39m(_savez_dispatcher)\n\u001b[1;32m    556\u001b[0m \u001b[39mdef\u001b[39;00m \u001b[39msavez\u001b[39m(file, \u001b[39m*\u001b[39margs, \u001b[39m*\u001b[39m\u001b[39m*\u001b[39mkwds):\n\u001b[1;32m    557\u001b[0m \u001b[39m    \u001b[39m\u001b[39m\"\"\"Save several arrays into a single file in uncompressed ``.npz`` format.\u001b[39;00m\n\u001b[1;32m    558\u001b[0m \n\u001b[1;32m    559\u001b[0m \u001b[39m    Provide arrays as keyword arguments to store them under the\u001b[39;00m\n\u001b[0;32m   (...)\u001b[0m\n\u001b[1;32m    637\u001b[0m \n\u001b[1;32m    638\u001b[0m \u001b[39m    \"\"\"\u001b[39;00m\n\u001b[0;32m--> 639\u001b[0m     _savez(file, args, kwds, \u001b[39mFalse\u001b[39;49;00m)\n",
      "File \u001b[0;32m~/miniconda3/envs/spar/lib/python3.11/site-packages/numpy/lib/npyio.py:743\u001b[0m, in \u001b[0;36m_savez\u001b[0;34m(file, args, kwds, compress, allow_pickle, pickle_kwargs)\u001b[0m\n\u001b[1;32m    741\u001b[0m     \u001b[39m# always force zip64, gh-10776\u001b[39;00m\n\u001b[1;32m    742\u001b[0m     \u001b[39mwith\u001b[39;00m zipf\u001b[39m.\u001b[39mopen(fname, \u001b[39m'\u001b[39m\u001b[39mw\u001b[39m\u001b[39m'\u001b[39m, force_zip64\u001b[39m=\u001b[39m\u001b[39mTrue\u001b[39;00m) \u001b[39mas\u001b[39;00m fid:\n\u001b[0;32m--> 743\u001b[0m         \u001b[39mformat\u001b[39;49m\u001b[39m.\u001b[39;49mwrite_array(fid, val,\n\u001b[1;32m    744\u001b[0m                            allow_pickle\u001b[39m=\u001b[39;49mallow_pickle,\n\u001b[1;32m    745\u001b[0m                            pickle_kwargs\u001b[39m=\u001b[39;49mpickle_kwargs)\n\u001b[1;32m    747\u001b[0m zipf\u001b[39m.\u001b[39mclose()\n",
      "File \u001b[0;32m~/miniconda3/envs/spar/lib/python3.11/site-packages/numpy/lib/format.py:719\u001b[0m, in \u001b[0;36mwrite_array\u001b[0;34m(fp, array, version, allow_pickle, pickle_kwargs)\u001b[0m\n\u001b[1;32m    717\u001b[0m     \u001b[39mif\u001b[39;00m pickle_kwargs \u001b[39mis\u001b[39;00m \u001b[39mNone\u001b[39;00m:\n\u001b[1;32m    718\u001b[0m         pickle_kwargs \u001b[39m=\u001b[39m {}\n\u001b[0;32m--> 719\u001b[0m     pickle\u001b[39m.\u001b[39;49mdump(array, fp, protocol\u001b[39m=\u001b[39;49m\u001b[39m3\u001b[39;49m, \u001b[39m*\u001b[39;49m\u001b[39m*\u001b[39;49mpickle_kwargs)\n\u001b[1;32m    720\u001b[0m \u001b[39melif\u001b[39;00m array\u001b[39m.\u001b[39mflags\u001b[39m.\u001b[39mf_contiguous \u001b[39mand\u001b[39;00m \u001b[39mnot\u001b[39;00m array\u001b[39m.\u001b[39mflags\u001b[39m.\u001b[39mc_contiguous:\n\u001b[1;32m    721\u001b[0m     \u001b[39mif\u001b[39;00m isfileobj(fp):\n",
      "\u001b[0;31mOverflowError\u001b[0m: serializing a bytes object larger than 4 GiB requires pickle protocol 4 or higher"
     ]
    }
   ],
   "source": [
    "np.savez(sorted_flattened_pairs_filename, only_nonzero_pair_idxes)"
   ]
  },
  {
   "cell_type": "code",
   "execution_count": null,
   "metadata": {},
   "outputs": [
    {
     "ename": "OverflowError",
     "evalue": "serializing a bytes object larger than 4 GiB requires pickle protocol 4 or higher",
     "output_type": "error",
     "traceback": [
      "\u001b[0;31m---------------------------------------------------------------------------\u001b[0m",
      "\u001b[0;31mOverflowError\u001b[0m                             Traceback (most recent call last)",
      "Cell \u001b[0;32mIn[7], line 1\u001b[0m\n\u001b[0;32m----> 1\u001b[0m np\u001b[39m.\u001b[39;49msavez_compressed(sorted_flattened_pairs_filename, only_nonzero_pair_idxes)\n",
      "File \u001b[0;32m~/miniconda3/envs/spar/lib/python3.11/site-packages/numpy/lib/npyio.py:710\u001b[0m, in \u001b[0;36msavez_compressed\u001b[0;34m(file, *args, **kwds)\u001b[0m\n\u001b[1;32m    647\u001b[0m \u001b[39m@array_function_dispatch\u001b[39m(_savez_compressed_dispatcher)\n\u001b[1;32m    648\u001b[0m \u001b[39mdef\u001b[39;00m \u001b[39msavez_compressed\u001b[39m(file, \u001b[39m*\u001b[39margs, \u001b[39m*\u001b[39m\u001b[39m*\u001b[39mkwds):\n\u001b[1;32m    649\u001b[0m \u001b[39m    \u001b[39m\u001b[39m\"\"\"\u001b[39;00m\n\u001b[1;32m    650\u001b[0m \u001b[39m    Save several arrays into a single file in compressed ``.npz`` format.\u001b[39;00m\n\u001b[1;32m    651\u001b[0m \n\u001b[0;32m   (...)\u001b[0m\n\u001b[1;32m    708\u001b[0m \n\u001b[1;32m    709\u001b[0m \u001b[39m    \"\"\"\u001b[39;00m\n\u001b[0;32m--> 710\u001b[0m     _savez(file, args, kwds, \u001b[39mTrue\u001b[39;49;00m)\n",
      "File \u001b[0;32m~/miniconda3/envs/spar/lib/python3.11/site-packages/numpy/lib/npyio.py:743\u001b[0m, in \u001b[0;36m_savez\u001b[0;34m(file, args, kwds, compress, allow_pickle, pickle_kwargs)\u001b[0m\n\u001b[1;32m    741\u001b[0m     \u001b[39m# always force zip64, gh-10776\u001b[39;00m\n\u001b[1;32m    742\u001b[0m     \u001b[39mwith\u001b[39;00m zipf\u001b[39m.\u001b[39mopen(fname, \u001b[39m'\u001b[39m\u001b[39mw\u001b[39m\u001b[39m'\u001b[39m, force_zip64\u001b[39m=\u001b[39m\u001b[39mTrue\u001b[39;00m) \u001b[39mas\u001b[39;00m fid:\n\u001b[0;32m--> 743\u001b[0m         \u001b[39mformat\u001b[39;49m\u001b[39m.\u001b[39;49mwrite_array(fid, val,\n\u001b[1;32m    744\u001b[0m                            allow_pickle\u001b[39m=\u001b[39;49mallow_pickle,\n\u001b[1;32m    745\u001b[0m                            pickle_kwargs\u001b[39m=\u001b[39;49mpickle_kwargs)\n\u001b[1;32m    747\u001b[0m zipf\u001b[39m.\u001b[39mclose()\n",
      "File \u001b[0;32m~/miniconda3/envs/spar/lib/python3.11/site-packages/numpy/lib/format.py:719\u001b[0m, in \u001b[0;36mwrite_array\u001b[0;34m(fp, array, version, allow_pickle, pickle_kwargs)\u001b[0m\n\u001b[1;32m    717\u001b[0m     \u001b[39mif\u001b[39;00m pickle_kwargs \u001b[39mis\u001b[39;00m \u001b[39mNone\u001b[39;00m:\n\u001b[1;32m    718\u001b[0m         pickle_kwargs \u001b[39m=\u001b[39m {}\n\u001b[0;32m--> 719\u001b[0m     pickle\u001b[39m.\u001b[39;49mdump(array, fp, protocol\u001b[39m=\u001b[39;49m\u001b[39m3\u001b[39;49m, \u001b[39m*\u001b[39;49m\u001b[39m*\u001b[39;49mpickle_kwargs)\n\u001b[1;32m    720\u001b[0m \u001b[39melif\u001b[39;00m array\u001b[39m.\u001b[39mflags\u001b[39m.\u001b[39mf_contiguous \u001b[39mand\u001b[39;00m \u001b[39mnot\u001b[39;00m array\u001b[39m.\u001b[39mflags\u001b[39m.\u001b[39mc_contiguous:\n\u001b[1;32m    721\u001b[0m     \u001b[39mif\u001b[39;00m isfileobj(fp):\n",
      "\u001b[0;31mOverflowError\u001b[0m: serializing a bytes object larger than 4 GiB requires pickle protocol 4 or higher"
     ]
    }
   ],
   "source": [
    "np.savez_compressed(sorted_flattened_pairs_filename, only_nonzero_pair_idxes)"
   ]
  },
  {
   "cell_type": "code",
   "execution_count": null,
   "metadata": {},
   "outputs": [
    {
     "ename": "OverflowError",
     "evalue": "serializing a bytes object larger than 4 GiB requires pickle protocol 4 or higher",
     "output_type": "error",
     "traceback": [
      "\u001b[0;31m---------------------------------------------------------------------------\u001b[0m",
      "\u001b[0;31mOverflowError\u001b[0m                             Traceback (most recent call last)",
      "Cell \u001b[0;32mIn[8], line 1\u001b[0m\n\u001b[0;32m----> 1\u001b[0m np\u001b[39m.\u001b[39;49msavez_compressed(sorted_flattened_pairs_filename, only_nonzero_pair_idxes, pickle_kwargs\u001b[39m=\u001b[39;49m{\u001b[39m\"\u001b[39;49m\u001b[39mprotocol\u001b[39;49m\u001b[39m\"\u001b[39;49m: \u001b[39m4\u001b[39;49m})\n",
      "File \u001b[0;32m~/miniconda3/envs/spar/lib/python3.11/site-packages/numpy/lib/npyio.py:710\u001b[0m, in \u001b[0;36msavez_compressed\u001b[0;34m(file, *args, **kwds)\u001b[0m\n\u001b[1;32m    647\u001b[0m \u001b[39m@array_function_dispatch\u001b[39m(_savez_compressed_dispatcher)\n\u001b[1;32m    648\u001b[0m \u001b[39mdef\u001b[39;00m \u001b[39msavez_compressed\u001b[39m(file, \u001b[39m*\u001b[39margs, \u001b[39m*\u001b[39m\u001b[39m*\u001b[39mkwds):\n\u001b[1;32m    649\u001b[0m \u001b[39m    \u001b[39m\u001b[39m\"\"\"\u001b[39;00m\n\u001b[1;32m    650\u001b[0m \u001b[39m    Save several arrays into a single file in compressed ``.npz`` format.\u001b[39;00m\n\u001b[1;32m    651\u001b[0m \n\u001b[0;32m   (...)\u001b[0m\n\u001b[1;32m    708\u001b[0m \n\u001b[1;32m    709\u001b[0m \u001b[39m    \"\"\"\u001b[39;00m\n\u001b[0;32m--> 710\u001b[0m     _savez(file, args, kwds, \u001b[39mTrue\u001b[39;49;00m)\n",
      "File \u001b[0;32m~/miniconda3/envs/spar/lib/python3.11/site-packages/numpy/lib/npyio.py:743\u001b[0m, in \u001b[0;36m_savez\u001b[0;34m(file, args, kwds, compress, allow_pickle, pickle_kwargs)\u001b[0m\n\u001b[1;32m    741\u001b[0m     \u001b[39m# always force zip64, gh-10776\u001b[39;00m\n\u001b[1;32m    742\u001b[0m     \u001b[39mwith\u001b[39;00m zipf\u001b[39m.\u001b[39mopen(fname, \u001b[39m'\u001b[39m\u001b[39mw\u001b[39m\u001b[39m'\u001b[39m, force_zip64\u001b[39m=\u001b[39m\u001b[39mTrue\u001b[39;00m) \u001b[39mas\u001b[39;00m fid:\n\u001b[0;32m--> 743\u001b[0m         \u001b[39mformat\u001b[39;49m\u001b[39m.\u001b[39;49mwrite_array(fid, val,\n\u001b[1;32m    744\u001b[0m                            allow_pickle\u001b[39m=\u001b[39;49mallow_pickle,\n\u001b[1;32m    745\u001b[0m                            pickle_kwargs\u001b[39m=\u001b[39;49mpickle_kwargs)\n\u001b[1;32m    747\u001b[0m zipf\u001b[39m.\u001b[39mclose()\n",
      "File \u001b[0;32m~/miniconda3/envs/spar/lib/python3.11/site-packages/numpy/lib/format.py:719\u001b[0m, in \u001b[0;36mwrite_array\u001b[0;34m(fp, array, version, allow_pickle, pickle_kwargs)\u001b[0m\n\u001b[1;32m    717\u001b[0m     \u001b[39mif\u001b[39;00m pickle_kwargs \u001b[39mis\u001b[39;00m \u001b[39mNone\u001b[39;00m:\n\u001b[1;32m    718\u001b[0m         pickle_kwargs \u001b[39m=\u001b[39m {}\n\u001b[0;32m--> 719\u001b[0m     pickle\u001b[39m.\u001b[39;49mdump(array, fp, protocol\u001b[39m=\u001b[39;49m\u001b[39m3\u001b[39;49m, \u001b[39m*\u001b[39;49m\u001b[39m*\u001b[39;49mpickle_kwargs)\n\u001b[1;32m    720\u001b[0m \u001b[39melif\u001b[39;00m array\u001b[39m.\u001b[39mflags\u001b[39m.\u001b[39mf_contiguous \u001b[39mand\u001b[39;00m \u001b[39mnot\u001b[39;00m array\u001b[39m.\u001b[39mflags\u001b[39m.\u001b[39mc_contiguous:\n\u001b[1;32m    721\u001b[0m     \u001b[39mif\u001b[39;00m isfileobj(fp):\n",
      "\u001b[0;31mOverflowError\u001b[0m: serializing a bytes object larger than 4 GiB requires pickle protocol 4 or higher"
     ]
    }
   ],
   "source": [
    "np.savez_compressed(sorted_flattened_pairs_filename, only_nonzero_pair_idxes, pickle_kwargs={\"protocol\": 4})"
   ]
  },
  {
   "cell_type": "code",
   "execution_count": null,
   "metadata": {},
   "outputs": [
    {
     "ename": "OverflowError",
     "evalue": "serializing a bytes object larger than 4 GiB requires pickle protocol 4 or higher",
     "output_type": "error",
     "traceback": [
      "\u001b[0;31m---------------------------------------------------------------------------\u001b[0m",
      "\u001b[0;31mOverflowError\u001b[0m                             Traceback (most recent call last)",
      "Cell \u001b[0;32mIn[9], line 1\u001b[0m\n\u001b[0;32m----> 1\u001b[0m np\u001b[39m.\u001b[39;49msavez_compressed(sorted_flattened_pairs_filename, only_nonzero_pair_idxes, allow_pickle\u001b[39m=\u001b[39;49m\u001b[39mTrue\u001b[39;49;00m, pickle_kwargs\u001b[39m=\u001b[39;49m{\u001b[39m\"\u001b[39;49m\u001b[39mprotocol\u001b[39;49m\u001b[39m\"\u001b[39;49m: \u001b[39m4\u001b[39;49m})\n",
      "File \u001b[0;32m~/miniconda3/envs/spar/lib/python3.11/site-packages/numpy/lib/npyio.py:710\u001b[0m, in \u001b[0;36msavez_compressed\u001b[0;34m(file, *args, **kwds)\u001b[0m\n\u001b[1;32m    647\u001b[0m \u001b[39m@array_function_dispatch\u001b[39m(_savez_compressed_dispatcher)\n\u001b[1;32m    648\u001b[0m \u001b[39mdef\u001b[39;00m \u001b[39msavez_compressed\u001b[39m(file, \u001b[39m*\u001b[39margs, \u001b[39m*\u001b[39m\u001b[39m*\u001b[39mkwds):\n\u001b[1;32m    649\u001b[0m \u001b[39m    \u001b[39m\u001b[39m\"\"\"\u001b[39;00m\n\u001b[1;32m    650\u001b[0m \u001b[39m    Save several arrays into a single file in compressed ``.npz`` format.\u001b[39;00m\n\u001b[1;32m    651\u001b[0m \n\u001b[0;32m   (...)\u001b[0m\n\u001b[1;32m    708\u001b[0m \n\u001b[1;32m    709\u001b[0m \u001b[39m    \"\"\"\u001b[39;00m\n\u001b[0;32m--> 710\u001b[0m     _savez(file, args, kwds, \u001b[39mTrue\u001b[39;49;00m)\n",
      "File \u001b[0;32m~/miniconda3/envs/spar/lib/python3.11/site-packages/numpy/lib/npyio.py:743\u001b[0m, in \u001b[0;36m_savez\u001b[0;34m(file, args, kwds, compress, allow_pickle, pickle_kwargs)\u001b[0m\n\u001b[1;32m    741\u001b[0m     \u001b[39m# always force zip64, gh-10776\u001b[39;00m\n\u001b[1;32m    742\u001b[0m     \u001b[39mwith\u001b[39;00m zipf\u001b[39m.\u001b[39mopen(fname, \u001b[39m'\u001b[39m\u001b[39mw\u001b[39m\u001b[39m'\u001b[39m, force_zip64\u001b[39m=\u001b[39m\u001b[39mTrue\u001b[39;00m) \u001b[39mas\u001b[39;00m fid:\n\u001b[0;32m--> 743\u001b[0m         \u001b[39mformat\u001b[39;49m\u001b[39m.\u001b[39;49mwrite_array(fid, val,\n\u001b[1;32m    744\u001b[0m                            allow_pickle\u001b[39m=\u001b[39;49mallow_pickle,\n\u001b[1;32m    745\u001b[0m                            pickle_kwargs\u001b[39m=\u001b[39;49mpickle_kwargs)\n\u001b[1;32m    747\u001b[0m zipf\u001b[39m.\u001b[39mclose()\n",
      "File \u001b[0;32m~/miniconda3/envs/spar/lib/python3.11/site-packages/numpy/lib/format.py:719\u001b[0m, in \u001b[0;36mwrite_array\u001b[0;34m(fp, array, version, allow_pickle, pickle_kwargs)\u001b[0m\n\u001b[1;32m    717\u001b[0m     \u001b[39mif\u001b[39;00m pickle_kwargs \u001b[39mis\u001b[39;00m \u001b[39mNone\u001b[39;00m:\n\u001b[1;32m    718\u001b[0m         pickle_kwargs \u001b[39m=\u001b[39m {}\n\u001b[0;32m--> 719\u001b[0m     pickle\u001b[39m.\u001b[39;49mdump(array, fp, protocol\u001b[39m=\u001b[39;49m\u001b[39m3\u001b[39;49m, \u001b[39m*\u001b[39;49m\u001b[39m*\u001b[39;49mpickle_kwargs)\n\u001b[1;32m    720\u001b[0m \u001b[39melif\u001b[39;00m array\u001b[39m.\u001b[39mflags\u001b[39m.\u001b[39mf_contiguous \u001b[39mand\u001b[39;00m \u001b[39mnot\u001b[39;00m array\u001b[39m.\u001b[39mflags\u001b[39m.\u001b[39mc_contiguous:\n\u001b[1;32m    721\u001b[0m     \u001b[39mif\u001b[39;00m isfileobj(fp):\n",
      "\u001b[0;31mOverflowError\u001b[0m: serializing a bytes object larger than 4 GiB requires pickle protocol 4 or higher"
     ]
    }
   ],
   "source": [
    "np.savez_compressed(sorted_flattened_pairs_filename, only_nonzero_pair_idxes, allow_pickle=True, pickle_kwargs={\"protocol\": 4})"
   ]
  },
  {
   "cell_type": "code",
   "execution_count": null,
   "metadata": {},
   "outputs": [
    {
     "data": {
      "text/plain": [
       "True"
      ]
     },
     "execution_count": 10,
     "metadata": {},
     "output_type": "execute_result"
    }
   ],
   "source": [
    "True"
   ]
  },
  {
   "cell_type": "code",
   "execution_count": null,
   "metadata": {},
   "outputs": [
    {
     "ename": "KeyboardInterrupt",
     "evalue": "",
     "output_type": "error",
     "traceback": [
      "\u001b[0;31m---------------------------------------------------------------------------\u001b[0m",
      "\u001b[0;31mKeyboardInterrupt\u001b[0m                         Traceback (most recent call last)",
      "Cell \u001b[0;32mIn[11], line 1\u001b[0m\n\u001b[0;32m----> 1\u001b[0m np\u001b[39m.\u001b[39;49msavez_compressed(sorted_flattened_pairs_filename, \u001b[39m*\u001b[39;49m\u001b[39m*\u001b[39;49monly_nonzero_pair_idxes)\n",
      "File \u001b[0;32m~/miniconda3/envs/spar/lib/python3.11/site-packages/numpy/lib/npyio.py:710\u001b[0m, in \u001b[0;36msavez_compressed\u001b[0;34m(file, *args, **kwds)\u001b[0m\n\u001b[1;32m    647\u001b[0m \u001b[39m@array_function_dispatch\u001b[39m(_savez_compressed_dispatcher)\n\u001b[1;32m    648\u001b[0m \u001b[39mdef\u001b[39;00m \u001b[39msavez_compressed\u001b[39m(file, \u001b[39m*\u001b[39margs, \u001b[39m*\u001b[39m\u001b[39m*\u001b[39mkwds):\n\u001b[1;32m    649\u001b[0m \u001b[39m    \u001b[39m\u001b[39m\"\"\"\u001b[39;00m\n\u001b[1;32m    650\u001b[0m \u001b[39m    Save several arrays into a single file in compressed ``.npz`` format.\u001b[39;00m\n\u001b[1;32m    651\u001b[0m \n\u001b[0;32m   (...)\u001b[0m\n\u001b[1;32m    708\u001b[0m \n\u001b[1;32m    709\u001b[0m \u001b[39m    \"\"\"\u001b[39;00m\n\u001b[0;32m--> 710\u001b[0m     _savez(file, args, kwds, \u001b[39mTrue\u001b[39;49;00m)\n",
      "File \u001b[0;32m~/miniconda3/envs/spar/lib/python3.11/site-packages/numpy/lib/npyio.py:743\u001b[0m, in \u001b[0;36m_savez\u001b[0;34m(file, args, kwds, compress, allow_pickle, pickle_kwargs)\u001b[0m\n\u001b[1;32m    741\u001b[0m     \u001b[39m# always force zip64, gh-10776\u001b[39;00m\n\u001b[1;32m    742\u001b[0m     \u001b[39mwith\u001b[39;00m zipf\u001b[39m.\u001b[39mopen(fname, \u001b[39m'\u001b[39m\u001b[39mw\u001b[39m\u001b[39m'\u001b[39m, force_zip64\u001b[39m=\u001b[39m\u001b[39mTrue\u001b[39;00m) \u001b[39mas\u001b[39;00m fid:\n\u001b[0;32m--> 743\u001b[0m         \u001b[39mformat\u001b[39;49m\u001b[39m.\u001b[39;49mwrite_array(fid, val,\n\u001b[1;32m    744\u001b[0m                            allow_pickle\u001b[39m=\u001b[39;49mallow_pickle,\n\u001b[1;32m    745\u001b[0m                            pickle_kwargs\u001b[39m=\u001b[39;49mpickle_kwargs)\n\u001b[1;32m    747\u001b[0m zipf\u001b[39m.\u001b[39mclose()\n",
      "File \u001b[0;32m~/miniconda3/envs/spar/lib/python3.11/site-packages/numpy/lib/format.py:735\u001b[0m, in \u001b[0;36mwrite_array\u001b[0;34m(fp, array, version, allow_pickle, pickle_kwargs)\u001b[0m\n\u001b[1;32m    731\u001b[0m \u001b[39melse\u001b[39;00m:\n\u001b[1;32m    732\u001b[0m     \u001b[39mfor\u001b[39;00m chunk \u001b[39min\u001b[39;00m numpy\u001b[39m.\u001b[39mnditer(\n\u001b[1;32m    733\u001b[0m             array, flags\u001b[39m=\u001b[39m[\u001b[39m'\u001b[39m\u001b[39mexternal_loop\u001b[39m\u001b[39m'\u001b[39m, \u001b[39m'\u001b[39m\u001b[39mbuffered\u001b[39m\u001b[39m'\u001b[39m, \u001b[39m'\u001b[39m\u001b[39mzerosize_ok\u001b[39m\u001b[39m'\u001b[39m],\n\u001b[1;32m    734\u001b[0m             buffersize\u001b[39m=\u001b[39mbuffersize, order\u001b[39m=\u001b[39m\u001b[39m'\u001b[39m\u001b[39mC\u001b[39m\u001b[39m'\u001b[39m):\n\u001b[0;32m--> 735\u001b[0m         fp\u001b[39m.\u001b[39;49mwrite(chunk\u001b[39m.\u001b[39;49mtobytes(\u001b[39m'\u001b[39;49m\u001b[39mC\u001b[39;49m\u001b[39m'\u001b[39;49m))\n",
      "File \u001b[0;32m~/miniconda3/envs/spar/lib/python3.11/zipfile.py:1177\u001b[0m, in \u001b[0;36m_ZipWriteFile.write\u001b[0;34m(self, data)\u001b[0m\n\u001b[1;32m   1175\u001b[0m \u001b[39mself\u001b[39m\u001b[39m.\u001b[39m_crc \u001b[39m=\u001b[39m crc32(data, \u001b[39mself\u001b[39m\u001b[39m.\u001b[39m_crc)\n\u001b[1;32m   1176\u001b[0m \u001b[39mif\u001b[39;00m \u001b[39mself\u001b[39m\u001b[39m.\u001b[39m_compressor:\n\u001b[0;32m-> 1177\u001b[0m     data \u001b[39m=\u001b[39m \u001b[39mself\u001b[39;49m\u001b[39m.\u001b[39;49m_compressor\u001b[39m.\u001b[39;49mcompress(data)\n\u001b[1;32m   1178\u001b[0m     \u001b[39mself\u001b[39m\u001b[39m.\u001b[39m_compress_size \u001b[39m+\u001b[39m\u001b[39m=\u001b[39m \u001b[39mlen\u001b[39m(data)\n\u001b[1;32m   1179\u001b[0m \u001b[39mself\u001b[39m\u001b[39m.\u001b[39m_fileobj\u001b[39m.\u001b[39mwrite(data)\n",
      "\u001b[0;31mKeyboardInterrupt\u001b[0m: "
     ]
    }
   ],
   "source": [
    "np.savez_compressed(sorted_flattened_pairs_filename, **only_nonzero_pair_idxes)"
   ]
  },
  {
   "cell_type": "code",
   "execution_count": null,
   "metadata": {},
   "outputs": [
    {
     "data": {
      "text/plain": [
       "array([603979775, 603979775, 603979775, 603979775, 603979775, 603979775,\n",
       "       603979775, 603979775, 603979775, 603979775, 603979775])"
      ]
     },
     "execution_count": 12,
     "metadata": {},
     "output_type": "execute_result"
    }
   ],
   "source": [
    "per_layer_nonzero"
   ]
  },
  {
   "cell_type": "code",
   "execution_count": null,
   "metadata": {},
   "outputs": [
    {
     "ename": "AttributeError",
     "evalue": "'dict' object has no attribute 'shape'",
     "output_type": "error",
     "traceback": [
      "\u001b[0;31m---------------------------------------------------------------------------\u001b[0m",
      "\u001b[0;31mAttributeError\u001b[0m                            Traceback (most recent call last)",
      "Cell \u001b[0;32mIn[13], line 1\u001b[0m\n\u001b[0;32m----> 1\u001b[0m only_nonzero_pair_idxes\u001b[39m.\u001b[39;49mshape\n",
      "\u001b[0;31mAttributeError\u001b[0m: 'dict' object has no attribute 'shape'"
     ]
    }
   ],
   "source": [
    "only_nonzero_pair_idxes.shape"
   ]
  },
  {
   "cell_type": "code",
   "execution_count": null,
   "metadata": {},
   "outputs": [
    {
     "data": {
      "text/plain": [
       "(603979775,)"
      ]
     },
     "execution_count": 14,
     "metadata": {},
     "output_type": "execute_result"
    }
   ],
   "source": [
    "only_nonzero_pair_idxes['layer_0'].shape"
   ]
  },
  {
   "cell_type": "code",
   "execution_count": null,
   "metadata": {},
   "outputs": [],
   "source": [
    "    per_layer_nonzero = np.count_nonzero(interaction_scores, axis=1)"
   ]
  },
  {
   "cell_type": "code",
   "execution_count": null,
   "metadata": {},
   "outputs": [
    {
     "data": {
      "text/plain": [
       "array([[ 2,  1, 14, ...,  1,  1, 20],\n",
       "       [19,  1,  2, ...,  6,  1,  2],\n",
       "       [ 1,  0,  1, ...,  3,  5, 32],\n",
       "       ...,\n",
       "       [13,  5, 20, ...,  5, 19, 13],\n",
       "       [15, 15, 16, ...,  3,  3, 14],\n",
       "       [33, 15, 10, ..., 30,  0,  6]])"
      ]
     },
     "execution_count": 16,
     "metadata": {},
     "output_type": "execute_result"
    }
   ],
   "source": [
    "per_layer_nonzero"
   ]
  },
  {
   "cell_type": "code",
   "execution_count": null,
   "metadata": {},
   "outputs": [],
   "source": [
    "    per_layer_nonzero = np.count_nonzero(flattened_per_layer_scores, axis=1)"
   ]
  },
  {
   "cell_type": "code",
   "execution_count": null,
   "metadata": {},
   "outputs": [
    {
     "data": {
      "text/plain": [
       "array([172752, 165573, 165466, 197123, 238215, 271127, 303428, 334352,\n",
       "       357107, 341060, 328678])"
      ]
     },
     "execution_count": 18,
     "metadata": {},
     "output_type": "execute_result"
    }
   ],
   "source": [
    "per_layer_nonzero"
   ]
  },
  {
   "cell_type": "code",
   "execution_count": null,
   "metadata": {},
   "outputs": [],
   "source": [
    "only_nonzero_pair_idxes = {f\"layer_{layer_idx}\": full_sorted_desc_by_score_per_layer_pair_idxes[layer_idx, :per_layer_nonzero[layer_idx]] for layer_idx in range(num_layers)}"
   ]
  },
  {
   "cell_type": "code",
   "execution_count": null,
   "metadata": {},
   "outputs": [
    {
     "data": {
      "text/plain": [
       "{'layer_0': array([356978314, 356989137, 467889802, ..., 201326145, 201326267,\n",
       "        201328435]),\n",
       " 'layer_1': array([544132235, 558785663, 292799615, ..., 201280663, 201280664,\n",
       "        201280893]),\n",
       " 'layer_2': array([ 18134529, 481576948, 481572846, ..., 270518844, 596008934,\n",
       "         45205612]),\n",
       " 'layer_3': array([541109862, 531869286, 150573214, ..., 337232572,  38495638,\n",
       "        201328376]),\n",
       " 'layer_4': array([507216437, 507201373, 493241576, ..., 600590623, 356603447,\n",
       "        239499072]),\n",
       " 'layer_5': array([416538940, 416554820,  32800580, ..., 297735891, 201277417,\n",
       "        201183361]),\n",
       " 'layer_6': array([574429816, 184233129, 184224056, ...,  73156804, 252725618,\n",
       "        103445359]),\n",
       " 'layer_7': array([560074210, 367854386,  80094002, ..., 353027124, 579786888,\n",
       "        262930092]),\n",
       " 'layer_8': array([170930692, 170948083, 435466756, ..., 192830184, 482570451,\n",
       "        158139827]),\n",
       " 'layer_9': array([113364127, 113348780, 540765343, ..., 201255644, 201255643,\n",
       "        201255645]),\n",
       " 'layer_10': array([583102731, 583098208, 482069506, ..., 601079037, 574184458,\n",
       "        201359657])}"
      ]
     },
     "execution_count": 20,
     "metadata": {},
     "output_type": "execute_result"
    }
   ],
   "source": [
    "only_nonzero_pair_idxes"
   ]
  },
  {
   "cell_type": "code",
   "execution_count": null,
   "metadata": {},
   "outputs": [
    {
     "data": {
      "text/plain": [
       "(172752,)"
      ]
     },
     "execution_count": 21,
     "metadata": {},
     "output_type": "execute_result"
    }
   ],
   "source": [
    "only_nonzero_pair_idxes['layer_0'].shape"
   ]
  },
  {
   "cell_type": "code",
   "execution_count": null,
   "metadata": {},
   "outputs": [],
   "source": [
    "np.savez_compressed(sorted_flattened_pairs_filename, only_nonzero_pair_idxes)"
   ]
  },
  {
   "cell_type": "code",
   "execution_count": null,
   "metadata": {},
   "outputs": [],
   "source": [
    "    max_num_nonzeros = max(val for val in only_nonzero_pair_idxes)"
   ]
  },
  {
   "cell_type": "code",
   "execution_count": null,
   "metadata": {},
   "outputs": [
    {
     "data": {
      "text/plain": [
       "'layer_9'"
      ]
     },
     "execution_count": 24,
     "metadata": {},
     "output_type": "execute_result"
    }
   ],
   "source": [
    "max_num_nonzeros"
   ]
  },
  {
   "cell_type": "code",
   "execution_count": null,
   "metadata": {},
   "outputs": [
    {
     "ename": "ValueError",
     "evalue": "operands could not be broadcast together with shapes (165573,) (172752,) ",
     "output_type": "error",
     "traceback": [
      "\u001b[0;31m---------------------------------------------------------------------------\u001b[0m",
      "\u001b[0;31mValueError\u001b[0m                                Traceback (most recent call last)",
      "Cell \u001b[0;32mIn[25], line 1\u001b[0m\n\u001b[0;32m----> 1\u001b[0m max_num_nonzeros \u001b[39m=\u001b[39m \u001b[39mmax\u001b[39;49m(val \u001b[39mfor\u001b[39;49;00m val \u001b[39min\u001b[39;49;00m only_nonzero_pair_idxes\u001b[39m.\u001b[39;49mvalues())\n",
      "\u001b[0;31mValueError\u001b[0m: operands could not be broadcast together with shapes (165573,) (172752,) "
     ]
    }
   ],
   "source": [
    "max_num_nonzeros = max(val for val in only_nonzero_pair_idxes.values())"
   ]
  },
  {
   "cell_type": "code",
   "execution_count": null,
   "metadata": {},
   "outputs": [],
   "source": [
    "max_num_nonzeros = max(len(val) for val in only_nonzero_pair_idxes.values())"
   ]
  },
  {
   "cell_type": "code",
   "execution_count": null,
   "metadata": {},
   "outputs": [
    {
     "data": {
      "text/plain": [
       "357107"
      ]
     },
     "execution_count": 27,
     "metadata": {},
     "output_type": "execute_result"
    }
   ],
   "source": [
    "max_num_nonzeros"
   ]
  },
  {
   "cell_type": "code",
   "execution_count": null,
   "metadata": {},
   "outputs": [
    {
     "data": {
      "text/plain": [
       "array([172752, 165573, 165466, 197123, 238215, 271127, 303428, 334352,\n",
       "       357107, 341060, 328678])"
      ]
     },
     "execution_count": 28,
     "metadata": {},
     "output_type": "execute_result"
    }
   ],
   "source": [
    "per_layer_nonzero"
   ]
  },
  {
   "cell_type": "code",
   "execution_count": null,
   "metadata": {},
   "outputs": [
    {
     "ename": "TypeError",
     "evalue": "object of type 'int' has no len()",
     "output_type": "error",
     "traceback": [
      "\u001b[0;31m---------------------------------------------------------------------------\u001b[0m",
      "\u001b[0;31mTypeError\u001b[0m                                 Traceback (most recent call last)",
      "Cell \u001b[0;32mIn[29], line 9\u001b[0m\n\u001b[1;32m      1\u001b[0m np\u001b[39m.\u001b[39marray(\n\u001b[1;32m      2\u001b[0m     [\n\u001b[1;32m      3\u001b[0m         np\u001b[39m.\u001b[39mpad(\n\u001b[1;32m      4\u001b[0m             only_nonzero_pair_idxes[\u001b[39mf\u001b[39m\u001b[39m'\u001b[39m\u001b[39mlayer_\u001b[39m\u001b[39m{\u001b[39;00mlayer_idx\u001b[39m}\u001b[39;00m\u001b[39m'\u001b[39m]\u001b[39m.\u001b[39mastype(\u001b[39mfloat\u001b[39m), \n\u001b[1;32m      5\u001b[0m             (\u001b[39m0\u001b[39m, max_num_nonzeros \u001b[39m-\u001b[39m \u001b[39mlen\u001b[39m(row)), \n\u001b[1;32m      6\u001b[0m             mode\u001b[39m=\u001b[39m\u001b[39m'\u001b[39m\u001b[39mconstant\u001b[39m\u001b[39m'\u001b[39m, \n\u001b[1;32m      7\u001b[0m             constant_values\u001b[39m=\u001b[39mnp\u001b[39m.\u001b[39mnan\n\u001b[1;32m      8\u001b[0m         ) \n\u001b[0;32m----> 9\u001b[0m         \u001b[39mfor\u001b[39;00m layer_idx \u001b[39min\u001b[39;00m \u001b[39mlen\u001b[39;49m(num_layers)\n\u001b[1;32m     10\u001b[0m     ]\n\u001b[1;32m     11\u001b[0m )\n",
      "\u001b[0;31mTypeError\u001b[0m: object of type 'int' has no len()"
     ]
    }
   ],
   "source": [
    "np.array(\n",
    "    [\n",
    "        np.pad(\n",
    "            only_nonzero_pair_idxes[f'layer_{layer_idx}'].astype(float), \n",
    "            (0, max_num_nonzeros - len(row)), \n",
    "            mode='constant', \n",
    "            constant_values=np.nan\n",
    "        ) \n",
    "        for layer_idx in len(num_layers)\n",
    "    ]\n",
    ")"
   ]
  },
  {
   "cell_type": "code",
   "execution_count": null,
   "metadata": {},
   "outputs": [
    {
     "ename": "TypeError",
     "evalue": "object of type 'int' has no len()",
     "output_type": "error",
     "traceback": [
      "\u001b[0;31m---------------------------------------------------------------------------\u001b[0m",
      "\u001b[0;31mTypeError\u001b[0m                                 Traceback (most recent call last)",
      "Cell \u001b[0;32mIn[30], line 9\u001b[0m\n\u001b[1;32m      1\u001b[0m np\u001b[39m.\u001b[39marray(\n\u001b[1;32m      2\u001b[0m     [\n\u001b[1;32m      3\u001b[0m         np\u001b[39m.\u001b[39mpad(\n\u001b[1;32m      4\u001b[0m             only_nonzero_pair_idxes[\u001b[39mf\u001b[39m\u001b[39m'\u001b[39m\u001b[39mlayer_\u001b[39m\u001b[39m{\u001b[39;00mlayer_idx\u001b[39m}\u001b[39;00m\u001b[39m'\u001b[39m]\u001b[39m.\u001b[39mastype(\u001b[39mfloat\u001b[39m), \n\u001b[1;32m      5\u001b[0m             (\u001b[39m0\u001b[39m, max_num_nonzeros \u001b[39m-\u001b[39m \u001b[39mlen\u001b[39m(row)), \n\u001b[1;32m      6\u001b[0m             mode\u001b[39m=\u001b[39m\u001b[39m'\u001b[39m\u001b[39mconstant\u001b[39m\u001b[39m'\u001b[39m, \n\u001b[1;32m      7\u001b[0m             constant_values\u001b[39m=\u001b[39mnp\u001b[39m.\u001b[39mnan\n\u001b[1;32m      8\u001b[0m         ) \n\u001b[0;32m----> 9\u001b[0m         \u001b[39mfor\u001b[39;00m layer_idx \u001b[39min\u001b[39;00m \u001b[39mlen\u001b[39;49m(num_layers)\n\u001b[1;32m     10\u001b[0m     ]\n\u001b[1;32m     11\u001b[0m )\n",
      "\u001b[0;31mTypeError\u001b[0m: object of type 'int' has no len()"
     ]
    }
   ],
   "source": [
    "np.array(\n",
    "    [\n",
    "        np.pad(\n",
    "            only_nonzero_pair_idxes[f'layer_{layer_idx}'].astype(float), \n",
    "            (0, max_num_nonzeros - len(row)), \n",
    "            mode='constant', \n",
    "            constant_values=np.nan\n",
    "        ) \n",
    "        for layer_idx in len(num_layers)\n",
    "    ]\n",
    ")"
   ]
  },
  {
   "cell_type": "code",
   "execution_count": null,
   "metadata": {},
   "outputs": [
    {
     "data": {
      "text/plain": [
       "array([[3.56978314e+08, 3.56989137e+08, 4.67889802e+08, ...,\n",
       "                   nan,            nan,            nan],\n",
       "       [5.44132235e+08, 5.58785663e+08, 2.92799615e+08, ...,\n",
       "                   nan,            nan,            nan],\n",
       "       [1.81345290e+07, 4.81576948e+08, 4.81572846e+08, ...,\n",
       "                   nan,            nan,            nan],\n",
       "       ...,\n",
       "       [1.70930692e+08, 1.70948083e+08, 4.35466756e+08, ...,\n",
       "        1.92830184e+08, 4.82570451e+08, 1.58139827e+08],\n",
       "       [1.13364127e+08, 1.13348780e+08, 5.40765343e+08, ...,\n",
       "                   nan,            nan,            nan],\n",
       "       [5.83102731e+08, 5.83098208e+08, 4.82069506e+08, ...,\n",
       "                   nan,            nan,            nan]])"
      ]
     },
     "execution_count": 31,
     "metadata": {},
     "output_type": "execute_result"
    }
   ],
   "source": [
    "np.array(\n",
    "    [\n",
    "        np.pad(\n",
    "            only_nonzero_pair_idxes[f'layer_{layer_idx}'].astype(float), \n",
    "            (0, max_num_nonzeros - len(only_nonzero_pair_idxes[f'layer_{layer_idx}'])), \n",
    "            mode='constant', \n",
    "            constant_values=np.nan\n",
    "        ) \n",
    "        for layer_idx in range(num_layers)\n",
    "    ]\n",
    ")"
   ]
  },
  {
   "cell_type": "code",
   "execution_count": null,
   "id": "70f4f898-b4da-43f9-83a5-33f79374d138",
   "metadata": {},
   "outputs": [],
   "source": [
    "# %% tb\n",
    "\n",
    "import argparse\n",
    "import numpy as np\n",
    "from math import prod\n",
    "from src.enums import Measure\n",
    "import os\n",
    "import matplotlib.pyplot as plt\n",
    "from dataclasses import dataclass\n",
    "from typing import Dict\n",
    "@dataclass\n",
    "class Args:\n",
    "    measure: Measure = Measure.pearson\n",
    "    save: bool = False"
   ]
  },
  {
   "cell_type": "code",
   "execution_count": null,
   "id": "948a4650-64a2-4bd1-a7db-6f7c90a2bd01",
   "metadata": {},
   "outputs": [],
   "source": [
    "# %%\n",
    "\n",
    "def convert_only_nonzero_pair_idxes_to_padded_arr(only_nonzero_pair_idxes: Dict):\n",
    "    \"\"\"turns a ragged dictionary of lists of indexes (all the nonzero pairs for that layer)\n",
    "    into a nice rectangular matrix where shorter rows are padded to the length of the longest\n",
    "    with nans\n",
    "\n",
    "    Args:\n",
    "        only_nonzero_pair_idxes (Dict): {\"layer_idx\": all_nonzero_flattened_pair_idxes_for_this_layer}\n",
    "    \"\"\"\n",
    "    max_num_nonzeros = max(len(val) for val in only_nonzero_pair_idxes.values())\n",
    "    return np.array(\n",
    "        [\n",
    "            np.pad(\n",
    "                only_nonzero_pair_idxes[f'layer_{layer_idx}'].astype(float), \n",
    "                (0, max_num_nonzeros - len(only_nonzero_pair_idxes[f'layer_{layer_idx}'])), \n",
    "                mode='constant', \n",
    "                constant_values=np.nan\n",
    "            ) \n",
    "            for layer_idx in range(num_layers)\n",
    "        ]\n",
    "    )"
   ]
  },
  {
   "cell_type": "code",
   "execution_count": null,
   "metadata": {},
   "outputs": [],
   "source": [
    "    padded_nonzero_sorted_desc_by_score_per_layer_pair_idxes =convert_only_nonzero_pair_idxes_to_padded_arr(only_nonzero_pair_idxes)"
   ]
  },
  {
   "cell_type": "code",
   "execution_count": null,
   "metadata": {},
   "outputs": [
    {
     "data": {
      "text/plain": [
       "(11, 357107)"
      ]
     },
     "execution_count": 35,
     "metadata": {},
     "output_type": "execute_result"
    }
   ],
   "source": [
    "padded_nonzero_sorted_desc_by_score_per_layer_pair_idxes.shape"
   ]
  }
 ],
 "metadata": {
  "language_info": {
   "codemirror_mode": {
    "name": "ipython",
    "version": 3
   },
   "file_extension": ".py",
   "mimetype": "text/x-python",
   "name": "python",
   "nbconvert_exporter": "python",
   "pygments_lexer": "ipython3",
   "version": 3
  }
 },
 "nbformat": 4,
 "nbformat_minor": 2
}
