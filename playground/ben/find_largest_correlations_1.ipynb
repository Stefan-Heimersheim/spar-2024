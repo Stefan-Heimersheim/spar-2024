{
 "cells": [
  {
   "cell_type": "markdown",
   "metadata": {},
   "source": [
    "Connected to spar (Python 3.11.9)"
   ]
  },
  {
   "cell_type": "code",
   "execution_count": 2,
   "id": "c8f7d0b1-1d21-448c-a99e-50c6c310807a",
   "metadata": {},
   "outputs": [],
   "source": [
    "import torch as t\n",
    "import torch\n",
    "import numpy as np"
   ]
  },
  {
   "cell_type": "code",
   "execution_count": 3,
   "id": "4c6ad341-7ab1-4bc2-965e-931a1e46d1a5",
   "metadata": {},
   "outputs": [],
   "source": [
    "# load all of the pearson data\n",
    "filename = f\"artefacts/similarity_measures/pearson_correlation/res_jb_sae_feature_similarity_pearson_correlation_1M_0.0_0.1.npz\"\n",
    "with open(filename, 'rb') as data:\n",
    "    interaction_data = np.load(data)['arr_0']"
   ]
  },
  {
   "cell_type": "code",
   "execution_count": 4,
   "id": "c3b04ab8-b909-440d-9858-d79fedb11390",
   "metadata": {},
   "outputs": [],
   "source": [
    "# for speed. set to None to run on all\n",
    "num_feature_pairs_per_layer = None\n",
    "num_layers, d_sae, _ = interaction_data.shape"
   ]
  },
  {
   "cell_type": "code",
   "execution_count": 6,
   "metadata": {},
   "outputs": [
    {
     "data": {
      "text/plain": [
       "11"
      ]
     },
     "execution_count": 6,
     "metadata": {},
     "output_type": "execute_result"
    }
   ],
   "source": [
    "num_layers"
   ]
  },
  {
   "cell_type": "code",
   "execution_count": 31,
   "metadata": {},
   "outputs": [],
   "source": [
    "flattened_truncated_all_layers = interaction_data.reshape(num_layers, d_sae**2)\n",
    "if num_feature_pairs_per_layer is not None:\n",
    "    flattened_truncated_all_layers = flattened_truncated_all_layers[:,:num_feature_pairs_per_layer]"
   ]
  },
  {
   "cell_type": "code",
   "execution_count": 32,
   "metadata": {},
   "outputs": [],
   "source": [
    "max_idxes_per_truncated_layer = np.argsort(flattened_truncated_all_layers, axis=1)[:, ::-1]"
   ]
  },
  {
   "cell_type": "code",
   "execution_count": 33,
   "metadata": {},
   "outputs": [],
   "source": [
    "row_indices = np.arange(num_layers)[:, np.newaxis]"
   ]
  },
  {
   "cell_type": "code",
   "execution_count": 34,
   "metadata": {},
   "outputs": [],
   "source": [
    "flattened_top_interactions_per_layer = flattened_truncated_all_layers[row_indices, max_idxes_per_truncated_layer]"
   ]
  },
  {
   "cell_type": "markdown",
   "metadata": {},
   "source": [
    "okay now...I need to pick 1 (but make it variable) from first two layers (but make it variable)...actually...I should just export this, then I can load it in somewhere else and use that\n",
    "okay I'll compute the whole thing now"
   ]
  },
  {
   "cell_type": "code",
   "execution_count": 35,
   "metadata": {},
   "outputs": [
    {
     "data": {
      "text/plain": [
       "(11, 603979776)"
      ]
     },
     "execution_count": 35,
     "metadata": {},
     "output_type": "execute_result"
    }
   ],
   "source": [
    "flattened_top_interactions_per_layer.shape"
   ]
  },
  {
   "cell_type": "code",
   "execution_count": 57,
   "metadata": {},
   "outputs": [
    {
     "data": {
      "text/plain": [
       "array([[1.0000046 , 0.99999917, 0.9993452 , 0.9990153 , 0.99888736],\n",
       "       [1.0000058 , 1.0000013 , 0.9999972 , 0.9995525 , 0.9993968 ],\n",
       "       [1.0000042 , 1.000001  , 0.9999994 , 0.9999982 , 0.9999962 ],\n",
       "       [1.0000036 , 0.9999995 , 0.9999981 , 0.9999964 , 0.999995  ],\n",
       "       [1.0000021 , 0.99999857, 0.99999684, 0.99999374, 0.9992907 ],\n",
       "       [1.0000013 , 0.99999905, 0.99999696, 0.9999952 , 0.9992217 ],\n",
       "       [1.0000039 , 0.999999  , 0.99999774, 0.99999654, 0.9997192 ],\n",
       "       [1.0000026 , 0.999999  , 0.9999973 , 0.9999941 , 0.9983443 ],\n",
       "       [1.0000036 , 0.9999987 , 0.99999624, 0.9999943 , 0.9984486 ],\n",
       "       [1.0000035 , 0.9999981 , 0.9999959 , 0.999993  , 0.9999852 ],\n",
       "       [1.0000025 , 0.99999666, 0.9999935 , 0.9999903 , 0.9974637 ]],\n",
       "      dtype=float32)"
      ]
     },
     "execution_count": 57,
     "metadata": {},
     "output_type": "execute_result"
    }
   ],
   "source": [
    "flattened_top_interactions_per_layer[:,:100:20]"
   ]
  },
  {
   "cell_type": "markdown",
   "metadata": {},
   "source": [
    "# save corresponding idxes to disk\n"
   ]
  },
  {
   "cell_type": "code",
   "execution_count": 52,
   "metadata": {},
   "outputs": [
    {
     "data": {
      "text/plain": [
       "array([[356978314, 590018172, 439368734, 496802948,  57512845],\n",
       "       [544132235, 449495777, 449508140,  14197959, 176767696],\n",
       "       [ 18134529, 481576069, 321947272, 481569227,  18114772],\n",
       "       [541109862, 251368918,  41092835, 231578736,  41101241],\n",
       "       [507216437, 249917586, 493254938,  84938898,   8467131],\n",
       "       [416538940,  30883652, 305013715, 305013052, 517529786],\n",
       "       [574429816,  24062264, 568282281, 567997794, 505641027],\n",
       "       [560074210,  58013357,  58000178, 294993390, 126815326],\n",
       "       [170930692,  20125171,  20112353, 283446544, 228639571],\n",
       "       [113364127, 313233541, 283525120, 225744736, 283518312],\n",
       "       [583102731, 402665739, 583097724, 235351155, 456358114]])"
      ]
     },
     "execution_count": 52,
     "metadata": {},
     "output_type": "execute_result"
    }
   ],
   "source": [
    "max_idxes_per_truncated_layer[:,:100:20]"
   ]
  },
  {
   "cell_type": "code",
   "execution_count": 60,
   "metadata": {},
   "outputs": [
    {
     "data": {
      "text/plain": [
       "(array([14525, 24007, 17877, 20214,  2340]),\n",
       " array([11914, 22140, 23582, 23684,  5005]))"
      ]
     },
     "execution_count": 60,
     "metadata": {},
     "output_type": "execute_result"
    }
   ],
   "source": [
    "np.unravel_index(max_idxes_per_truncated_layer[:,:100:20][0], shape=(d_sae, d_sae))"
   ]
  },
  {
   "cell_type": "code",
   "execution_count": 74,
   "metadata": {},
   "outputs": [],
   "source": [
    "cutoff_amount = 1000\n",
    "top_output_filename = f\"../../artefacts/ablations/top_{cutoff_amount}_pearson_per_layer_flattened_feature_idx\" \n",
    "np.save(top_output_filename, max_idxes_per_truncated_layer[:,:cutoff_amount])"
   ]
  },
  {
   "cell_type": "code",
   "execution_count": 71,
   "metadata": {},
   "outputs": [],
   "source": [
    "test = np.load(top_output_filename + \".npy\")"
   ]
  }
 ],
 "metadata": {
  "kernelspec": {
   "display_name": "spar",
   "language": "python",
   "name": "python3"
  },
  "language_info": {
   "codemirror_mode": {
    "name": "ipython",
    "version": 3
   },
   "file_extension": ".py",
   "mimetype": "text/x-python",
   "name": "python",
   "nbconvert_exporter": "python",
   "pygments_lexer": "ipython3",
   "version": "3.12.4"
  }
 },
 "nbformat": 4,
 "nbformat_minor": 2
}
