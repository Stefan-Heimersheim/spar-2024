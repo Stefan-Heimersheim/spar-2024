{
 "cells": [
  {
   "cell_type": "markdown",
   "metadata": {},
   "source": [
    "Connected to spar (Python 3.11.9)"
   ]
  },
  {
   "cell_type": "code",
   "execution_count": 1,
   "id": "c8f7d0b1-1d21-448c-a99e-50c6c310807a",
   "metadata": {},
   "outputs": [],
   "source": [
    "import torch as t\n",
    "import torch\n",
    "import numpy as np"
   ]
  },
  {
   "cell_type": "code",
   "execution_count": 2,
   "id": "4c6ad341-7ab1-4bc2-965e-931a1e46d1a5",
   "metadata": {},
   "outputs": [],
   "source": [
    "# load all of the pearson data\n",
    "filename = f\"artefacts/similarity_measures/pearson_correlation/res_jb_sae_feature_similarity_pearson_correlation_1M_0.0_0.1.npz\"\n",
    "with open(filename, 'rb') as data:\n",
    "    interaction_data = np.load(data)['arr_0']"
   ]
  },
  {
   "cell_type": "code",
   "execution_count": null,
   "id": "e9e897b7-c9b7-4d52-8548-32e8e17ce96a",
   "metadata": {},
   "outputs": [],
   "source": [
    "def ranked_pairs(matrix: np.ndarray) -> np.ndarray:\n",
    "    m, _ = matrix.shape\n",
    "    \n",
    "    # Step 1: Flatten the matrix (shape: [m*m])\n",
    "    flattened_matrix = matrix.flatten()\n",
    "    \n",
    "    # Step 2: Create row and column indices\n",
    "    row_indices = np.repeat(np.arange(m), m)\n",
    "    col_indices = np.tile(np.arange(m), m)\n",
    "    \n",
    "    # Step 3: Create the final array with indices and values\n",
    "    values = flattened_matrix\n",
    "    result = np.column_stack((row_indices, col_indices, values))\n",
    "    \n",
    "    # Step 4: Sort the result array by values\n",
    "    sorted_result = result[result[:, 2].argsort()[::-1]]\n",
    "    \n",
    "    return sorted_result"
   ]
  },
  {
   "cell_type": "code",
   "execution_count": null,
   "id": "19546c63-b831-4ee5-991c-16e65a76a0a4",
   "metadata": {},
   "outputs": [],
   "source": [
    "def ranked_pairs(matrix: np.ndarray) -> np.ndarray:\n",
    "    m, _ = matrix.shape\n",
    "    \n",
    "    # Step 1: Flatten the matrix (shape: [m*m])\n",
    "    flattened_matrix = matrix.flatten()\n",
    "    \n",
    "    # Step 2: Create row and column indices\n",
    "    row_indices = np.repeat(np.arange(m), m)\n",
    "    col_indices = np.tile(np.arange(m), m)\n",
    "    \n",
    "    # Step 3: Create the final array with indices and values\n",
    "    values = flattened_matrix\n",
    "    result = np.column_stack((row_indices, col_indices, values))\n",
    "    \n",
    "    # Step 4: Sort the result array by values\n",
    "    sorted_result = result[result[:, 2].argsort()[::-1]]\n",
    "    \n",
    "    return sorted_result"
   ]
  },
  {
   "cell_type": "code",
   "execution_count": null,
   "id": "c3b04ab8-b909-440d-9858-d79fedb11390",
   "metadata": {},
   "outputs": [
    {
     "data": {
      "text/plain": [
       "\"\\n1. run a single row through.\\nit activates L0f{4, 800, 12000} > 0 and that's it\\n\\n\""
      ]
     },
     "execution_count": 11,
     "metadata": {},
     "output_type": "execute_result"
    }
   ],
   "source": [
    "num_layers, d_sae, _ = interaction_data.shape\n",
    "\"\"\"\n",
    "1. run a single row through.\n",
    "it activates L0f{4, 800, 12000} > 0 and that's it\n",
    "\n",
    "\"\"\"\n",
    "\n",
    "# TODO(IMPORTANT): figure out why all_corrs[0, 14525, 11914] > 1"
   ]
  },
  {
   "cell_type": "code",
   "execution_count": null,
   "metadata": {},
   "outputs": [
    {
     "data": {
      "text/plain": [
       "1.0000046"
      ]
     },
     "execution_count": 12,
     "metadata": {},
     "output_type": "execute_result"
    }
   ],
   "source": [
    "interaction_data[0, 14525, 11914]"
   ]
  },
  {
   "cell_type": "code",
   "execution_count": null,
   "id": "009ec8f8-1edd-49a1-a8d7-16be0bd29446",
   "metadata": {},
   "outputs": [
    {
     "name": "stdout",
     "output_type": "stream",
     "text": [
      "Positions in the 2nd and 3rd dimensions:\n",
      " [[[   17   350   264 ...   271   271     0]\n",
      "  [   88   122    77 ...   271   271     0]\n",
      "  [  269   238    15 ...   271   271     0]\n",
      "  ...\n",
      "  [  241   258    96 ...   271   271     0]\n",
      "  [  338    67   185 ...   271   271     0]\n",
      "  [  141   240   330 ...   271   271     0]]\n",
      "\n",
      " [[10971 24235 16226 ...  6182  6181     0]\n",
      "  [ 2731  4359 16583 ...  6143  6142     0]\n",
      "  [ 5862  7345  9239 ...  6018  6017     0]\n",
      "  ...\n",
      "  [ 6730 19459 12906 ...  5579  5578     0]\n",
      "  [23147  5574 10190 ...  5566  5565     0]\n",
      "  [21831  9801 13425 ...  5634  5633     0]]]\n"
     ]
    }
   ],
   "source": [
    "# Find the indices of these maximum values\n",
    "# TODO: scale this up, remove truncation\n",
    "flattened_pairs = interaction_data.reshape(num_layers, -1)[:,:10000000]\n",
    "max_indices = np.argsort(flattened_pairs, axis=1)[:, ::-1]\n",
    "# Convert flat indices to corresponding (2nd, 3rd) dimension indices\n",
    "positions_array = np.array(np.unravel_index(max_indices, interaction_data.shape[1:]))\n",
    "\n",
    "# print(\"Max values across the first dimension for each index in the second and third dimensions:\\n\", max_values)\n",
    "print(\"Positions in the 2nd and 3rd dimensions:\\n\", positions_array)"
   ]
  },
  {
   "cell_type": "code",
   "execution_count": null,
   "metadata": {},
   "outputs": [
    {
     "data": {
      "text/plain": [
       "(2, 11, 10000000)"
      ]
     },
     "execution_count": 14,
     "metadata": {},
     "output_type": "execute_result"
    }
   ],
   "source": [
    "positions_array.shape"
   ]
  },
  {
   "cell_type": "code",
   "execution_count": null,
   "metadata": {},
   "outputs": [
    {
     "data": {
      "text/plain": [
       "11"
      ]
     },
     "execution_count": 15,
     "metadata": {},
     "output_type": "execute_result"
    }
   ],
   "source": [
    "num_layers"
   ]
  },
  {
   "cell_type": "code",
   "execution_count": null,
   "id": "c9e1d417-bd7e-4187-950a-5aa449e11b54",
   "metadata": {},
   "outputs": [],
   "source": [
    "# %%\n",
    "\n",
    "import torch as t\n",
    "import torch\n",
    "import numpy as np"
   ]
  },
  {
   "cell_type": "code",
   "execution_count": null,
   "id": "036850e3-d8d6-4108-b2a1-1f79058b2ea6",
   "metadata": {},
   "outputs": [],
   "source": [
    "# %%\n",
    "\n",
    "# load all of the pearson data\n",
    "filename = f\"artefacts/similarity_measures/pearson_correlation/res_jb_sae_feature_similarity_pearson_correlation_1M_0.0_0.1.npz\"\n",
    "with open(filename, 'rb') as data:\n",
    "    interaction_data = np.load(data)['arr_0']"
   ]
  },
  {
   "cell_type": "code",
   "execution_count": null,
   "id": "056c4225-d85c-4aa4-be33-ea1458c78702",
   "metadata": {},
   "outputs": [
    {
     "data": {
      "text/plain": [
       "\"\\n1. run a single row through.\\nit activates L0f{4, 800, 12000} > 0 and that's it\\n\\n\""
      ]
     },
     "execution_count": 3,
     "metadata": {},
     "output_type": "execute_result"
    }
   ],
   "source": [
    "# %%\n",
    "\n",
    "num_layers, d_sae, _ = interaction_data.shape\n",
    "\"\"\"\n",
    "1. run a single row through.\n",
    "it activates L0f{4, 800, 12000} > 0 and that's it\n",
    "\n",
    "\"\"\""
   ]
  },
  {
   "cell_type": "code",
   "execution_count": null,
   "metadata": {},
   "outputs": [
    {
     "ename": "NameError",
     "evalue": "name 'num_layersr' is not defined",
     "output_type": "error",
     "traceback": [
      "\u001b[0;31m---------------------------------------------------------------------------\u001b[0m",
      "\u001b[0;31mNameError\u001b[0m                                 Traceback (most recent call last)",
      "Cell \u001b[0;32mIn[4], line 1\u001b[0m\n\u001b[0;32m----> 1\u001b[0m num_layersr\n",
      "\u001b[0;31mNameError\u001b[0m: name 'num_layersr' is not defined"
     ]
    }
   ],
   "source": [
    "num_layersr"
   ]
  },
  {
   "cell_type": "code",
   "execution_count": null,
   "metadata": {},
   "outputs": [
    {
     "data": {
      "text/plain": [
       "11"
      ]
     },
     "execution_count": 5,
     "metadata": {},
     "output_type": "execute_result"
    }
   ],
   "source": [
    "num_layers"
   ]
  },
  {
   "cell_type": "code",
   "execution_count": null,
   "metadata": {},
   "outputs": [
    {
     "data": {
      "text/plain": [
       "array([[0., 0., 0., ..., 0., 0., 0.],\n",
       "       [0., 0., 0., ..., 0., 0., 0.],\n",
       "       [0., 0., 0., ..., 0., 0., 0.],\n",
       "       ...,\n",
       "       [0., 0., 0., ..., 0., 0., 0.],\n",
       "       [0., 0., 0., ..., 0., 0., 0.],\n",
       "       [0., 0., 0., ..., 0., 0., 0.]], dtype=float32)"
      ]
     },
     "execution_count": 6,
     "metadata": {},
     "output_type": "execute_result"
    }
   ],
   "source": [
    "interaction_data.reshape(num_layers, -1)[:,:10000000]"
   ]
  },
  {
   "cell_type": "code",
   "execution_count": null,
   "metadata": {},
   "outputs": [
    {
     "data": {
      "text/plain": [
       "(11, 10000000)"
      ]
     },
     "execution_count": 7,
     "metadata": {},
     "output_type": "execute_result"
    }
   ],
   "source": [
    "interaction_data.reshape(num_layers, -1)[:,:10000000].shape"
   ]
  },
  {
   "cell_type": "code",
   "execution_count": null,
   "metadata": {},
   "outputs": [
    {
     "ename": "NameError",
     "evalue": "name 'flattened_pairs' is not defined",
     "output_type": "error",
     "traceback": [
      "\u001b[0;31m---------------------------------------------------------------------------\u001b[0m",
      "\u001b[0;31mNameError\u001b[0m                                 Traceback (most recent call last)",
      "Cell \u001b[0;32mIn[8], line 1\u001b[0m\n\u001b[0;32m----> 1\u001b[0m max_indices \u001b[39m=\u001b[39m np\u001b[39m.\u001b[39margsort(flattened_pairs, axis\u001b[39m=\u001b[39m\u001b[39m1\u001b[39m)[:, ::\u001b[39m-\u001b[39m\u001b[39m1\u001b[39m]\n",
      "\u001b[0;31mNameError\u001b[0m: name 'flattened_pairs' is not defined"
     ]
    }
   ],
   "source": [
    "max_indices = np.argsort(flattened_pairs, axis=1)[:, ::-1]"
   ]
  },
  {
   "cell_type": "code",
   "execution_count": null,
   "id": "9f162202-ca5f-4387-96ba-7081d06a1914",
   "metadata": {},
   "outputs": [
    {
     "name": "stdout",
     "output_type": "stream",
     "text": [
      "Positions in the 2nd and 3rd dimensions:\n",
      " [[[   17   350   264 ...   271   271     0]\n",
      "  [   88   122    77 ...   271   271     0]\n",
      "  [  269   238    15 ...   271   271     0]\n",
      "  ...\n",
      "  [  241   258    96 ...   271   271     0]\n",
      "  [  338    67   185 ...   271   271     0]\n",
      "  [  141   240   330 ...   271   271     0]]\n",
      "\n",
      " [[10971 24235 16226 ...  6182  6181     0]\n",
      "  [ 2731  4359 16583 ...  6143  6142     0]\n",
      "  [ 5862  7345  9239 ...  6018  6017     0]\n",
      "  ...\n",
      "  [ 6730 19459 12906 ...  5579  5578     0]\n",
      "  [23147  5574 10190 ...  5566  5565     0]\n",
      "  [21831  9801 13425 ...  5634  5633     0]]]\n"
     ]
    }
   ],
   "source": [
    "# %%\n",
    "\n",
    "# Find the indices of these maximum values\n",
    "# TODO: scale this up, remove truncation\n",
    "flattened_pairs = interaction_data.reshape(num_layers, -1)[:,:10000000]\n",
    "max_indices = np.argsort(flattened_pairs, axis=1)[:, ::-1]\n",
    "# Convert flat indices to corresponding (2nd, 3rd) dimension indices\n",
    "positions_array = np.array(np.unravel_index(max_indices, interaction_data.shape[1:]))\n",
    "\n",
    "# print(\"Max values across the first dimension for each index in the second and third dimensions:\\n\", max_values)\n",
    "print(\"Positions in the 2nd and 3rd dimensions:\\n\", positions_array)"
   ]
  },
  {
   "cell_type": "code",
   "execution_count": null,
   "metadata": {},
   "outputs": [
    {
     "data": {
      "text/plain": [
       "array([[ 428763, 8625835, 6504290, ..., 6666278, 6666277,       0],\n",
       "       [2165419, 3002631, 1908935, ..., 6666239, 6666238,       0],\n",
       "       [6616806, 5856433,  377879, ..., 6666114, 6666113,       0],\n",
       "       ...,\n",
       "       [5929546, 6360067, 2372202, ..., 6665675, 6665674,       0],\n",
       "       [8329835, 1652166, 4556750, ..., 6665662, 6665661,       0],\n",
       "       [3487047, 5908041, 8123505, ..., 6665730, 6665729,       0]])"
      ]
     },
     "execution_count": 10,
     "metadata": {},
     "output_type": "execute_result"
    }
   ],
   "source": [
    "max_indices"
   ]
  },
  {
   "cell_type": "code",
   "execution_count": null,
   "metadata": {},
   "outputs": [
    {
     "ename": "ValueError",
     "evalue": "index 428763 is out of bounds for array with size 11",
     "output_type": "error",
     "traceback": [
      "\u001b[0;31m---------------------------------------------------------------------------\u001b[0m",
      "\u001b[0;31mValueError\u001b[0m                                Traceback (most recent call last)",
      "Cell \u001b[0;32mIn[11], line 1\u001b[0m\n\u001b[0;32m----> 1\u001b[0m np\u001b[39m.\u001b[39;49munravel_index(max_indices, num_layers)\n",
      "\u001b[0;31mValueError\u001b[0m: index 428763 is out of bounds for array with size 11"
     ]
    }
   ],
   "source": [
    "np.unravel_index(max_indices, num_layers)"
   ]
  },
  {
   "cell_type": "code",
   "execution_count": null,
   "metadata": {},
   "outputs": [
    {
     "ename": "ValueError",
     "evalue": "index 428763 is out of bounds for array with size 24576",
     "output_type": "error",
     "traceback": [
      "\u001b[0;31m---------------------------------------------------------------------------\u001b[0m",
      "\u001b[0;31mValueError\u001b[0m                                Traceback (most recent call last)",
      "Cell \u001b[0;32mIn[12], line 1\u001b[0m\n\u001b[0;32m----> 1\u001b[0m np\u001b[39m.\u001b[39;49munravel_index(max_indices, d_sae)\n",
      "\u001b[0;31mValueError\u001b[0m: index 428763 is out of bounds for array with size 24576"
     ]
    }
   ],
   "source": [
    "np.unravel_index(max_indices, d_sae)"
   ]
  },
  {
   "cell_type": "code",
   "execution_count": null,
   "metadata": {},
   "outputs": [
    {
     "data": {
      "text/plain": [
       "array([[[   17,   350,   264, ...,   271,   271,     0],\n",
       "        [   88,   122,    77, ...,   271,   271,     0],\n",
       "        [  269,   238,    15, ...,   271,   271,     0],\n",
       "        ...,\n",
       "        [  241,   258,    96, ...,   271,   271,     0],\n",
       "        [  338,    67,   185, ...,   271,   271,     0],\n",
       "        [  141,   240,   330, ...,   271,   271,     0]],\n",
       "\n",
       "       [[10971, 24235, 16226, ...,  6182,  6181,     0],\n",
       "        [ 2731,  4359, 16583, ...,  6143,  6142,     0],\n",
       "        [ 5862,  7345,  9239, ...,  6018,  6017,     0],\n",
       "        ...,\n",
       "        [ 6730, 19459, 12906, ...,  5579,  5578,     0],\n",
       "        [23147,  5574, 10190, ...,  5566,  5565,     0],\n",
       "        [21831,  9801, 13425, ...,  5634,  5633,     0]]])"
      ]
     },
     "execution_count": 13,
     "metadata": {},
     "output_type": "execute_result"
    }
   ],
   "source": [
    " positions_array"
   ]
  },
  {
   "cell_type": "code",
   "execution_count": null,
   "metadata": {},
   "outputs": [
    {
     "data": {
      "text/plain": [
       "(24576, 24576)"
      ]
     },
     "execution_count": 14,
     "metadata": {},
     "output_type": "execute_result"
    }
   ],
   "source": [
    "interaction_data.shape[1:]"
   ]
  },
  {
   "cell_type": "code",
   "execution_count": null,
   "metadata": {},
   "outputs": [
    {
     "data": {
      "text/plain": [
       "(2, 11, 10000000)"
      ]
     },
     "execution_count": 15,
     "metadata": {},
     "output_type": "execute_result"
    }
   ],
   "source": [
    "positions_array.shape"
   ]
  },
  {
   "cell_type": "code",
   "execution_count": null,
   "metadata": {},
   "outputs": [
    {
     "data": {
      "text/plain": [
       "array([[[0., 0., 0., ..., 0., 0., 0.],\n",
       "        [0., 0., 0., ..., 0., 0., 0.],\n",
       "        [0., 0., 0., ..., 0., 0., 0.],\n",
       "        ...,\n",
       "        [0., 0., 0., ..., 0., 0., 0.],\n",
       "        [0., 0., 0., ..., 0., 0., 0.],\n",
       "        [0., 0., 0., ..., 0., 0., 0.]],\n",
       "\n",
       "       [[0., 0., 0., ..., 0., 0., 0.],\n",
       "        [0., 0., 0., ..., 0., 0., 0.],\n",
       "        [0., 0., 0., ..., 0., 0., 0.],\n",
       "        ...,\n",
       "        [0., 0., 0., ..., 0., 0., 0.],\n",
       "        [0., 0., 0., ..., 0., 0., 0.],\n",
       "        [0., 0., 0., ..., 0., 0., 0.]],\n",
       "\n",
       "       [[0., 0., 0., ..., 0., 0., 0.],\n",
       "        [0., 0., 0., ..., 0., 0., 0.],\n",
       "        [0., 0., 0., ..., 0., 0., 0.],\n",
       "        ...,\n",
       "        [0., 0., 0., ..., 0., 0., 0.],\n",
       "        [0., 0., 0., ..., 0., 0., 0.],\n",
       "        [0., 0., 0., ..., 0., 0., 0.]],\n",
       "\n",
       "       ...,\n",
       "\n",
       "       [[0., 0., 0., ..., 0., 0., 0.],\n",
       "        [0., 0., 0., ..., 0., 0., 0.],\n",
       "        [0., 0., 0., ..., 0., 0., 0.],\n",
       "        ...,\n",
       "        [0., 0., 0., ..., 0., 0., 0.],\n",
       "        [0., 0., 0., ..., 0., 0., 0.],\n",
       "        [0., 0., 0., ..., 0., 0., 0.]],\n",
       "\n",
       "       [[0., 0., 0., ..., 0., 0., 0.],\n",
       "        [0., 0., 0., ..., 0., 0., 0.],\n",
       "        [0., 0., 0., ..., 0., 0., 0.],\n",
       "        ...,\n",
       "        [0., 0., 0., ..., 0., 0., 0.],\n",
       "        [0., 0., 0., ..., 0., 0., 0.],\n",
       "        [0., 0., 0., ..., 0., 0., 0.]],\n",
       "\n",
       "       [[0., 0., 0., ..., 0., 0., 0.],\n",
       "        [0., 0., 0., ..., 0., 0., 0.],\n",
       "        [0., 0., 0., ..., 0., 0., 0.],\n",
       "        ...,\n",
       "        [0., 0., 0., ..., 0., 0., 0.],\n",
       "        [0., 0., 0., ..., 0., 0., 0.],\n",
       "        [0., 0., 0., ..., 0., 0., 0.]]], dtype=float32)"
      ]
     },
     "execution_count": 16,
     "metadata": {},
     "output_type": "execute_result"
    }
   ],
   "source": [
    "interaction_data"
   ]
  },
  {
   "cell_type": "code",
   "execution_count": null,
   "metadata": {},
   "outputs": [
    {
     "ename": "MemoryError",
     "evalue": "Unable to allocate 472. PiB for an array with shape (2, 11, 10000000, 24576, 24576) and data type float32",
     "output_type": "error",
     "traceback": [
      "\u001b[0;31m---------------------------------------------------------------------------\u001b[0m",
      "\u001b[0;31mMemoryError\u001b[0m                               Traceback (most recent call last)",
      "Cell \u001b[0;32mIn[17], line 1\u001b[0m\n\u001b[0;32m----> 1\u001b[0m interaction_data[positions_array]\n",
      "\u001b[0;31mMemoryError\u001b[0m: Unable to allocate 472. PiB for an array with shape (2, 11, 10000000, 24576, 24576) and data type float32"
     ]
    }
   ],
   "source": [
    "interaction_data[positions_array]"
   ]
  },
  {
   "cell_type": "code",
   "execution_count": null,
   "metadata": {},
   "outputs": [
    {
     "data": {
      "text/plain": [
       "(11, 24576, 24576)"
      ]
     },
     "execution_count": 18,
     "metadata": {},
     "output_type": "execute_result"
    }
   ],
   "source": [
    "interaction_data.shape"
   ]
  },
  {
   "cell_type": "code",
   "execution_count": null,
   "metadata": {},
   "outputs": [
    {
     "data": {
      "text/plain": [
       "(array([[0, 0, 0, ..., 0, 0, 0],\n",
       "        [0, 0, 0, ..., 0, 0, 0],\n",
       "        [0, 0, 0, ..., 0, 0, 0],\n",
       "        ...,\n",
       "        [0, 0, 0, ..., 0, 0, 0],\n",
       "        [0, 0, 0, ..., 0, 0, 0],\n",
       "        [0, 0, 0, ..., 0, 0, 0]]),\n",
       " array([[ 17, 350, 264, ..., 271, 271,   0],\n",
       "        [ 88, 122,  77, ..., 271, 271,   0],\n",
       "        [269, 238,  15, ..., 271, 271,   0],\n",
       "        ...,\n",
       "        [241, 258,  96, ..., 271, 271,   0],\n",
       "        [338,  67, 185, ..., 271, 271,   0],\n",
       "        [141, 240, 330, ..., 271, 271,   0]]),\n",
       " array([[10971, 24235, 16226, ...,  6182,  6181,     0],\n",
       "        [ 2731,  4359, 16583, ...,  6143,  6142,     0],\n",
       "        [ 5862,  7345,  9239, ...,  6018,  6017,     0],\n",
       "        ...,\n",
       "        [ 6730, 19459, 12906, ...,  5579,  5578,     0],\n",
       "        [23147,  5574, 10190, ...,  5566,  5565,     0],\n",
       "        [21831,  9801, 13425, ...,  5634,  5633,     0]]))"
      ]
     },
     "execution_count": 19,
     "metadata": {},
     "output_type": "execute_result"
    }
   ],
   "source": [
    "np.unravel_index(max_indices, (num_layers, d_sae, d_sae))"
   ]
  },
  {
   "cell_type": "code",
   "execution_count": null,
   "metadata": {},
   "outputs": [
    {
     "ename": "AttributeError",
     "evalue": "'tuple' object has no attribute 'shape'",
     "output_type": "error",
     "traceback": [
      "\u001b[0;31m---------------------------------------------------------------------------\u001b[0m",
      "\u001b[0;31mAttributeError\u001b[0m                            Traceback (most recent call last)",
      "Cell \u001b[0;32mIn[20], line 1\u001b[0m\n\u001b[0;32m----> 1\u001b[0m np\u001b[39m.\u001b[39;49munravel_index(max_indices, (num_layers, d_sae, d_sae))\u001b[39m.\u001b[39;49mshape\n",
      "\u001b[0;31mAttributeError\u001b[0m: 'tuple' object has no attribute 'shape'"
     ]
    }
   ],
   "source": [
    "np.unravel_index(max_indices, (num_layers, d_sae, d_sae)).shape"
   ]
  },
  {
   "cell_type": "code",
   "execution_count": null,
   "metadata": {},
   "outputs": [],
   "source": [
    "ur = np.unravel_index(max_indices, (num_layers, d_sae, d_sae))"
   ]
  },
  {
   "cell_type": "code",
   "execution_count": null,
   "metadata": {},
   "outputs": [
    {
     "data": {
      "text/plain": [
       "(11, 10000000)"
      ]
     },
     "execution_count": 22,
     "metadata": {},
     "output_type": "execute_result"
    }
   ],
   "source": [
    "ur[0].shape"
   ]
  },
  {
   "cell_type": "code",
   "execution_count": null,
   "metadata": {},
   "outputs": [
    {
     "data": {
      "text/plain": [
       "(11, 10000000)"
      ]
     },
     "execution_count": 23,
     "metadata": {},
     "output_type": "execute_result"
    }
   ],
   "source": [
    "ur[1].shape"
   ]
  },
  {
   "cell_type": "code",
   "execution_count": null,
   "metadata": {},
   "outputs": [
    {
     "data": {
      "text/plain": [
       "(11, 10000000)"
      ]
     },
     "execution_count": 24,
     "metadata": {},
     "output_type": "execute_result"
    }
   ],
   "source": [
    "ur[2].shape"
   ]
  },
  {
   "cell_type": "code",
   "execution_count": null,
   "metadata": {},
   "outputs": [
    {
     "ename": "IndexError",
     "evalue": "tuple index out of range",
     "output_type": "error",
     "traceback": [
      "\u001b[0;31m---------------------------------------------------------------------------\u001b[0m",
      "\u001b[0;31mIndexError\u001b[0m                                Traceback (most recent call last)",
      "Cell \u001b[0;32mIn[25], line 1\u001b[0m\n\u001b[0;32m----> 1\u001b[0m ur[\u001b[39m3\u001b[39;49m]\u001b[39m.\u001b[39mshape\n",
      "\u001b[0;31mIndexError\u001b[0m: tuple index out of range"
     ]
    }
   ],
   "source": [
    "ur[3].shape"
   ]
  },
  {
   "cell_type": "code",
   "execution_count": null,
   "metadata": {},
   "outputs": [
    {
     "ename": "TypeError",
     "evalue": "'tuple' object cannot be interpreted as an integer",
     "output_type": "error",
     "traceback": [
      "\u001b[0;31m---------------------------------------------------------------------------\u001b[0m",
      "\u001b[0;31mTypeError\u001b[0m                                 Traceback (most recent call last)",
      "File \u001b[0;32m~/miniconda3/envs/spar/lib/python3.11/site-packages/numpy/core/fromnumeric.py:59\u001b[0m, in \u001b[0;36m_wrapfunc\u001b[0;34m(obj, method, *args, **kwds)\u001b[0m\n\u001b[1;32m     58\u001b[0m \u001b[39mtry\u001b[39;00m:\n\u001b[0;32m---> 59\u001b[0m     \u001b[39mreturn\u001b[39;00m bound(\u001b[39m*\u001b[39;49margs, \u001b[39m*\u001b[39;49m\u001b[39m*\u001b[39;49mkwds)\n\u001b[1;32m     60\u001b[0m \u001b[39mexcept\u001b[39;00m \u001b[39mTypeError\u001b[39;00m:\n\u001b[1;32m     61\u001b[0m     \u001b[39m# A TypeError occurs if the object does have such a method in its\u001b[39;00m\n\u001b[1;32m     62\u001b[0m     \u001b[39m# class, but its signature is not identical to that of NumPy's. This\u001b[39;00m\n\u001b[0;32m   (...)\u001b[0m\n\u001b[1;32m     66\u001b[0m     \u001b[39m# Call _wrapit from within the except clause to ensure a potential\u001b[39;00m\n\u001b[1;32m     67\u001b[0m     \u001b[39m# exception has a traceback chain.\u001b[39;00m\n",
      "\u001b[0;31mTypeError\u001b[0m: 'tuple' object cannot be interpreted as an integer",
      "\nDuring handling of the above exception, another exception occurred:\n",
      "\u001b[0;31mTypeError\u001b[0m                                 Traceback (most recent call last)",
      "Cell \u001b[0;32mIn[26], line 1\u001b[0m\n\u001b[0;32m----> 1\u001b[0m np\u001b[39m.\u001b[39;49margsort(interaction_data[\u001b[39m0\u001b[39;49m,:,:], axis\u001b[39m=\u001b[39;49m(\u001b[39m1\u001b[39;49m, \u001b[39m2\u001b[39;49m))\n",
      "File \u001b[0;32m~/miniconda3/envs/spar/lib/python3.11/site-packages/numpy/core/fromnumeric.py:1133\u001b[0m, in \u001b[0;36margsort\u001b[0;34m(a, axis, kind, order)\u001b[0m\n\u001b[1;32m   1025\u001b[0m \u001b[39m@array_function_dispatch\u001b[39m(_argsort_dispatcher)\n\u001b[1;32m   1026\u001b[0m \u001b[39mdef\u001b[39;00m \u001b[39margsort\u001b[39m(a, axis\u001b[39m=\u001b[39m\u001b[39m-\u001b[39m\u001b[39m1\u001b[39m, kind\u001b[39m=\u001b[39m\u001b[39mNone\u001b[39;00m, order\u001b[39m=\u001b[39m\u001b[39mNone\u001b[39;00m):\n\u001b[1;32m   1027\u001b[0m \u001b[39m    \u001b[39m\u001b[39m\"\"\"\u001b[39;00m\n\u001b[1;32m   1028\u001b[0m \u001b[39m    Returns the indices that would sort an array.\u001b[39;00m\n\u001b[1;32m   1029\u001b[0m \n\u001b[0;32m   (...)\u001b[0m\n\u001b[1;32m   1131\u001b[0m \n\u001b[1;32m   1132\u001b[0m \u001b[39m    \"\"\"\u001b[39;00m\n\u001b[0;32m-> 1133\u001b[0m     \u001b[39mreturn\u001b[39;00m _wrapfunc(a, \u001b[39m'\u001b[39;49m\u001b[39margsort\u001b[39;49m\u001b[39m'\u001b[39;49m, axis\u001b[39m=\u001b[39;49maxis, kind\u001b[39m=\u001b[39;49mkind, order\u001b[39m=\u001b[39;49morder)\n",
      "File \u001b[0;32m~/miniconda3/envs/spar/lib/python3.11/site-packages/numpy/core/fromnumeric.py:68\u001b[0m, in \u001b[0;36m_wrapfunc\u001b[0;34m(obj, method, *args, **kwds)\u001b[0m\n\u001b[1;32m     59\u001b[0m     \u001b[39mreturn\u001b[39;00m bound(\u001b[39m*\u001b[39margs, \u001b[39m*\u001b[39m\u001b[39m*\u001b[39mkwds)\n\u001b[1;32m     60\u001b[0m \u001b[39mexcept\u001b[39;00m \u001b[39mTypeError\u001b[39;00m:\n\u001b[1;32m     61\u001b[0m     \u001b[39m# A TypeError occurs if the object does have such a method in its\u001b[39;00m\n\u001b[1;32m     62\u001b[0m     \u001b[39m# class, but its signature is not identical to that of NumPy's. This\u001b[39;00m\n\u001b[0;32m   (...)\u001b[0m\n\u001b[1;32m     66\u001b[0m     \u001b[39m# Call _wrapit from within the except clause to ensure a potential\u001b[39;00m\n\u001b[1;32m     67\u001b[0m     \u001b[39m# exception has a traceback chain.\u001b[39;00m\n\u001b[0;32m---> 68\u001b[0m     \u001b[39mreturn\u001b[39;00m _wrapit(obj, method, \u001b[39m*\u001b[39;49margs, \u001b[39m*\u001b[39;49m\u001b[39m*\u001b[39;49mkwds)\n",
      "File \u001b[0;32m~/miniconda3/envs/spar/lib/python3.11/site-packages/numpy/core/fromnumeric.py:45\u001b[0m, in \u001b[0;36m_wrapit\u001b[0;34m(obj, method, *args, **kwds)\u001b[0m\n\u001b[1;32m     43\u001b[0m \u001b[39mexcept\u001b[39;00m \u001b[39mAttributeError\u001b[39;00m:\n\u001b[1;32m     44\u001b[0m     wrap \u001b[39m=\u001b[39m \u001b[39mNone\u001b[39;00m\n\u001b[0;32m---> 45\u001b[0m result \u001b[39m=\u001b[39m \u001b[39mgetattr\u001b[39;49m(asarray(obj), method)(\u001b[39m*\u001b[39;49margs, \u001b[39m*\u001b[39;49m\u001b[39m*\u001b[39;49mkwds)\n\u001b[1;32m     46\u001b[0m \u001b[39mif\u001b[39;00m wrap:\n\u001b[1;32m     47\u001b[0m     \u001b[39mif\u001b[39;00m \u001b[39mnot\u001b[39;00m \u001b[39misinstance\u001b[39m(result, mu\u001b[39m.\u001b[39mndarray):\n",
      "\u001b[0;31mTypeError\u001b[0m: 'tuple' object cannot be interpreted as an integer"
     ]
    }
   ],
   "source": [
    "np.argsort(interaction_data[0,:,:], axis=(1, 2))"
   ]
  },
  {
   "cell_type": "code",
   "execution_count": null,
   "metadata": {},
   "outputs": [
    {
     "data": {
      "text/plain": [
       "array([0., 0., 0., ..., 0., 0., 0.], dtype=float32)"
      ]
     },
     "execution_count": 27,
     "metadata": {},
     "output_type": "execute_result"
    }
   ],
   "source": [
    "interaction_data[0,:,:].reshape(d_sae**2)"
   ]
  },
  {
   "cell_type": "code",
   "execution_count": null,
   "metadata": {},
   "outputs": [
    {
     "data": {
      "text/plain": [
       "(603979776,)"
      ]
     },
     "execution_count": 28,
     "metadata": {},
     "output_type": "execute_result"
    }
   ],
   "source": [
    "interaction_data[0,:,:].reshape(d_sae**2).shape"
   ]
  },
  {
   "cell_type": "code",
   "execution_count": null,
   "metadata": {},
   "outputs": [
    {
     "ename": "KeyboardInterrupt",
     "evalue": "",
     "output_type": "error",
     "traceback": [
      "\u001b[0;31m---------------------------------------------------------------------------\u001b[0m",
      "\u001b[0;31mKeyboardInterrupt\u001b[0m                         Traceback (most recent call last)",
      "Cell \u001b[0;32mIn[29], line 1\u001b[0m\n\u001b[0;32m----> 1\u001b[0m np\u001b[39m.\u001b[39;49margsort(interaction_data[\u001b[39m0\u001b[39;49m,:,:]\u001b[39m.\u001b[39;49mreshape(d_sae\u001b[39m*\u001b[39;49m\u001b[39m*\u001b[39;49m\u001b[39m2\u001b[39;49m))\n",
      "File \u001b[0;32m~/miniconda3/envs/spar/lib/python3.11/site-packages/numpy/core/fromnumeric.py:1133\u001b[0m, in \u001b[0;36margsort\u001b[0;34m(a, axis, kind, order)\u001b[0m\n\u001b[1;32m   1025\u001b[0m \u001b[39m@array_function_dispatch\u001b[39m(_argsort_dispatcher)\n\u001b[1;32m   1026\u001b[0m \u001b[39mdef\u001b[39;00m \u001b[39margsort\u001b[39m(a, axis\u001b[39m=\u001b[39m\u001b[39m-\u001b[39m\u001b[39m1\u001b[39m, kind\u001b[39m=\u001b[39m\u001b[39mNone\u001b[39;00m, order\u001b[39m=\u001b[39m\u001b[39mNone\u001b[39;00m):\n\u001b[1;32m   1027\u001b[0m \u001b[39m    \u001b[39m\u001b[39m\"\"\"\u001b[39;00m\n\u001b[1;32m   1028\u001b[0m \u001b[39m    Returns the indices that would sort an array.\u001b[39;00m\n\u001b[1;32m   1029\u001b[0m \n\u001b[0;32m   (...)\u001b[0m\n\u001b[1;32m   1131\u001b[0m \n\u001b[1;32m   1132\u001b[0m \u001b[39m    \"\"\"\u001b[39;00m\n\u001b[0;32m-> 1133\u001b[0m     \u001b[39mreturn\u001b[39;00m _wrapfunc(a, \u001b[39m'\u001b[39;49m\u001b[39margsort\u001b[39;49m\u001b[39m'\u001b[39;49m, axis\u001b[39m=\u001b[39;49maxis, kind\u001b[39m=\u001b[39;49mkind, order\u001b[39m=\u001b[39;49morder)\n",
      "File \u001b[0;32m~/miniconda3/envs/spar/lib/python3.11/site-packages/numpy/core/fromnumeric.py:59\u001b[0m, in \u001b[0;36m_wrapfunc\u001b[0;34m(obj, method, *args, **kwds)\u001b[0m\n\u001b[1;32m     56\u001b[0m     \u001b[39mreturn\u001b[39;00m _wrapit(obj, method, \u001b[39m*\u001b[39margs, \u001b[39m*\u001b[39m\u001b[39m*\u001b[39mkwds)\n\u001b[1;32m     58\u001b[0m \u001b[39mtry\u001b[39;00m:\n\u001b[0;32m---> 59\u001b[0m     \u001b[39mreturn\u001b[39;00m bound(\u001b[39m*\u001b[39;49margs, \u001b[39m*\u001b[39;49m\u001b[39m*\u001b[39;49mkwds)\n\u001b[1;32m     60\u001b[0m \u001b[39mexcept\u001b[39;00m \u001b[39mTypeError\u001b[39;00m:\n\u001b[1;32m     61\u001b[0m     \u001b[39m# A TypeError occurs if the object does have such a method in its\u001b[39;00m\n\u001b[1;32m     62\u001b[0m     \u001b[39m# class, but its signature is not identical to that of NumPy's. This\u001b[39;00m\n\u001b[0;32m   (...)\u001b[0m\n\u001b[1;32m     66\u001b[0m     \u001b[39m# Call _wrapit from within the except clause to ensure a potential\u001b[39;00m\n\u001b[1;32m     67\u001b[0m     \u001b[39m# exception has a traceback chain.\u001b[39;00m\n\u001b[1;32m     68\u001b[0m     \u001b[39mreturn\u001b[39;00m _wrapit(obj, method, \u001b[39m*\u001b[39margs, \u001b[39m*\u001b[39m\u001b[39m*\u001b[39mkwds)\n",
      "\u001b[0;31mKeyboardInterrupt\u001b[0m: "
     ]
    }
   ],
   "source": [
    "np.argsort(interaction_data[0,:,:].reshape(d_sae**2))"
   ]
  },
  {
   "cell_type": "code",
   "execution_count": null,
   "metadata": {},
   "outputs": [
    {
     "data": {
      "text/plain": [
       "array([337327719, 337315087, 337315280, ..., 411888098, 411888099,\n",
       "       411888100])"
      ]
     },
     "execution_count": 30,
     "metadata": {},
     "output_type": "execute_result"
    }
   ],
   "source": [
    "np.argsort(interaction_data[0,:,:].reshape(d_sae**2))[:10000000]"
   ]
  },
  {
   "cell_type": "code",
   "execution_count": null,
   "metadata": {},
   "outputs": [
    {
     "data": {
      "text/plain": [
       "array([      0, 6666277, 6666278, ..., 6504290, 8625835,  428763])"
      ]
     },
     "execution_count": 31,
     "metadata": {},
     "output_type": "execute_result"
    }
   ],
   "source": [
    "np.argsort(interaction_data[0,:,:].reshape(d_sae**2)[:10000000])"
   ]
  },
  {
   "cell_type": "code",
   "execution_count": null,
   "metadata": {},
   "outputs": [
    {
     "data": {
      "text/plain": [
       "array([ 428763, 8625835, 6504290, ..., 6666278, 6666277,       0])"
      ]
     },
     "execution_count": 32,
     "metadata": {},
     "output_type": "execute_result"
    }
   ],
   "source": [
    "np.argsort(interaction_data[0,:,:].reshape(d_sae**2)[:10000000])[::-1]"
   ]
  },
  {
   "cell_type": "code",
   "execution_count": null,
   "metadata": {},
   "outputs": [
    {
     "ename": "IndexError",
     "evalue": "index 428763 is out of bounds for axis 0 with size 24576",
     "output_type": "error",
     "traceback": [
      "\u001b[0;31m---------------------------------------------------------------------------\u001b[0m",
      "\u001b[0;31mIndexError\u001b[0m                                Traceback (most recent call last)",
      "Cell \u001b[0;32mIn[33], line 1\u001b[0m\n\u001b[0;32m----> 1\u001b[0m interaction_data[\u001b[39m0\u001b[39;49m][np\u001b[39m.\u001b[39;49margsort(interaction_data[\u001b[39m0\u001b[39;49m,:,:]\u001b[39m.\u001b[39;49mreshape(d_sae\u001b[39m*\u001b[39;49m\u001b[39m*\u001b[39;49m\u001b[39m2\u001b[39;49m)[:\u001b[39m10000000\u001b[39;49m])[::\u001b[39m-\u001b[39;49m\u001b[39m1\u001b[39;49m]]\n",
      "\u001b[0;31mIndexError\u001b[0m: index 428763 is out of bounds for axis 0 with size 24576"
     ]
    }
   ],
   "source": [
    "interaction_data[0][np.argsort(interaction_data[0,:,:].reshape(d_sae**2)[:10000000])[::-1]]"
   ]
  },
  {
   "cell_type": "code",
   "execution_count": null,
   "metadata": {},
   "outputs": [
    {
     "data": {
      "text/plain": [
       "array([[0., 0., 0., ..., 0., 0., 0.],\n",
       "       [0., 0., 0., ..., 0., 0., 0.],\n",
       "       [0., 0., 0., ..., 0., 0., 0.],\n",
       "       ...,\n",
       "       [0., 0., 0., ..., 0., 0., 0.],\n",
       "       [0., 0., 0., ..., 0., 0., 0.],\n",
       "       [0., 0., 0., ..., 0., 0., 0.]], dtype=float32)"
      ]
     },
     "execution_count": 34,
     "metadata": {},
     "output_type": "execute_result"
    }
   ],
   "source": [
    "interaction_data[0]"
   ]
  },
  {
   "cell_type": "code",
   "execution_count": null,
   "metadata": {},
   "outputs": [],
   "source": [
    "flattened_first_layer = interaction_data[0,:,:].reshape(d_sae**2)"
   ]
  },
  {
   "cell_type": "code",
   "execution_count": null,
   "metadata": {},
   "outputs": [
    {
     "data": {
      "text/plain": [
       "array([0.99888825, 0.9988738 , 0.9984707 , ..., 0.        , 0.        ,\n",
       "       0.        ], dtype=float32)"
      ]
     },
     "execution_count": 36,
     "metadata": {},
     "output_type": "execute_result"
    }
   ],
   "source": [
    "flattened_first_layer[np.argsort(flattened_first_layer[:10000000])[::-1]]"
   ]
  },
  {
   "cell_type": "code",
   "execution_count": null,
   "metadata": {},
   "outputs": [],
   "source": [
    "flattened_truncated_all_layers = interaction_data.reshape(num_layers, d_sae**2)"
   ]
  },
  {
   "cell_type": "code",
   "execution_count": null,
   "metadata": {},
   "outputs": [],
   "source": [
    "flattened_truncated_all_layers = interaction_data.reshape(num_layers, d_sae**2)[:,:10000000]"
   ]
  },
  {
   "cell_type": "code",
   "execution_count": null,
   "metadata": {},
   "outputs": [
    {
     "data": {
      "text/plain": [
       "array([[      0, 6665729, 6665730, ..., 8123505, 5908041, 3487047],\n",
       "       [      0, 6665661, 6665662, ..., 4556750, 1652166, 8329835],\n",
       "       [      0, 6665674, 6665675, ..., 2372202, 6360067, 5929546],\n",
       "       ...,\n",
       "       [      0, 6666113, 6666114, ...,  377879, 5856433, 6616806],\n",
       "       [      0, 6666238, 6666239, ..., 1908935, 3002631, 2165419],\n",
       "       [      0, 6666277, 6666278, ..., 6504290, 8625835,  428763]])"
      ]
     },
     "execution_count": 39,
     "metadata": {},
     "output_type": "execute_result"
    }
   ],
   "source": [
    "np.argsort(flattened_truncated_all_layers, axis=1)[::-1]"
   ]
  },
  {
   "cell_type": "code",
   "execution_count": null,
   "metadata": {},
   "outputs": [
    {
     "ename": "MemoryError",
     "evalue": "Unable to allocate 3.91 PiB for an array with shape (11, 10000000, 10000000) and data type float32",
     "output_type": "error",
     "traceback": [
      "\u001b[0;31m---------------------------------------------------------------------------\u001b[0m",
      "\u001b[0;31mMemoryError\u001b[0m                               Traceback (most recent call last)",
      "Cell \u001b[0;32mIn[40], line 1\u001b[0m\n\u001b[0;32m----> 1\u001b[0m flattened_truncated_all_layers[np\u001b[39m.\u001b[39;49margsort(flattened_truncated_all_layers, axis\u001b[39m=\u001b[39;49m\u001b[39m1\u001b[39;49m)[::\u001b[39m-\u001b[39;49m\u001b[39m1\u001b[39;49m]]\n",
      "\u001b[0;31mMemoryError\u001b[0m: Unable to allocate 3.91 PiB for an array with shape (11, 10000000, 10000000) and data type float32"
     ]
    }
   ],
   "source": [
    "flattened_truncated_all_layers[np.argsort(flattened_truncated_all_layers, axis=1)[::-1]]"
   ]
  },
  {
   "cell_type": "code",
   "execution_count": null,
   "metadata": {},
   "outputs": [],
   "source": [
    "max_idxes_per_truncated_layer = np.argsort(flattened_truncated_all_layers, axis=1)[::-1]"
   ]
  },
  {
   "cell_type": "code",
   "execution_count": null,
   "metadata": {},
   "outputs": [
    {
     "data": {
      "text/plain": [
       "(11, 10000000)"
      ]
     },
     "execution_count": 42,
     "metadata": {},
     "output_type": "execute_result"
    }
   ],
   "source": [
    "max_idxes_per_truncated_layer.shape"
   ]
  },
  {
   "cell_type": "code",
   "execution_count": null,
   "metadata": {},
   "outputs": [
    {
     "data": {
      "text/plain": [
       "(11, 10000000)"
      ]
     },
     "execution_count": 43,
     "metadata": {},
     "output_type": "execute_result"
    }
   ],
   "source": [
    "flattened_truncated_all_layers.shape"
   ]
  },
  {
   "cell_type": "code",
   "execution_count": null,
   "metadata": {},
   "outputs": [
    {
     "ename": "MemoryError",
     "evalue": "Unable to allocate 3.91 PiB for an array with shape (11, 10000000, 10000000) and data type float32",
     "output_type": "error",
     "traceback": [
      "\u001b[0;31m---------------------------------------------------------------------------\u001b[0m",
      "\u001b[0;31mMemoryError\u001b[0m                               Traceback (most recent call last)",
      "Cell \u001b[0;32mIn[44], line 1\u001b[0m\n\u001b[0;32m----> 1\u001b[0m flattened_truncated_all_layers[max_idxes_per_truncated_layer]\n",
      "\u001b[0;31mMemoryError\u001b[0m: Unable to allocate 3.91 PiB for an array with shape (11, 10000000, 10000000) and data type float32"
     ]
    }
   ],
   "source": [
    "flattened_truncated_all_layers[max_idxes_per_truncated_layer]"
   ]
  },
  {
   "cell_type": "code",
   "execution_count": null,
   "metadata": {},
   "outputs": [
    {
     "data": {
      "text/plain": [
       "array([[      0, 6665729, 6665730, ..., 8123505, 5908041, 3487047],\n",
       "       [      0, 6665661, 6665662, ..., 4556750, 1652166, 8329835],\n",
       "       [      0, 6665674, 6665675, ..., 2372202, 6360067, 5929546],\n",
       "       ...,\n",
       "       [      0, 6666113, 6666114, ...,  377879, 5856433, 6616806],\n",
       "       [      0, 6666238, 6666239, ..., 1908935, 3002631, 2165419],\n",
       "       [      0, 6666277, 6666278, ..., 6504290, 8625835,  428763]])"
      ]
     },
     "execution_count": 45,
     "metadata": {},
     "output_type": "execute_result"
    }
   ],
   "source": [
    "max_idxes_per_truncated_layer"
   ]
  },
  {
   "cell_type": "code",
   "execution_count": null,
   "metadata": {},
   "outputs": [
    {
     "data": {
      "text/plain": [
       "array([0., 0., 0., ..., 0., 0., 0.], dtype=float32)"
      ]
     },
     "execution_count": 46,
     "metadata": {},
     "output_type": "execute_result"
    }
   ],
   "source": [
    "flattened_truncated_all_layers[0][max_idxes_per_truncated_layer[0]]"
   ]
  },
  {
   "cell_type": "code",
   "execution_count": null,
   "metadata": {},
   "outputs": [
    {
     "data": {
      "text/plain": [
       "(10000000,)"
      ]
     },
     "execution_count": 47,
     "metadata": {},
     "output_type": "execute_result"
    }
   ],
   "source": [
    "flattened_truncated_all_layers[0][max_idxes_per_truncated_layer[0]].shape"
   ]
  },
  {
   "cell_type": "code",
   "execution_count": null,
   "metadata": {},
   "outputs": [
    {
     "data": {
      "text/plain": [
       "(10000000,)"
      ]
     },
     "execution_count": 48,
     "metadata": {},
     "output_type": "execute_result"
    }
   ],
   "source": [
    "flattened_truncated_all_layers[1][max_idxes_per_truncated_layer[1]].shape"
   ]
  },
  {
   "cell_type": "code",
   "execution_count": null,
   "metadata": {},
   "outputs": [
    {
     "data": {
      "text/plain": [
       "array([0., 0., 0., ..., 0., 0., 0.], dtype=float32)"
      ]
     },
     "execution_count": 49,
     "metadata": {},
     "output_type": "execute_result"
    }
   ],
   "source": [
    "flattened_truncated_all_layers[1][max_idxes_per_truncated_layer[1]]"
   ]
  },
  {
   "cell_type": "code",
   "execution_count": null,
   "metadata": {},
   "outputs": [
    {
     "ename": "AttributeError",
     "evalue": "'numpy.ndarray' object has no attribute 'count_nonzeros'",
     "output_type": "error",
     "traceback": [
      "\u001b[0;31m---------------------------------------------------------------------------\u001b[0m",
      "\u001b[0;31mAttributeError\u001b[0m                            Traceback (most recent call last)",
      "Cell \u001b[0;32mIn[50], line 1\u001b[0m\n\u001b[0;32m----> 1\u001b[0m flattened_truncated_all_layers[\u001b[39m1\u001b[39;49m][max_idxes_per_truncated_layer[\u001b[39m1\u001b[39;49m]]\u001b[39m.\u001b[39;49mcount_nonzeros()\n",
      "\u001b[0;31mAttributeError\u001b[0m: 'numpy.ndarray' object has no attribute 'count_nonzeros'"
     ]
    }
   ],
   "source": [
    "flattened_truncated_all_layers[1][max_idxes_per_truncated_layer[1]].count_nonzeros()"
   ]
  },
  {
   "cell_type": "code",
   "execution_count": null,
   "metadata": {},
   "outputs": [
    {
     "ename": "AttributeError",
     "evalue": "'numpy.ndarray' object has no attribute 'count_nonzero'",
     "output_type": "error",
     "traceback": [
      "\u001b[0;31m---------------------------------------------------------------------------\u001b[0m",
      "\u001b[0;31mAttributeError\u001b[0m                            Traceback (most recent call last)",
      "Cell \u001b[0;32mIn[51], line 1\u001b[0m\n\u001b[0;32m----> 1\u001b[0m flattened_truncated_all_layers[\u001b[39m1\u001b[39;49m][max_idxes_per_truncated_layer[\u001b[39m1\u001b[39;49m]]\u001b[39m.\u001b[39;49mcount_nonzero()\n",
      "\u001b[0;31mAttributeError\u001b[0m: 'numpy.ndarray' object has no attribute 'count_nonzero'"
     ]
    }
   ],
   "source": [
    "flattened_truncated_all_layers[1][max_idxes_per_truncated_layer[1]].count_nonzero()"
   ]
  },
  {
   "cell_type": "code",
   "execution_count": null,
   "metadata": {},
   "outputs": [
    {
     "data": {
      "text/plain": [
       "2817"
      ]
     },
     "execution_count": 52,
     "metadata": {},
     "output_type": "execute_result"
    }
   ],
   "source": [
    "np.count_nonzero(flattened_truncated_all_layers[1][max_idxes_per_truncated_layer[1]])"
   ]
  },
  {
   "cell_type": "code",
   "execution_count": null,
   "metadata": {},
   "outputs": [
    {
     "data": {
      "text/plain": [
       "array([[      0, 6665729, 6665730, ..., 8123505, 5908041, 3487047],\n",
       "       [      0, 6665661, 6665662, ..., 4556750, 1652166, 8329835],\n",
       "       [      0, 6665674, 6665675, ..., 2372202, 6360067, 5929546],\n",
       "       ...,\n",
       "       [      0, 6666113, 6666114, ...,  377879, 5856433, 6616806],\n",
       "       [      0, 6666238, 6666239, ..., 1908935, 3002631, 2165419],\n",
       "       [      0, 6666277, 6666278, ..., 6504290, 8625835,  428763]])"
      ]
     },
     "execution_count": 53,
     "metadata": {},
     "output_type": "execute_result"
    }
   ],
   "source": [
    "max_idxes_per_truncated_layer"
   ]
  },
  {
   "cell_type": "code",
   "execution_count": null,
   "metadata": {},
   "outputs": [],
   "source": [
    "max_idxes_per_truncated_layer = np.argsort(flattened_truncated_all_layers, axis=1)"
   ]
  },
  {
   "cell_type": "code",
   "execution_count": null,
   "metadata": {},
   "outputs": [
    {
     "data": {
      "text/plain": [
       "(11, 10000000)"
      ]
     },
     "execution_count": 55,
     "metadata": {},
     "output_type": "execute_result"
    }
   ],
   "source": [
    "max_idxes_per_truncated_layer.shape"
   ]
  },
  {
   "cell_type": "code",
   "execution_count": null,
   "metadata": {},
   "outputs": [],
   "source": [
    "max_idxes_per_truncated_layer = np.argsort(flattened_truncated_all_layers, axis=1)[:, ::-1]"
   ]
  },
  {
   "cell_type": "code",
   "execution_count": null,
   "metadata": {},
   "outputs": [
    {
     "data": {
      "text/plain": [
       "array([[ 428763, 8625835, 6504290, ..., 6666278, 6666277,       0],\n",
       "       [2165419, 3002631, 1908935, ..., 6666239, 6666238,       0],\n",
       "       [6616806, 5856433,  377879, ..., 6666114, 6666113,       0],\n",
       "       ...,\n",
       "       [5929546, 6360067, 2372202, ..., 6665675, 6665674,       0],\n",
       "       [8329835, 1652166, 4556750, ..., 6665662, 6665661,       0],\n",
       "       [3487047, 5908041, 8123505, ..., 6665730, 6665729,       0]])"
      ]
     },
     "execution_count": 57,
     "metadata": {},
     "output_type": "execute_result"
    }
   ],
   "source": [
    "max_idxes_per_truncated_layer"
   ]
  },
  {
   "cell_type": "code",
   "execution_count": null,
   "metadata": {},
   "outputs": [
    {
     "data": {
      "text/plain": [
       "array([0.99888825, 0.9988738 , 0.9984707 , ..., 0.        , 0.        ,\n",
       "       0.        ], dtype=float32)"
      ]
     },
     "execution_count": 58,
     "metadata": {},
     "output_type": "execute_result"
    }
   ],
   "source": [
    "flattened_truncated_all_layers[0][max_idxes_per_truncated_layer[0]]"
   ]
  },
  {
   "cell_type": "code",
   "execution_count": null,
   "metadata": {},
   "outputs": [
    {
     "ename": "MemoryError",
     "evalue": "Unable to allocate 3.91 PiB for an array with shape (11, 10000000, 10000000) and data type float32",
     "output_type": "error",
     "traceback": [
      "\u001b[0;31m---------------------------------------------------------------------------\u001b[0m",
      "\u001b[0;31mMemoryError\u001b[0m                               Traceback (most recent call last)",
      "Cell \u001b[0;32mIn[59], line 1\u001b[0m\n\u001b[0;32m----> 1\u001b[0m flattened_truncated_all_layers[max_idxes_per_truncated_layer]\n",
      "\u001b[0;31mMemoryError\u001b[0m: Unable to allocate 3.91 PiB for an array with shape (11, 10000000, 10000000) and data type float32"
     ]
    }
   ],
   "source": [
    "flattened_truncated_all_layers[max_idxes_per_truncated_layer]"
   ]
  },
  {
   "cell_type": "code",
   "execution_count": null,
   "metadata": {},
   "outputs": [
    {
     "data": {
      "text/plain": [
       "array([[0., 0., 0., ..., 0., 0., 0.],\n",
       "       [0., 0., 0., ..., 0., 0., 0.],\n",
       "       [0., 0., 0., ..., 0., 0., 0.],\n",
       "       ...,\n",
       "       [0., 0., 0., ..., 0., 0., 0.],\n",
       "       [0., 0., 0., ..., 0., 0., 0.],\n",
       "       [0., 0., 0., ..., 0., 0., 0.]], dtype=float32)"
      ]
     },
     "execution_count": 60,
     "metadata": {},
     "output_type": "execute_result"
    }
   ],
   "source": [
    "flattened_truncated_all_layers"
   ]
  },
  {
   "cell_type": "code",
   "execution_count": null,
   "metadata": {},
   "outputs": [],
   "source": [
    "row_indices = np.arange(num_layers)[:, np.newaxis]"
   ]
  },
  {
   "cell_type": "code",
   "execution_count": null,
   "metadata": {},
   "outputs": [
    {
     "data": {
      "text/plain": [
       "array([[ 0],\n",
       "       [ 1],\n",
       "       [ 2],\n",
       "       [ 3],\n",
       "       [ 4],\n",
       "       [ 5],\n",
       "       [ 6],\n",
       "       [ 7],\n",
       "       [ 8],\n",
       "       [ 9],\n",
       "       [10]])"
      ]
     },
     "execution_count": 62,
     "metadata": {},
     "output_type": "execute_result"
    }
   ],
   "source": [
    "row_indices"
   ]
  },
  {
   "cell_type": "code",
   "execution_count": null,
   "metadata": {},
   "outputs": [
    {
     "data": {
      "text/plain": [
       "array([[0.99888825, 0.9988738 , 0.9984707 , ..., 0.        , 0.        ,\n",
       "        0.        ],\n",
       "       [0.9996799 , 0.9991207 , 0.9989581 , ..., 0.        , 0.        ,\n",
       "        0.        ],\n",
       "       [0.99889725, 0.998624  , 0.9984491 , ..., 0.        , 0.        ,\n",
       "        0.        ],\n",
       "       ...,\n",
       "       [0.99862796, 0.99834114, 0.9977249 , ..., 0.        , 0.        ,\n",
       "        0.        ],\n",
       "       [0.9958525 , 0.995499  , 0.9954634 , ..., 0.        , 0.        ,\n",
       "        0.        ],\n",
       "       [0.99604064, 0.9946885 , 0.99415433, ..., 0.        , 0.        ,\n",
       "        0.        ]], dtype=float32)"
      ]
     },
     "execution_count": 63,
     "metadata": {},
     "output_type": "execute_result"
    }
   ],
   "source": [
    "flattened_truncated_all_layers[row_indices, max_idxes_per_truncated_layer]"
   ]
  }
 ],
 "metadata": {
  "kernelspec": {
   "display_name": "spar",
   "language": "python",
   "name": "python3"
  },
  "language_info": {
   "codemirror_mode": {
    "name": "ipython",
    "version": 3
   },
   "file_extension": ".py",
   "mimetype": "text/x-python",
   "name": "python",
   "nbconvert_exporter": "python",
   "pygments_lexer": "ipython3",
   "version": "3.11.9"
  }
 },
 "nbformat": 4,
 "nbformat_minor": 2
}
